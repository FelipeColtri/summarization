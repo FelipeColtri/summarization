{
  "nbformat": 4,
  "nbformat_minor": 0,
  "metadata": {
    "colab": {
      "provenance": []
    },
    "kernelspec": {
      "name": "python3",
      "display_name": "Python 3"
    }
  },
  "cells": [
    {
      "cell_type": "markdown",
      "metadata": {
        "id": "IMuWhKBJ7bwV"
      },
      "source": [
        "# Sumarização de textos com o Algoritmo de Luhn\n",
        "\n",
        "- https://courses.ischool.berkeley.edu/i256/f06/papers/luhn58.pdf"
      ]
    },
    {
      "cell_type": "markdown",
      "metadata": {
        "id": "FyoFbahV8DCO"
      },
      "source": [
        "## Preparação do texto de exemplo"
      ]
    },
    {
      "cell_type": "code",
      "metadata": {
        "id": "tRsNZSWD_Jq7"
      },
      "source": [
        "# Importando as bibliotecas para o algoritmo\n",
        "import re\n",
        "import nltk\n",
        "import string\n",
        "import heapq"
      ],
      "execution_count": 1,
      "outputs": []
    },
    {
      "cell_type": "code",
      "metadata": {
        "colab": {
          "base_uri": "https://localhost:8080/"
        },
        "id": "sfW6Bf2SXwPQ",
        "outputId": "d576351a-ebd1-4b9a-b923-130b35f4ec6e"
      },
      "source": [
        "# Baixando a parte de tokenização do nltk\n",
        "nltk.download('punkt')"
      ],
      "execution_count": 2,
      "outputs": [
        {
          "output_type": "stream",
          "name": "stderr",
          "text": [
            "[nltk_data] Downloading package punkt to /root/nltk_data...\n",
            "[nltk_data]   Unzipping tokenizers/punkt.zip.\n"
          ]
        },
        {
          "output_type": "execute_result",
          "data": {
            "text/plain": [
              "True"
            ]
          },
          "metadata": {},
          "execution_count": 2
        }
      ]
    },
    {
      "cell_type": "code",
      "metadata": {
        "colab": {
          "base_uri": "https://localhost:8080/"
        },
        "id": "V8HVfsyBXw4c",
        "outputId": "4cf3e73a-9aaf-4e77-aa58-067df9b647cf"
      },
      "source": [
        "# Baixando a parte das stopwords do nltk\n",
        "nltk.download('stopwords')"
      ],
      "execution_count": 3,
      "outputs": [
        {
          "output_type": "stream",
          "name": "stderr",
          "text": [
            "[nltk_data] Downloading package stopwords to /root/nltk_data...\n",
            "[nltk_data]   Unzipping corpora/stopwords.zip.\n"
          ]
        },
        {
          "output_type": "execute_result",
          "data": {
            "text/plain": [
              "True"
            ]
          },
          "metadata": {},
          "execution_count": 3
        }
      ]
    },
    {
      "cell_type": "code",
      "metadata": {
        "colab": {
          "base_uri": "https://localhost:8080/",
          "height": 69
        },
        "id": "PU0J0FwYXOdl",
        "outputId": "635134f4-9571-4078-98b4-986558e7a320"
      },
      "source": [
        "# Texto de exemplo\n",
        "texto_original = \"\"\"A inteligência artificial é a inteligência similar à humana máquinas.\n",
        "                    Definem como o estudo de agente artificial com inteligência.\n",
        "                    Ciência e engenharia de produzir máquinas com inteligência.\n",
        "                    Resolver problemas e possuir inteligência.\n",
        "                    Relacionada ao comportamento inteligente.\n",
        "                    Construção de máquinas para raciocinar.\n",
        "                    Aprender com os erros e acertos.\n",
        "                    Inteligência artificial é raciocinar nas situações do cotidiano.\"\"\"\n",
        "# Romovendo os tabs e mais que um espaço em branco\n",
        "texto_original = re.sub(r'\\s+', ' ', texto_original)\n",
        "texto_original"
      ],
      "execution_count": 4,
      "outputs": [
        {
          "output_type": "execute_result",
          "data": {
            "text/plain": [
              "'A inteligência artificial é a inteligência similar à humana máquinas. Definem como o estudo de agente artificial com inteligência. Ciência e engenharia de produzir máquinas com inteligência. Resolver problemas e possuir inteligência. Relacionada ao comportamento inteligente. Construção de máquinas para raciocinar. Aprender com os erros e acertos. Inteligência artificial é raciocinar nas situações do cotidiano.'"
            ],
            "application/vnd.google.colaboratory.intrinsic+json": {
              "type": "string"
            }
          },
          "metadata": {},
          "execution_count": 4
        }
      ]
    },
    {
      "cell_type": "code",
      "metadata": {
        "colab": {
          "base_uri": "https://localhost:8080/"
        },
        "id": "d5HzeK-gXptq",
        "outputId": "791af4bc-9d13-4deb-b5a0-632f4f8fd8e9"
      },
      "source": [
        "# Mostrando as stopwords da língua portuguesa\n",
        "stopwords = nltk.corpus.stopwords.words('portuguese')\n",
        "print(stopwords)"
      ],
      "execution_count": 5,
      "outputs": [
        {
          "output_type": "stream",
          "name": "stdout",
          "text": [
            "['a', 'à', 'ao', 'aos', 'aquela', 'aquelas', 'aquele', 'aqueles', 'aquilo', 'as', 'às', 'até', 'com', 'como', 'da', 'das', 'de', 'dela', 'delas', 'dele', 'deles', 'depois', 'do', 'dos', 'e', 'é', 'ela', 'elas', 'ele', 'eles', 'em', 'entre', 'era', 'eram', 'éramos', 'essa', 'essas', 'esse', 'esses', 'esta', 'está', 'estamos', 'estão', 'estar', 'estas', 'estava', 'estavam', 'estávamos', 'este', 'esteja', 'estejam', 'estejamos', 'estes', 'esteve', 'estive', 'estivemos', 'estiver', 'estivera', 'estiveram', 'estivéramos', 'estiverem', 'estivermos', 'estivesse', 'estivessem', 'estivéssemos', 'estou', 'eu', 'foi', 'fomos', 'for', 'fora', 'foram', 'fôramos', 'forem', 'formos', 'fosse', 'fossem', 'fôssemos', 'fui', 'há', 'haja', 'hajam', 'hajamos', 'hão', 'havemos', 'haver', 'hei', 'houve', 'houvemos', 'houver', 'houvera', 'houverá', 'houveram', 'houvéramos', 'houverão', 'houverei', 'houverem', 'houveremos', 'houveria', 'houveriam', 'houveríamos', 'houvermos', 'houvesse', 'houvessem', 'houvéssemos', 'isso', 'isto', 'já', 'lhe', 'lhes', 'mais', 'mas', 'me', 'mesmo', 'meu', 'meus', 'minha', 'minhas', 'muito', 'na', 'não', 'nas', 'nem', 'no', 'nos', 'nós', 'nossa', 'nossas', 'nosso', 'nossos', 'num', 'numa', 'o', 'os', 'ou', 'para', 'pela', 'pelas', 'pelo', 'pelos', 'por', 'qual', 'quando', 'que', 'quem', 'são', 'se', 'seja', 'sejam', 'sejamos', 'sem', 'ser', 'será', 'serão', 'serei', 'seremos', 'seria', 'seriam', 'seríamos', 'seu', 'seus', 'só', 'somos', 'sou', 'sua', 'suas', 'também', 'te', 'tem', 'tém', 'temos', 'tenha', 'tenham', 'tenhamos', 'tenho', 'terá', 'terão', 'terei', 'teremos', 'teria', 'teriam', 'teríamos', 'teu', 'teus', 'teve', 'tinha', 'tinham', 'tínhamos', 'tive', 'tivemos', 'tiver', 'tivera', 'tiveram', 'tivéramos', 'tiverem', 'tivermos', 'tivesse', 'tivessem', 'tivéssemos', 'tu', 'tua', 'tuas', 'um', 'uma', 'você', 'vocês', 'vos']\n"
          ]
        }
      ]
    },
    {
      "cell_type": "code",
      "metadata": {
        "id": "Sift0EXAMVVf",
        "colab": {
          "base_uri": "https://localhost:8080/"
        },
        "outputId": "d7964105-9a00-4343-b107-db4cffb865eb"
      },
      "source": [
        "# Adicionando mais algumas palavras nas stopwords, se necessário\n",
        "stopwords.append('ser')\n",
        "stopwords.append('além')\n",
        "stopwords.append('onde')\n",
        "\n",
        "print(stopwords)"
      ],
      "execution_count": 88,
      "outputs": [
        {
          "output_type": "stream",
          "name": "stdout",
          "text": [
            "['a', 'à', 'ao', 'aos', 'aquela', 'aquelas', 'aquele', 'aqueles', 'aquilo', 'as', 'às', 'até', 'com', 'como', 'da', 'das', 'de', 'dela', 'delas', 'dele', 'deles', 'depois', 'do', 'dos', 'e', 'é', 'ela', 'elas', 'ele', 'eles', 'em', 'entre', 'era', 'eram', 'éramos', 'essa', 'essas', 'esse', 'esses', 'esta', 'está', 'estamos', 'estão', 'estar', 'estas', 'estava', 'estavam', 'estávamos', 'este', 'esteja', 'estejam', 'estejamos', 'estes', 'esteve', 'estive', 'estivemos', 'estiver', 'estivera', 'estiveram', 'estivéramos', 'estiverem', 'estivermos', 'estivesse', 'estivessem', 'estivéssemos', 'estou', 'eu', 'foi', 'fomos', 'for', 'fora', 'foram', 'fôramos', 'forem', 'formos', 'fosse', 'fossem', 'fôssemos', 'fui', 'há', 'haja', 'hajam', 'hajamos', 'hão', 'havemos', 'haver', 'hei', 'houve', 'houvemos', 'houver', 'houvera', 'houverá', 'houveram', 'houvéramos', 'houverão', 'houverei', 'houverem', 'houveremos', 'houveria', 'houveriam', 'houveríamos', 'houvermos', 'houvesse', 'houvessem', 'houvéssemos', 'isso', 'isto', 'já', 'lhe', 'lhes', 'mais', 'mas', 'me', 'mesmo', 'meu', 'meus', 'minha', 'minhas', 'muito', 'na', 'não', 'nas', 'nem', 'no', 'nos', 'nós', 'nossa', 'nossas', 'nosso', 'nossos', 'num', 'numa', 'o', 'os', 'ou', 'para', 'pela', 'pelas', 'pelo', 'pelos', 'por', 'qual', 'quando', 'que', 'quem', 'são', 'se', 'seja', 'sejam', 'sejamos', 'sem', 'ser', 'será', 'serão', 'serei', 'seremos', 'seria', 'seriam', 'seríamos', 'seu', 'seus', 'só', 'somos', 'sou', 'sua', 'suas', 'também', 'te', 'tem', 'tém', 'temos', 'tenha', 'tenham', 'tenhamos', 'tenho', 'terá', 'terão', 'terei', 'teremos', 'teria', 'teriam', 'teríamos', 'teu', 'teus', 'teve', 'tinha', 'tinham', 'tínhamos', 'tive', 'tivemos', 'tiver', 'tivera', 'tiveram', 'tivéramos', 'tiverem', 'tivermos', 'tivesse', 'tivessem', 'tivéssemos', 'tu', 'tua', 'tuas', 'um', 'uma', 'você', 'vocês', 'vos', 'ser', 'além', 'ser', 'além', 'ser', 'além', 'onde']\n"
          ]
        }
      ]
    },
    {
      "cell_type": "code",
      "metadata": {
        "id": "NEO2TB_EXbas"
      },
      "source": [
        "# Função para formatar o texto, onde é tokenizado, removido pontuações e dígitos\n",
        "def preprocessamento(texto):\n",
        "  texto_formatado = texto.lower()\n",
        "  tokens = []\n",
        "  for token in nltk.word_tokenize(texto_formatado):\n",
        "    tokens.append(token)\n",
        "\n",
        "  tokens = [palavra for palavra in tokens if palavra not in stopwords and palavra not in string.punctuation]\n",
        "  texto_formatado = ' '.join([str(elemento) for elemento in tokens if not elemento.isdigit()])\n",
        "\n",
        "  return texto_formatado"
      ],
      "execution_count": 7,
      "outputs": []
    },
    {
      "cell_type": "markdown",
      "metadata": {
        "id": "7p82fIty8K3n"
      },
      "source": [
        "## Função para calcular a nota das sentenças"
      ]
    },
    {
      "cell_type": "code",
      "metadata": {
        "id": "INrsd_dyv4Da",
        "colab": {
          "base_uri": "https://localhost:8080/"
        },
        "outputId": "eb9de037-4693-4d08-cb18-bc9d6f63d4be"
      },
      "source": [
        "# Exemplo de como funciona a função index de um vetor\n",
        "teste = ['a', 'b', 'c']\n",
        "teste.index('b')"
      ],
      "execution_count": 8,
      "outputs": [
        {
          "output_type": "execute_result",
          "data": {
            "text/plain": [
              "1"
            ]
          },
          "metadata": {},
          "execution_count": 8
        }
      ]
    },
    {
      "cell_type": "code",
      "metadata": {
        "id": "TWsTkOxbtUQy"
      },
      "source": [
        "# Função para dar notas para as sentenças mais relevantes\n",
        "def calcula_nota_sentenca(sentencas, palavras_importantes, distancia):\n",
        "  notas = []\n",
        "  indice_sentenca = 0\n",
        "\n",
        "  # Passa por todas as sentenças tokenizando as palavras em minúsculo, o resultado é um array de palavras com cada sentença por vez\n",
        "  for sentenca in [nltk.word_tokenize(s.lower()) for s in sentencas]:\n",
        "    # O indices onde estão possicionados cada palavras dentro da sentença\n",
        "    indice_palavra = []\n",
        "\n",
        "    # Percorre cada palavra importante e tenta adicionar o indice dela em indice_palavra\n",
        "    for palavra in palavras_importantes:\n",
        "      # Se a palavra das palavras importantes está no array de sentença, então adiciona o indice dela no array de infices de palavras\n",
        "      if palavra in sentenca:\n",
        "        indice_palavra.append(sentenca.index(palavra))\n",
        "      #try:\n",
        "      #  indice_palavra.append(sentenca.index(palavra))\n",
        "      #except ValueError:\n",
        "      #  pass\n",
        "\n",
        "    # Ordena os indices\n",
        "    indice_palavra.sort()\n",
        "\n",
        "    # Se o array de indices estiver vázio volte no inicio do for\n",
        "    if len(indice_palavra) == 0:\n",
        "      indice_sentenca += 1 # senão sempre segue a ordem do indice e as sentenças vázias (sem palavras importantes) são passadas\n",
        "      continue\n",
        "\n",
        "    # arrays para o grupo de lavras\n",
        "    lista_grupos = []\n",
        "    grupo = [indice_palavra[0]]\n",
        "    qtd_palavras_importantes_grupo = []\n",
        "\n",
        "    # Parte do algoritmo de Luhn que verifica as distâncias entre as palavras em uma sentença e separa em grupos\n",
        "    for i in range(1, len(indice_palavra)):\n",
        "      if indice_palavra[i] - indice_palavra[i - 1] < distancia:\n",
        "        grupo.append(indice_palavra[i])\n",
        "      else:\n",
        "        lista_grupos.append(grupo)\n",
        "        qtd_palavras_importantes_grupo.append(len(grupo))\n",
        "        grupo = [indice_palavra[i]]\n",
        "\n",
        "    # Adiciona o último grupo na lista de grupos e tamanho\n",
        "    lista_grupos.append(grupo)\n",
        "    qtd_palavras_importantes_grupo.append(len(grupo))\n",
        "\n",
        "    # Passa por cada grupo e da a nota segundo o algoritmo (importante^2/total)\n",
        "    nota_maxima_grupo = 0\n",
        "    for indice, grupo in enumerate(lista_grupos):\n",
        "      # ORIGINAL ????????????????????????????????\n",
        "      # palavras_importantes_no_grupo = len(grupo)\n",
        "      # total_palavras_no_grupo = grupo[-1] - grupo[0] + 1\n",
        "\n",
        "      # nota = qtd_palavras_importantes_grupo^2 / total_palavras_grupo\n",
        "      nota = 1.0 * qtd_palavras_importantes_grupo[indice]**2 / len(grupo)\n",
        "\n",
        "      # A maior nota de cada grupo é a nota da sentença\n",
        "      if nota > nota_maxima_grupo:\n",
        "        nota_maxima_grupo = nota\n",
        "\n",
        "\n",
        "    notas.append((nota_maxima_grupo, indice_sentenca))\n",
        "    indice_sentenca += 1\n",
        "\n",
        "  return notas"
      ],
      "execution_count": 9,
      "outputs": []
    },
    {
      "cell_type": "markdown",
      "metadata": {
        "id": "LhfqSOJL8URO"
      },
      "source": [
        "## Função para sumarizar os textos"
      ]
    },
    {
      "cell_type": "code",
      "metadata": {
        "id": "9yo5Xr9Up6RC"
      },
      "source": [
        "def sumarizar(texto, top_n_palavras, distancia, quantidade_sentencas):\n",
        "  # Separa os tokens em sentenças\n",
        "  sentencas_originais = [sentenca for sentenca in nltk.sent_tokenize(texto)]\n",
        "\n",
        "  # Formatando as sentenças utilizando a função de processamento criada anteriormente\n",
        "  sentencas_formatadas = [preprocessamento(sentenca_original) for sentenca_original in sentencas_originais]\n",
        "\n",
        "  # Separa os tokens em palavras\n",
        "  palavras = [palavra for sentenca in sentencas_formatadas for palavra in nltk.word_tokenize(sentenca)]\n",
        "\n",
        "  # Cálcula a frequência das palavras que aparecem\n",
        "  frequencia = nltk.FreqDist(palavras)\n",
        "\n",
        "  # Pega as palavras ([0] = chave) com mais frequências utilizadas\n",
        "  top_palavras = [palavra[0] for palavra in frequencia.most_common(top_n_palavras)]\n",
        "\n",
        "  # Chama a função para calcular as notas das sentenças\n",
        "  notas_sentencas = calcula_nota_sentenca(sentencas_formatadas, top_palavras, distancia)\n",
        "\n",
        "  # Faz a seleção das melhores notas (por indice)\n",
        "  melhores_sentencas = heapq.nlargest(quantidade_sentencas, notas_sentencas)\n",
        "\n",
        "  # Buscando o texto das sentenças\n",
        "  melhores_sentencas = [sentencas_originais[i] for (nota, i) in melhores_sentencas]\n",
        "\n",
        "  return sentencas_originais, melhores_sentencas, notas_sentencas"
      ],
      "execution_count": 13,
      "outputs": []
    },
    {
      "cell_type": "code",
      "metadata": {
        "id": "L4zykNiDqggt"
      },
      "source": [
        "sentencas_originais, melhores_sentencas, notas_sentencas = sumarizar(texto_original, 5, 3, 3)"
      ],
      "execution_count": 15,
      "outputs": []
    },
    {
      "cell_type": "code",
      "metadata": {
        "colab": {
          "base_uri": "https://localhost:8080/"
        },
        "id": "F_ppirJdA51L",
        "outputId": "c93894f2-63fb-45cd-d593-539241e33a3f"
      },
      "source": [
        "sentencas_originais"
      ],
      "execution_count": 14,
      "outputs": [
        {
          "output_type": "execute_result",
          "data": {
            "text/plain": [
              "['A inteligência artificial é a inteligência similar à humana máquinas.',\n",
              " 'Definem como o estudo de agente artificial com inteligência.',\n",
              " 'Ciência e engenharia de produzir máquinas com inteligência.',\n",
              " 'Resolver problemas e possuir inteligência.',\n",
              " 'Relacionada ao comportamento inteligente.',\n",
              " 'Construção de máquinas para raciocinar.',\n",
              " 'Aprender com os erros e acertos.',\n",
              " 'Inteligência artificial é raciocinar nas situações do cotidiano.']"
            ]
          },
          "metadata": {},
          "execution_count": 14
        }
      ]
    },
    {
      "cell_type": "code",
      "metadata": {
        "colab": {
          "base_uri": "https://localhost:8080/"
        },
        "id": "8PPYYkadA84m",
        "outputId": "c1bd9941-8802-4776-b7a7-c79ded782148"
      },
      "source": [
        "melhores_sentencas"
      ],
      "execution_count": 16,
      "outputs": [
        {
          "output_type": "execute_result",
          "data": {
            "text/plain": [
              "['A inteligência artificial é a inteligência similar à humana máquinas.',\n",
              " 'Inteligência artificial é raciocinar nas situações do cotidiano.',\n",
              " 'Construção de máquinas para raciocinar.']"
            ]
          },
          "metadata": {},
          "execution_count": 16
        }
      ]
    },
    {
      "cell_type": "code",
      "metadata": {
        "colab": {
          "base_uri": "https://localhost:8080/"
        },
        "id": "rtf6_iuVA--K",
        "outputId": "21aa8435-328d-4e26-d5d6-16853df7ab1d"
      },
      "source": [
        "notas_sentencas"
      ],
      "execution_count": 17,
      "outputs": [
        {
          "output_type": "execute_result",
          "data": {
            "text/plain": [
              "[(4.0, 0), (2.0, 1), (2.0, 2), (1.0, 3), (2.0, 5), (3.0, 7)]"
            ]
          },
          "metadata": {},
          "execution_count": 17
        }
      ]
    },
    {
      "cell_type": "markdown",
      "metadata": {
        "id": "BmPW7rqN8Zkb"
      },
      "source": [
        "## Visualização do resumo"
      ]
    },
    {
      "cell_type": "code",
      "metadata": {
        "id": "AVz3pH3g54Fz"
      },
      "source": [
        "# Função para destacar o texto importante do original\n",
        "def visualiza_resumo(titulo, lista_sentencas, melhores_sentencas):\n",
        "  from IPython.core.display import HTML\n",
        "  texto = ''\n",
        "\n",
        "  display(HTML(f'<h1>Resumo do texto - {titulo}</h1>'))\n",
        "  for i in lista_sentencas:\n",
        "    if i in melhores_sentencas:\n",
        "      texto += str(i).replace(i, f\"<mark>{i}</mark>\")\n",
        "    else:\n",
        "      texto += i\n",
        "  display(HTML(f\"\"\" {texto} \"\"\"))"
      ],
      "execution_count": 18,
      "outputs": []
    },
    {
      "cell_type": "code",
      "metadata": {
        "colab": {
          "base_uri": "https://localhost:8080/",
          "height": 127
        },
        "id": "6XcxVpnLCVbc",
        "outputId": "9b4f84b1-17ef-47b6-a662-3f066fc4cb1c"
      },
      "source": [
        "visualiza_resumo('Teste', sentencas_originais, melhores_sentencas)"
      ],
      "execution_count": 19,
      "outputs": [
        {
          "output_type": "display_data",
          "data": {
            "text/plain": [
              "<IPython.core.display.HTML object>"
            ],
            "text/html": [
              "<h1>Resumo do texto - Teste</h1>"
            ]
          },
          "metadata": {}
        },
        {
          "output_type": "display_data",
          "data": {
            "text/plain": [
              "<IPython.core.display.HTML object>"
            ],
            "text/html": [
              " <mark>A inteligência artificial é a inteligência similar à humana máquinas.</mark>Definem como o estudo de agente artificial com inteligência.Ciência e engenharia de produzir máquinas com inteligência.Resolver problemas e possuir inteligência.Relacionada ao comportamento inteligente.<mark>Construção de máquinas para raciocinar.</mark>Aprender com os erros e acertos.<mark>Inteligência artificial é raciocinar nas situações do cotidiano.</mark> "
            ]
          },
          "metadata": {}
        }
      ]
    },
    {
      "cell_type": "markdown",
      "metadata": {
        "id": "o8UrZUOL-mYx"
      },
      "source": [
        "## Extração de texto da internet"
      ]
    },
    {
      "cell_type": "code",
      "metadata": {
        "id": "ksWWfLtO3P18",
        "colab": {
          "base_uri": "https://localhost:8080/"
        },
        "outputId": "2df6b1c3-ab02-4599-c66f-cced068ad7ce"
      },
      "source": [
        "!pip install goose3"
      ],
      "execution_count": 20,
      "outputs": [
        {
          "output_type": "stream",
          "name": "stdout",
          "text": [
            "Collecting goose3\n",
            "  Downloading goose3-3.1.17-py3-none-any.whl (88 kB)\n",
            "\u001b[?25l     \u001b[90m━━━━━━━━━━━━━━━━━━━━━━━━━━━━━━━━━━━━━━━━\u001b[0m \u001b[32m0.0/88.7 kB\u001b[0m \u001b[31m?\u001b[0m eta \u001b[36m-:--:--\u001b[0m\r\u001b[2K     \u001b[91m━━━━━━━━━━━━━━━━━━━━━━━━━━━━━━━━━━━━\u001b[0m\u001b[91m╸\u001b[0m\u001b[90m━━━\u001b[0m \u001b[32m81.9/88.7 kB\u001b[0m \u001b[31m2.4 MB/s\u001b[0m eta \u001b[36m0:00:01\u001b[0m\r\u001b[2K     \u001b[90m━━━━━━━━━━━━━━━━━━━━━━━━━━━━━━━━━━━━━━━━\u001b[0m \u001b[32m88.7/88.7 kB\u001b[0m \u001b[31m2.1 MB/s\u001b[0m eta \u001b[36m0:00:00\u001b[0m\n",
            "\u001b[?25hRequirement already satisfied: requests in /usr/local/lib/python3.10/dist-packages (from goose3) (2.31.0)\n",
            "Requirement already satisfied: Pillow in /usr/local/lib/python3.10/dist-packages (from goose3) (9.4.0)\n",
            "Requirement already satisfied: lxml in /usr/local/lib/python3.10/dist-packages (from goose3) (4.9.3)\n",
            "Collecting cssselect (from goose3)\n",
            "  Downloading cssselect-1.2.0-py2.py3-none-any.whl (18 kB)\n",
            "Requirement already satisfied: beautifulsoup4 in /usr/local/lib/python3.10/dist-packages (from goose3) (4.11.2)\n",
            "Requirement already satisfied: python-dateutil in /usr/local/lib/python3.10/dist-packages (from goose3) (2.8.2)\n",
            "Collecting langdetect (from goose3)\n",
            "  Downloading langdetect-1.0.9.tar.gz (981 kB)\n",
            "\u001b[2K     \u001b[90m━━━━━━━━━━━━━━━━━━━━━━━━━━━━━━━━━━━━━━━━\u001b[0m \u001b[32m981.5/981.5 kB\u001b[0m \u001b[31m8.9 MB/s\u001b[0m eta \u001b[36m0:00:00\u001b[0m\n",
            "\u001b[?25h  Preparing metadata (setup.py) ... \u001b[?25l\u001b[?25hdone\n",
            "Collecting pyahocorasick (from goose3)\n",
            "  Downloading pyahocorasick-2.0.0-cp310-cp310-manylinux_2_5_x86_64.manylinux1_x86_64.manylinux_2_12_x86_64.manylinux2010_x86_64.whl (110 kB)\n",
            "\u001b[2K     \u001b[90m━━━━━━━━━━━━━━━━━━━━━━━━━━━━━━━━━━━━━━━━\u001b[0m \u001b[32m110.8/110.8 kB\u001b[0m \u001b[31m9.4 MB/s\u001b[0m eta \u001b[36m0:00:00\u001b[0m\n",
            "\u001b[?25hRequirement already satisfied: soupsieve>1.2 in /usr/local/lib/python3.10/dist-packages (from beautifulsoup4->goose3) (2.5)\n",
            "Requirement already satisfied: six in /usr/local/lib/python3.10/dist-packages (from langdetect->goose3) (1.16.0)\n",
            "Requirement already satisfied: charset-normalizer<4,>=2 in /usr/local/lib/python3.10/dist-packages (from requests->goose3) (3.3.2)\n",
            "Requirement already satisfied: idna<4,>=2.5 in /usr/local/lib/python3.10/dist-packages (from requests->goose3) (3.6)\n",
            "Requirement already satisfied: urllib3<3,>=1.21.1 in /usr/local/lib/python3.10/dist-packages (from requests->goose3) (2.0.7)\n",
            "Requirement already satisfied: certifi>=2017.4.17 in /usr/local/lib/python3.10/dist-packages (from requests->goose3) (2023.11.17)\n",
            "Building wheels for collected packages: langdetect\n",
            "  Building wheel for langdetect (setup.py) ... \u001b[?25l\u001b[?25hdone\n",
            "  Created wheel for langdetect: filename=langdetect-1.0.9-py3-none-any.whl size=993225 sha256=aa5753e7697075722894c40fc6ee2a959c318872565ce0db4f08f4f690b471fc\n",
            "  Stored in directory: /root/.cache/pip/wheels/95/03/7d/59ea870c70ce4e5a370638b5462a7711ab78fba2f655d05106\n",
            "Successfully built langdetect\n",
            "Installing collected packages: pyahocorasick, langdetect, cssselect, goose3\n",
            "Successfully installed cssselect-1.2.0 goose3-3.1.17 langdetect-1.0.9 pyahocorasick-2.0.0\n"
          ]
        }
      ]
    },
    {
      "cell_type": "code",
      "metadata": {
        "id": "JQTtDxUS9Auu"
      },
      "source": [
        "# Importando a biblioteca para extração de texto na web\n",
        "from goose3 import Goose"
      ],
      "execution_count": 21,
      "outputs": []
    },
    {
      "cell_type": "code",
      "metadata": {
        "id": "ZxzCaIL79C2V"
      },
      "source": [
        "# Criando o objeto da classe e extraindo o texto da internet\n",
        "g = Goose()\n",
        "url = 'https://iaexpert.academy/2020/11/09/ia-preve-resultado-das-eleicoes-americanas/'\n",
        "artigo = g.extract(url)"
      ],
      "execution_count": 26,
      "outputs": []
    },
    {
      "cell_type": "code",
      "metadata": {
        "colab": {
          "base_uri": "https://localhost:8080/",
          "height": 157
        },
        "id": "D4kotD16-_nu",
        "outputId": "4d294d0b-4cdb-4894-87cf-8c9d08e3dfd2"
      },
      "source": [
        "artigo.cleaned_text"
      ],
      "execution_count": 25,
      "outputs": [
        {
          "output_type": "execute_result",
          "data": {
            "text/plain": [
              "'Nas eleições presidenciais americanas de 2016, a maioria das predições apontavam para a vitória de Hillary Clinton. Entretanto, a história nos mostrou o resultado oposto, e Donald Trump foi o presidente nos últimos 4 anos. Desta vez, os estatísticos reexaminaram seus modelos, para aumentar o grau de confiabilidade nos seus resultados. Nesta tentativa de otimização das predições, a inteligência artificial certamente não ficou de fora.\\n\\nO modelo desenvolvido pelo Dr. Hernan Makse, físico estatístico da Universidade da Cidade de Nova York, baseou suas predições em uma rede neural treinada para processar os sentimentos expressos nas redes sociais. O algoritmo fez a análise de cerca de 1 bilhão de tweets para chegar a uma estimativa dos resultados do pleito. No dia da eleição, 3 de novembro, o modelo estava indicando a vitória de Joe Biden.\\n\\nO Dr. Makse disse que seu trabalho começou já na eleição de 2016, e foi testado novamente nas eleições na Argentina ano passado. Desta vez, o modelo está treinando com cerca de 5 vezes mais dados que nas eleições americanas anteriores. O trabalho não depende apenas da coleta dos dados, mas também de um tratamento estatístico adequado para levar em consideração duas variáveis externas: o viés de amostragem e a taxa de comparecimento. O primeiro fator se refere ao fato de que as redes sociais não necessariamente representam a população americana. A participação em redes sociais costuma ser maior nas cidades grandes, que de fato têm preferência por um dos candidatos, e o modelo deve ser corrigido para levar em consideração também a opinião das pessoas que não são ativas neste ambiente virtual. O segundo fator se deve à não-obrigatoriedade de votação nos Estados Unidos, ou seja, por mais que uma pessoa tenha sua preferência, pode ser que ela não compareça aos locais de votação para efetivá-la. Segundo o Dr. Makse, integrar estas duas variáveis em seu modelo é a parte mais importante do trabalho. Ele acredita ser esta uma das razões para que as estimativas da última eleição, baseadas em métodos tradicionais de coleta de informação, terem falhado. Sua equipe acompanhou as tendências apresentadas nas últimas eleições na Europa, e os modelos estão se revelando cada vez melhores.\\n\\nQuando seu modelo foi usado para predizer os resultados da eleição corrente usando dados brutos, Joe Biden apareceu como vencedor com larga vantagem. Após aplicar os mecanismos de correção para os dois vieses identificados, a vantagem diminuiu, mas Biden ainda é indicado como favorito.\\n\\nParece que, desta vez, os algoritmos estão de fato contribuindo para que as predições sejam mais precisas.'"
            ],
            "application/vnd.google.colaboratory.intrinsic+json": {
              "type": "string"
            }
          },
          "metadata": {},
          "execution_count": 25
        }
      ]
    },
    {
      "cell_type": "code",
      "metadata": {
        "id": "kC8aOyABC4dn"
      },
      "source": [
        "sentencas_originais, melhores_sentencas, notas_sentencas = sumarizar(artigo.cleaned_text, 300, 10, 5)"
      ],
      "execution_count": 27,
      "outputs": []
    },
    {
      "cell_type": "code",
      "metadata": {
        "colab": {
          "base_uri": "https://localhost:8080/"
        },
        "id": "WvZbr3q3DWTi",
        "outputId": "a9254be4-9435-4af7-f1dd-b42a2eda19f1"
      },
      "source": [
        "sentencas_originais"
      ],
      "execution_count": 28,
      "outputs": [
        {
          "output_type": "execute_result",
          "data": {
            "text/plain": [
              "['Nas eleições presidenciais americanas de 2016, a maioria das predições apontavam para a vitória de Hillary Clinton.',\n",
              " 'Entretanto, a história nos mostrou o resultado oposto, e Donald Trump foi o presidente nos últimos 4 anos.',\n",
              " 'Desta vez, os estatísticos reexaminaram seus modelos, para aumentar o grau de confiabilidade nos seus resultados.',\n",
              " 'Nesta tentativa de otimização das predições, a inteligência artificial certamente não ficou de fora.',\n",
              " 'O modelo desenvolvido pelo Dr. Hernan Makse, físico estatístico da Universidade da Cidade de Nova York, baseou suas predições em uma rede neural treinada para processar os sentimentos expressos nas redes sociais.',\n",
              " 'O algoritmo fez a análise de cerca de 1 bilhão de tweets para chegar a uma estimativa dos resultados do pleito.',\n",
              " 'No dia da eleição, 3 de novembro, o modelo estava indicando a vitória de Joe Biden.',\n",
              " 'O Dr. Makse disse que seu trabalho começou já na eleição de 2016, e foi testado novamente nas eleições na Argentina ano passado.',\n",
              " 'Desta vez, o modelo está treinando com cerca de 5 vezes mais dados que nas eleições americanas anteriores.',\n",
              " 'O trabalho não depende apenas da coleta dos dados, mas também de um tratamento estatístico adequado para levar em consideração duas variáveis externas: o viés de amostragem e a taxa de comparecimento.',\n",
              " 'O primeiro fator se refere ao fato de que as redes sociais não necessariamente representam a população americana.',\n",
              " 'A participação em redes sociais costuma ser maior nas cidades grandes, que de fato têm preferência por um dos candidatos, e o modelo deve ser corrigido para levar em consideração também a opinião das pessoas que não são ativas neste ambiente virtual.',\n",
              " 'O segundo fator se deve à não-obrigatoriedade de votação nos Estados Unidos, ou seja, por mais que uma pessoa tenha sua preferência, pode ser que ela não compareça aos locais de votação para efetivá-la.',\n",
              " 'Segundo o Dr. Makse, integrar estas duas variáveis em seu modelo é a parte mais importante do trabalho.',\n",
              " 'Ele acredita ser esta uma das razões para que as estimativas da última eleição, baseadas em métodos tradicionais de coleta de informação, terem falhado.',\n",
              " 'Sua equipe acompanhou as tendências apresentadas nas últimas eleições na Europa, e os modelos estão se revelando cada vez melhores.',\n",
              " 'Quando seu modelo foi usado para predizer os resultados da eleição corrente usando dados brutos, Joe Biden apareceu como vencedor com larga vantagem.',\n",
              " 'Após aplicar os mecanismos de correção para os dois vieses identificados, a vantagem diminuiu, mas Biden ainda é indicado como favorito.',\n",
              " 'Parece que, desta vez, os algoritmos estão de fato contribuindo para que as predições sejam mais precisas.']"
            ]
          },
          "metadata": {},
          "execution_count": 28
        }
      ]
    },
    {
      "cell_type": "code",
      "metadata": {
        "colab": {
          "base_uri": "https://localhost:8080/"
        },
        "id": "gvWhd4wmDY0r",
        "outputId": "66dd7d28-3fa8-4d56-a77e-b2435ca114ea"
      },
      "source": [
        "melhores_sentencas"
      ],
      "execution_count": 29,
      "outputs": [
        {
          "output_type": "execute_result",
          "data": {
            "text/plain": [
              "['A participação em redes sociais costuma ser maior nas cidades grandes, que de fato têm preferência por um dos candidatos, e o modelo deve ser corrigido para levar em consideração também a opinião das pessoas que não são ativas neste ambiente virtual.',\n",
              " 'O modelo desenvolvido pelo Dr. Hernan Makse, físico estatístico da Universidade da Cidade de Nova York, baseou suas predições em uma rede neural treinada para processar os sentimentos expressos nas redes sociais.',\n",
              " 'O trabalho não depende apenas da coleta dos dados, mas também de um tratamento estatístico adequado para levar em consideração duas variáveis externas: o viés de amostragem e a taxa de comparecimento.',\n",
              " 'Quando seu modelo foi usado para predizer os resultados da eleição corrente usando dados brutos, Joe Biden apareceu como vencedor com larga vantagem.',\n",
              " 'Após aplicar os mecanismos de correção para os dois vieses identificados, a vantagem diminuiu, mas Biden ainda é indicado como favorito.']"
            ]
          },
          "metadata": {},
          "execution_count": 29
        }
      ]
    },
    {
      "cell_type": "code",
      "metadata": {
        "colab": {
          "base_uri": "https://localhost:8080/"
        },
        "id": "hTX9a3OeDec_",
        "outputId": "55c87e9a-3bb0-4cc7-b782-5aee3b7c3297"
      },
      "source": [
        "notas_sentencas"
      ],
      "execution_count": 30,
      "outputs": [
        {
          "output_type": "execute_result",
          "data": {
            "text/plain": [
              "[(9.0, 0),\n",
              " (10.0, 1),\n",
              " (9.0, 2),\n",
              " (8.0, 3),\n",
              " (21.0, 4),\n",
              " (10.0, 5),\n",
              " (8.0, 6),\n",
              " (12.0, 7),\n",
              " (10.0, 8),\n",
              " (17.0, 9),\n",
              " (10.0, 10),\n",
              " (22.0, 11),\n",
              " (13.0, 12),\n",
              " (10.0, 13),\n",
              " (12.0, 14),\n",
              " (12.0, 15),\n",
              " (15.0, 16),\n",
              " (13.0, 17),\n",
              " (8.0, 18)]"
            ]
          },
          "metadata": {},
          "execution_count": 30
        }
      ]
    },
    {
      "cell_type": "code",
      "metadata": {
        "colab": {
          "base_uri": "https://localhost:8080/",
          "height": 370
        },
        "id": "1p6IDswlDvxR",
        "outputId": "78127789-8de7-4fb8-812f-c524c0e188f0"
      },
      "source": [
        "visualiza_resumo(artigo.title, sentencas_originais, melhores_sentencas)"
      ],
      "execution_count": 31,
      "outputs": [
        {
          "output_type": "display_data",
          "data": {
            "text/plain": [
              "<IPython.core.display.HTML object>"
            ],
            "text/html": [
              "<h1>Resumo do texto - IA prevê resultado das eleições americanas</h1>"
            ]
          },
          "metadata": {}
        },
        {
          "output_type": "display_data",
          "data": {
            "text/plain": [
              "<IPython.core.display.HTML object>"
            ],
            "text/html": [
              " Nas eleições presidenciais americanas de 2016, a maioria das predições apontavam para a vitória de Hillary Clinton.Entretanto, a história nos mostrou o resultado oposto, e Donald Trump foi o presidente nos últimos 4 anos.Desta vez, os estatísticos reexaminaram seus modelos, para aumentar o grau de confiabilidade nos seus resultados.Nesta tentativa de otimização das predições, a inteligência artificial certamente não ficou de fora.<mark>O modelo desenvolvido pelo Dr. Hernan Makse, físico estatístico da Universidade da Cidade de Nova York, baseou suas predições em uma rede neural treinada para processar os sentimentos expressos nas redes sociais.</mark>O algoritmo fez a análise de cerca de 1 bilhão de tweets para chegar a uma estimativa dos resultados do pleito.No dia da eleição, 3 de novembro, o modelo estava indicando a vitória de Joe Biden.O Dr. Makse disse que seu trabalho começou já na eleição de 2016, e foi testado novamente nas eleições na Argentina ano passado.Desta vez, o modelo está treinando com cerca de 5 vezes mais dados que nas eleições americanas anteriores.<mark>O trabalho não depende apenas da coleta dos dados, mas também de um tratamento estatístico adequado para levar em consideração duas variáveis externas: o viés de amostragem e a taxa de comparecimento.</mark>O primeiro fator se refere ao fato de que as redes sociais não necessariamente representam a população americana.<mark>A participação em redes sociais costuma ser maior nas cidades grandes, que de fato têm preferência por um dos candidatos, e o modelo deve ser corrigido para levar em consideração também a opinião das pessoas que não são ativas neste ambiente virtual.</mark>O segundo fator se deve à não-obrigatoriedade de votação nos Estados Unidos, ou seja, por mais que uma pessoa tenha sua preferência, pode ser que ela não compareça aos locais de votação para efetivá-la.Segundo o Dr. Makse, integrar estas duas variáveis em seu modelo é a parte mais importante do trabalho.Ele acredita ser esta uma das razões para que as estimativas da última eleição, baseadas em métodos tradicionais de coleta de informação, terem falhado.Sua equipe acompanhou as tendências apresentadas nas últimas eleições na Europa, e os modelos estão se revelando cada vez melhores.<mark>Quando seu modelo foi usado para predizer os resultados da eleição corrente usando dados brutos, Joe Biden apareceu como vencedor com larga vantagem.</mark><mark>Após aplicar os mecanismos de correção para os dois vieses identificados, a vantagem diminuiu, mas Biden ainda é indicado como favorito.</mark>Parece que, desta vez, os algoritmos estão de fato contribuindo para que as predições sejam mais precisas. "
            ]
          },
          "metadata": {}
        }
      ]
    },
    {
      "cell_type": "markdown",
      "metadata": {
        "id": "0DHdrCN8EKOa"
      },
      "source": [
        "## Leitura de artigos de feed de notícias (RSS)"
      ]
    },
    {
      "cell_type": "code",
      "metadata": {
        "id": "JvugcOKcGQDq",
        "colab": {
          "base_uri": "https://localhost:8080/"
        },
        "outputId": "b901ec2c-2b62-4808-fb1a-2524ff650d98"
      },
      "source": [
        "!pip install feedparser"
      ],
      "execution_count": 32,
      "outputs": [
        {
          "output_type": "stream",
          "name": "stdout",
          "text": [
            "Collecting feedparser\n",
            "  Downloading feedparser-6.0.11-py3-none-any.whl (81 kB)\n",
            "\u001b[2K     \u001b[90m━━━━━━━━━━━━━━━━━━━━━━━━━━━━━━━━━━━━━━━━\u001b[0m \u001b[32m81.3/81.3 kB\u001b[0m \u001b[31m1.4 MB/s\u001b[0m eta \u001b[36m0:00:00\u001b[0m\n",
            "\u001b[?25hCollecting sgmllib3k (from feedparser)\n",
            "  Downloading sgmllib3k-1.0.0.tar.gz (5.8 kB)\n",
            "  Preparing metadata (setup.py) ... \u001b[?25l\u001b[?25hdone\n",
            "Building wheels for collected packages: sgmllib3k\n",
            "  Building wheel for sgmllib3k (setup.py) ... \u001b[?25l\u001b[?25hdone\n",
            "  Created wheel for sgmllib3k: filename=sgmllib3k-1.0.0-py3-none-any.whl size=6048 sha256=91ff95970182b517b3321e52c0be9d839bf9ec74b52bf23ecb797f600bb04305\n",
            "  Stored in directory: /root/.cache/pip/wheels/f0/69/93/a47e9d621be168e9e33c7ce60524393c0b92ae83cf6c6e89c5\n",
            "Successfully built sgmllib3k\n",
            "Installing collected packages: sgmllib3k, feedparser\n",
            "Successfully installed feedparser-6.0.11 sgmllib3k-1.0.0\n"
          ]
        }
      ]
    },
    {
      "cell_type": "code",
      "metadata": {
        "id": "PT30bQqfG96-"
      },
      "source": [
        "# Baixando a biblioteca para ler textos de feed de notícias\n",
        "import feedparser"
      ],
      "execution_count": 34,
      "outputs": []
    },
    {
      "cell_type": "code",
      "metadata": {
        "id": "eo7vQ3nWHA0P"
      },
      "source": [
        "# Outras bibliotecas para formatar e trabalhar com arquivos\n",
        "from bs4 import BeautifulSoup\n",
        "import os\n",
        "import json"
      ],
      "execution_count": 35,
      "outputs": []
    },
    {
      "cell_type": "code",
      "metadata": {
        "id": "MGl4SdBdHO8H"
      },
      "source": [
        "# Lendo o feed do links\n",
        "url = 'https://iaexpert.academy/feed/'\n",
        "feed = feedparser.parse(url)"
      ],
      "execution_count": 36,
      "outputs": []
    },
    {
      "cell_type": "code",
      "metadata": {
        "id": "gznt3ErFHZ-i",
        "colab": {
          "base_uri": "https://localhost:8080/"
        },
        "outputId": "f73dd07a-ccda-4f34-b073-6620a52d9589"
      },
      "source": [
        "# O contrúdo\n",
        "feed.entries"
      ],
      "execution_count": 38,
      "outputs": [
        {
          "output_type": "execute_result",
          "data": {
            "text/plain": [
              "[{'title': 'Novo método apresenta resultados inéditos para reconstrução de imagens mentais a partir de atividade cerebral',\n",
              "  'title_detail': {'type': 'text/plain',\n",
              "   'language': None,\n",
              "   'base': 'https://iaexpert.academy/feed/',\n",
              "   'value': 'Novo método apresenta resultados inéditos para reconstrução de imagens mentais a partir de atividade cerebral'},\n",
              "  'links': [{'rel': 'alternate',\n",
              "    'type': 'text/html',\n",
              "    'href': 'https://iaexpert.academy/2023/12/20/novo-metodo-apresenta-resultados-ineditos-para-reconstrucao-imagens-mentais-a-partir-atividade-cerebral/?utm_source=rss&utm_medium=rss&utm_campaign=novo-metodo-apresenta-resultados-ineditos-para-reconstrucao-imagens-mentais-a-partir-atividade-cerebral'}],\n",
              "  'link': 'https://iaexpert.academy/2023/12/20/novo-metodo-apresenta-resultados-ineditos-para-reconstrucao-imagens-mentais-a-partir-atividade-cerebral/?utm_source=rss&utm_medium=rss&utm_campaign=novo-metodo-apresenta-resultados-ineditos-para-reconstrucao-imagens-mentais-a-partir-atividade-cerebral',\n",
              "  'comments': 'https://iaexpert.academy/2023/12/20/novo-metodo-apresenta-resultados-ineditos-para-reconstrucao-imagens-mentais-a-partir-atividade-cerebral/#respond',\n",
              "  'authors': [{'name': 'Denny Ceccon'}],\n",
              "  'author': 'Denny Ceccon',\n",
              "  'author_detail': {'name': 'Denny Ceccon'},\n",
              "  'published': 'Wed, 20 Dec 2023 08:00:00 +0000',\n",
              "  'published_parsed': time.struct_time(tm_year=2023, tm_mon=12, tm_mday=20, tm_hour=8, tm_min=0, tm_sec=0, tm_wday=2, tm_yday=354, tm_isdst=0),\n",
              "  'tags': [{'term': 'Notícias', 'scheme': None, 'label': None},\n",
              "   {'term': 'Outros', 'scheme': None, 'label': None},\n",
              "   {'term': 'inteligência artificial', 'scheme': None, 'label': None},\n",
              "   {'term': 'visão computacional', 'scheme': None, 'label': None}],\n",
              "  'id': 'https://iaexpert.academy/?p=43226',\n",
              "  'guidislink': False,\n",
              "  'summary': '<p>Estudo inovador combina decodificação neural e IA para reconstruir imagens mentais, revelando avanços impressionantes na compreensão cerebral.</p>\\n<p>O post <a href=\"https://iaexpert.academy/2023/12/20/novo-metodo-apresenta-resultados-ineditos-para-reconstrucao-imagens-mentais-a-partir-atividade-cerebral/\" rel=\"nofollow\">Novo método apresenta resultados inéditos para reconstrução de imagens mentais a partir de atividade cerebral</a> apareceu primeiro em <a href=\"https://iaexpert.academy\" rel=\"nofollow\">IA Expert Academy</a>.</p>',\n",
              "  'summary_detail': {'type': 'text/html',\n",
              "   'language': None,\n",
              "   'base': 'https://iaexpert.academy/feed/',\n",
              "   'value': '<p>Estudo inovador combina decodificação neural e IA para reconstruir imagens mentais, revelando avanços impressionantes na compreensão cerebral.</p>\\n<p>O post <a href=\"https://iaexpert.academy/2023/12/20/novo-metodo-apresenta-resultados-ineditos-para-reconstrucao-imagens-mentais-a-partir-atividade-cerebral/\" rel=\"nofollow\">Novo método apresenta resultados inéditos para reconstrução de imagens mentais a partir de atividade cerebral</a> apareceu primeiro em <a href=\"https://iaexpert.academy\" rel=\"nofollow\">IA Expert Academy</a>.</p>'},\n",
              "  'content': [{'type': 'text/html',\n",
              "    'language': None,\n",
              "    'base': 'https://iaexpert.academy/feed/',\n",
              "    'value': '<p>No dinâmico cruzamento entre inteligência artificial e neurociência, uma das áreas mais fascinantes e desafiadoras corresponde à geração de informação estruturada a partir da atividade cerebral. Um <a href=\"https://www.sciencedirect.com/science/article/pii/S0893608023006470\">estudo</a> publicado por pesquisadores associados à Universidade de Osaka, no Japão, apresenta resultados inéditos para a reconstrução de imagens mentais, vistas ou imaginadas, em representações visuais, literalmente traduzindo pensamentos.</p>\\n\\n\\n\\n<p>O estudo utiliza a decodificação neural, uma técnica que traduz a atividade cerebral medida por ressonância magnética funcional (fMRI) em representações visuais. Estudos anteriores reconstruíram com sucesso domínios específicos, como rostos humanos, letras escritas à mão e imagens binárias. O que diferencia este estudo é a incorporação de redes neurais profundas (DNNs) e modelos generativos, alcançando uma reconstrução de imagem natural de maior fidelidade.</p>\\n\\n\\n\\n<p>Para enfrentar o desafio de externalizar a imaginação mental, os pesquisadores ampliaram um método anterior para um cenário de estimação bayesiana. Ao contrário dos métodos tradicionais que dependem fortemente de informações visuais de baixo nível, esta abordagem bayesiana permite a incorporação de conhecimentos prévios sofisticados de estudos recentes de visão computacional. O algoritmo de dinâmica estocástica de Langevin (SGLD) foi introduzido para amostragem da distribuição posterior, superando as limitações da estimação bayesiana tradicional na decodificação neural.</p>\\n\\n\\n\\n<p>Outra inovação chave envolve a integração de informações semânticas usando um modelo de pré-treinamento contrastivo de linguagem-imagem (CLIP). Ao traduzir sinais cerebrais em características semânticas fornecidas pelo CLIP, o estudo aprimora o processo de reconstrução de imagem. Esta assistência semântica compensa a falta de informações visuais de baixo nível, contribuindo para a reconstrução bem-sucedida de imagens vistas e imaginadas.</p>\\n\\n\\n\\n<p>Os pesquisadores aplicaram a abordagem para reconstruir imagens vistas e imaginadas, demonstrando resultados superiores em comparação com métodos anteriores: 91 e 76% de acurácia respectivamente, contra 64 e 50% reportados por outros estudos. O método proposto superou em termos de qualidade visual, precisão de identificação e pontuações de Inception. Além disso, o framework mostrou notável capacidade de generalização ao reconstruir com sucesso formas artificiais. Alguns exemplos são apresentados no <a href=\"https://www.sciencedirect.com/science/article/pii/S0893608023006470#sec0013\">artigo</a>.</p>\\n\\n\\n\\n<p>As implicações deste estudo se estendem além do campo da decodificação neural. O framework apresentado aqui abre caminhos para interfaces cérebro-máquina, onde pensamentos espontâneos podem ser decodificados e reconstruídos. Além disso, é evidente a possibilidade de devolver a pessoas incapacitadas a habilidade de se comunicar apenas com o pensamento.</p>\\n\\n\\n\\n<p>Em conclusão, a integração da estimação bayesiana, assistência semântica e algoritmos inovadores de aprendizado de máquina impulsionou o campo da decodificação neural a novos patamares. Este estudo marca um marco significativo na visualização de imagens subjetivas na mente humana, mostrando o potencial para entender processos cognitivos complexos e aplicações práticas em interfaces cérebro-máquina.</p>\\n<p>O post <a href=\"https://iaexpert.academy/2023/12/20/novo-metodo-apresenta-resultados-ineditos-para-reconstrucao-imagens-mentais-a-partir-atividade-cerebral/\" rel=\"nofollow\">Novo método apresenta resultados inéditos para reconstrução de imagens mentais a partir de atividade cerebral</a> apareceu primeiro em <a href=\"https://iaexpert.academy\" rel=\"nofollow\">IA Expert Academy</a>.</p>'}],\n",
              "  'wfw_commentrss': 'https://iaexpert.academy/2023/12/20/novo-metodo-apresenta-resultados-ineditos-para-reconstrucao-imagens-mentais-a-partir-atividade-cerebral/feed/',\n",
              "  'slash_comments': '0'},\n",
              " {'title': 'Google apresenta Gemini, seu novo grande modelo de linguagem',\n",
              "  'title_detail': {'type': 'text/plain',\n",
              "   'language': None,\n",
              "   'base': 'https://iaexpert.academy/feed/',\n",
              "   'value': 'Google apresenta Gemini, seu novo grande modelo de linguagem'},\n",
              "  'links': [{'rel': 'alternate',\n",
              "    'type': 'text/html',\n",
              "    'href': 'https://iaexpert.academy/2023/12/13/google-apresenta-gemini-seu-novo-grande-modelo-linguagem/?utm_source=rss&utm_medium=rss&utm_campaign=google-apresenta-gemini-seu-novo-grande-modelo-linguagem'}],\n",
              "  'link': 'https://iaexpert.academy/2023/12/13/google-apresenta-gemini-seu-novo-grande-modelo-linguagem/?utm_source=rss&utm_medium=rss&utm_campaign=google-apresenta-gemini-seu-novo-grande-modelo-linguagem',\n",
              "  'comments': 'https://iaexpert.academy/2023/12/13/google-apresenta-gemini-seu-novo-grande-modelo-linguagem/#respond',\n",
              "  'authors': [{'name': 'Denny Ceccon'}],\n",
              "  'author': 'Denny Ceccon',\n",
              "  'author_detail': {'name': 'Denny Ceccon'},\n",
              "  'published': 'Wed, 13 Dec 2023 08:00:00 +0000',\n",
              "  'published_parsed': time.struct_time(tm_year=2023, tm_mon=12, tm_mday=13, tm_hour=8, tm_min=0, tm_sec=0, tm_wday=2, tm_yday=347, tm_isdst=0),\n",
              "  'tags': [{'term': 'Notícias', 'scheme': None, 'label': None},\n",
              "   {'term': 'Gemini', 'scheme': None, 'label': None},\n",
              "   {'term': 'google', 'scheme': None, 'label': None},\n",
              "   {'term': 'inteligência artificial', 'scheme': None, 'label': None},\n",
              "   {'term': 'LLMs', 'scheme': None, 'label': None}],\n",
              "  'id': 'https://iaexpert.academy/?p=43186',\n",
              "  'guidislink': False,\n",
              "  'summary': '<p>O modelo supera as ferramentas das empresas concorrentes e tem como grande característica diferenciadora a multimodalidade.</p>\\n<p>O post <a href=\"https://iaexpert.academy/2023/12/13/google-apresenta-gemini-seu-novo-grande-modelo-linguagem/\" rel=\"nofollow\">Google apresenta Gemini, seu novo grande modelo de linguagem</a> apareceu primeiro em <a href=\"https://iaexpert.academy\" rel=\"nofollow\">IA Expert Academy</a>.</p>',\n",
              "  'summary_detail': {'type': 'text/html',\n",
              "   'language': None,\n",
              "   'base': 'https://iaexpert.academy/feed/',\n",
              "   'value': '<p>O modelo supera as ferramentas das empresas concorrentes e tem como grande característica diferenciadora a multimodalidade.</p>\\n<p>O post <a href=\"https://iaexpert.academy/2023/12/13/google-apresenta-gemini-seu-novo-grande-modelo-linguagem/\" rel=\"nofollow\">Google apresenta Gemini, seu novo grande modelo de linguagem</a> apareceu primeiro em <a href=\"https://iaexpert.academy\" rel=\"nofollow\">IA Expert Academy</a>.</p>'},\n",
              "  'content': [{'type': 'text/html',\n",
              "    'language': None,\n",
              "    'base': 'https://iaexpert.academy/feed/',\n",
              "    'value': '<p>Mais uma semana agitada no mundo dos grandes modelos de linguagem. Depois de meses de antecipação, o Google lança seu modelo mais avançado, batizado de Gemini. Este modelo representa como principal novidade a priorização da multimodalidade, permitindo que ele navegue e interaja com diversos formatos de dados, incluindo texto, imagens, áudio, vídeo e código. De acordo com a empresa, essa versatilidade inerente concede ao Gemini um poder significativo e abre portas para avanços potencialmente inovadores em vários setores.</p>\\n\\n\\n\\n<p>No <a href=\"https://blog.google/technology/ai/google-gemini-ai\">release à comunidade</a>, o Google enfatiza que um dos aspectos mais notáveis do Gemini reside em sua capacidade de gerar conteúdo criativo, como poemas e roteiros, que demonstravelmente rivalizam com obras produzidas por humanos. Este feito transcende a mera imitação, mostrando a capacidade do Gemini de captar as nuances da linguagem e da expressão artística. Além disso, suas capacidades multilíngues superam demonstravelmente as tecnologias de tradução existentes, oferecendo uma compreensão precisa e matizada dos contextos culturais, pavimentando o caminho para uma comunicação e colaboração global potencialmente perfeita.</p>\\n\\n\\n\\n<p>Em vários benchmarks, o Gemini obteve resultados impressionantes, superando o desempenho de modelos existentes de empresas líderes em IA como OpenAI, Inflection, Anthropic, Meta e xAI. Notavelmente, a versão &#8220;Gemini Ultra&#8221; supera os concorrentes em 30 dos 32 benchmarks acadêmicos amplamente usados \\u200b\\u200bem pesquisas de grandes modelos de linguagem. Além disso, ele atinge uma pontuação de 90,0% no benchmark Massive Multitask Language Understanding (MMLU), superando o desempenho de especialistas humanos. Essas comparações sugerem que o Gemini representa um salto significativo no campo da IA e tem o potencial de remodelar a paisagem de várias indústrias e aplicações.</p>\\n\\n\\n\\n<p>Além do domínio da linguagem, o Gemini demonstra proeza no processamento e interpretação de dados sensoriais, tornando-o um desenvolvimento potencialmente revolucionário para áreas como saúde e educação. A empresa nos convida a imaginar um futuro onde diagnósticos médicos sejam entregues com maior velocidade e precisão, graças à capacidade do Gemini de analisar grandes quantidades de dados médicos e identificar anomalias sutis. Da mesma forma, experiências de aprendizado personalizadas, adaptadas às necessidades e estilos de aprendizagem individuais dos alunos, podem se tornar realidade por meio de instrução interativa baseada em IA, guiada pelos insights do Gemini.</p>\\n\\n\\n\\n<p>No entanto, o impacto potencial do Gemini se estende muito além de aplicações específicas. Sua chegada significa uma mudança fundamental na relação humana com esta tecnologia, borrando as linhas entre a inteligência humana e a artificial. À medida que nos aproximamos dessa nova fronteira, garantir o desenvolvimento responsável da IA é crucial. O Google reconhece essa necessidade, priorizando a acessibilidade por meio do Google AI Studio gratuito e defendendo princípios éticos como justiça, transparência e responsabilização.</p>\\n\\n\\n\\n<p>A versão Pro do Gemini já está disponível para uso através da <a href=\"https://bard.google.com/\">interface do Bard</a>, mas por enquanto somente em inglês. A empresa promete em breve disponibilizar novas línguas assim como a versão Ultra.</p>\\n<p>O post <a href=\"https://iaexpert.academy/2023/12/13/google-apresenta-gemini-seu-novo-grande-modelo-linguagem/\" rel=\"nofollow\">Google apresenta Gemini, seu novo grande modelo de linguagem</a> apareceu primeiro em <a href=\"https://iaexpert.academy\" rel=\"nofollow\">IA Expert Academy</a>.</p>'}],\n",
              "  'wfw_commentrss': 'https://iaexpert.academy/2023/12/13/google-apresenta-gemini-seu-novo-grande-modelo-linguagem/feed/',\n",
              "  'slash_comments': '0'},\n",
              " {'title': 'Pika 1.0: modelo generativo para criação e edição de vídeos',\n",
              "  'title_detail': {'type': 'text/plain',\n",
              "   'language': None,\n",
              "   'base': 'https://iaexpert.academy/feed/',\n",
              "   'value': 'Pika 1.0: modelo generativo para criação e edição de vídeos'},\n",
              "  'links': [{'rel': 'alternate',\n",
              "    'type': 'text/html',\n",
              "    'href': 'https://iaexpert.academy/2023/12/06/pika-1-0-modelo-generativo-para-criacao-edicao-videos/?utm_source=rss&utm_medium=rss&utm_campaign=pika-1-0-modelo-generativo-para-criacao-edicao-videos'}],\n",
              "  'link': 'https://iaexpert.academy/2023/12/06/pika-1-0-modelo-generativo-para-criacao-edicao-videos/?utm_source=rss&utm_medium=rss&utm_campaign=pika-1-0-modelo-generativo-para-criacao-edicao-videos',\n",
              "  'comments': 'https://iaexpert.academy/2023/12/06/pika-1-0-modelo-generativo-para-criacao-edicao-videos/#respond',\n",
              "  'authors': [{'name': 'Denny Ceccon'}],\n",
              "  'author': 'Denny Ceccon',\n",
              "  'author_detail': {'name': 'Denny Ceccon'},\n",
              "  'published': 'Wed, 06 Dec 2023 08:00:00 +0000',\n",
              "  'published_parsed': time.struct_time(tm_year=2023, tm_mon=12, tm_mday=6, tm_hour=8, tm_min=0, tm_sec=0, tm_wday=2, tm_yday=340, tm_isdst=0),\n",
              "  'tags': [{'term': 'Notícias', 'scheme': None, 'label': None},\n",
              "   {'term': 'criação de vídeos', 'scheme': None, 'label': None},\n",
              "   {'term': 'edição de vídeos', 'scheme': None, 'label': None},\n",
              "   {'term': 'inteligência artificial', 'scheme': None, 'label': None},\n",
              "   {'term': 'modelos generativos', 'scheme': None, 'label': None}],\n",
              "  'id': 'https://iaexpert.academy/?p=43112',\n",
              "  'guidislink': False,\n",
              "  'summary': '<p>Primeira ferramenta desta modalidade amplamente disponível, o Pika 1.0 promete a criação e edição de vídeos a partir de prompts de texto.</p>\\n<p>O post <a href=\"https://iaexpert.academy/2023/12/06/pika-1-0-modelo-generativo-para-criacao-edicao-videos/\" rel=\"nofollow\">Pika 1.0: modelo generativo para criação e edição de vídeos</a> apareceu primeiro em <a href=\"https://iaexpert.academy\" rel=\"nofollow\">IA Expert Academy</a>.</p>',\n",
              "  'summary_detail': {'type': 'text/html',\n",
              "   'language': None,\n",
              "   'base': 'https://iaexpert.academy/feed/',\n",
              "   'value': '<p>Primeira ferramenta desta modalidade amplamente disponível, o Pika 1.0 promete a criação e edição de vídeos a partir de prompts de texto.</p>\\n<p>O post <a href=\"https://iaexpert.academy/2023/12/06/pika-1-0-modelo-generativo-para-criacao-edicao-videos/\" rel=\"nofollow\">Pika 1.0: modelo generativo para criação e edição de vídeos</a> apareceu primeiro em <a href=\"https://iaexpert.academy\" rel=\"nofollow\">IA Expert Academy</a>.</p>'},\n",
              "  'content': [{'type': 'text/html',\n",
              "    'language': None,\n",
              "    'base': 'https://iaexpert.academy/feed/',\n",
              "    'value': '<p>Startup praticamente desconhecida até semana passada, a Pika Labs surpreendeu a comunidade com o lançamento no último dia 29 do Pika 1.0, uma ferramenta revolucionária para a criação e edição de vídeos por meio de inteligência artificial. Após intensos testes realizados ao longo do ano, a plataforma atinge sua primeira geração, prometendo transformar frases simples dos usuários em clipes editados e animações de alta qualidade.</p>\\n\\n\\n\\n<p>A empresa apresenta o grande diferencial do Pika 1.0 como sendo a notável fidelidade das produções às solicitações dos usuários. Utilizando um novo modelo de linguagem, a ferramenta é capaz de gerar desde pequenos clipes até vídeos mais extensos, oferecendo uma gama de estilos de animação, desde abordagens cinemáticas até realistas, incluindo estilos tradicionais à la Disney Pixar, além de uma gama extensa de edições guiadas por prompt. A publicação abaixo mostra as possibilidades que a empresa promete.</p>\\n\\n\\n\\n<figure class=\"wp-block-embed is-type-rich is-provider-twitter wp-block-embed-twitter\"><div class=\"wp-block-embed__wrapper\">\\n<span class=\"C3R4EM1zhOPVifUKLdPoh2wlFF0qYvCdRNw09eHpnpuKGjZqEO1W58mBD438lUS7yozuMXeBgT67ajHWZgXJvkkLtsJI5s6YfQ\"><blockquote class=\"twitter-tweet\"><p dir=\"ltr\" lang=\"en\">Introducing Pika 1.0, the idea-to-video platform that brings your creativity to life.<br /><br />Create and edit your videos with AI.<br /><br />Rolling out to new users on web and discord, starting today. Sign up at <a href=\"https://t.co/JHRrinsIwx\">https://t.co/JHRrinsIwx</a> <a href=\"https://t.co/Rve3I2FzmK\">pic.twitter.com/Rve3I2FzmK</a></p>&mdash; Pika (@pika_labs) <a href=\"https://twitter.com/pika_labs/status/1729510078959497562?ref_src=twsrc%5Etfw\">November 28, 2023</a></blockquote></span>\\n</div></figure>\\n\\n\\n\\n<p>Já nesta primeira iteração, o Pika 1.0 promete ser acessível ao usuário comum por meio de uma interface web intuitiva e simples. Além disso, foram incorporadas opções técnicas que permitem a adaptação dos vídeos a diferentes formatos, plataformas e dispositivos, proporcionando uma flexibilidade excepcional aos criadores.</p>\\n\\n\\n\\n<p>O investimento significativo liderado pela Lightspeed Venture Partners destaca a confiança na Pika Labs e na missão compartilhada de democratizar a tecnologia. A empresa de venture capital elogiou a parceria, expressando total apoio à visão da Pika Labs e fornecendo as bases para o crescimento futuro.</p>\\n\\n\\n\\n<p>Este lançamento acontece em um momento estratégico, coincidindo com a apresentação recente do Stable Video Diffusion pela Stability. Este motor de IA, atualmente disponível exclusivamente para pesquisadores de inteligência artificial, cria clipes curtos a partir de prompts do usuário e imagens estáticas. O Pika 1.0 é o primeiro software deste tipo a estar disponível para qualquer pessoa interessada.</p>\\n\\n\\n\\n<p>A capacidade de transformar frases em animações de alta qualidade, aliada à flexibilidade e otimização excepcionais, posiciona esta plataforma como uma força motriz na revolução criativa. A parceria estratégica com a Lightspeed Venture Partners reforça ainda mais a promessa de inovação contínua, deixando a todos ansiosos para testemunhar como essa ferramenta transformadora moldará o futuro da produção de vídeos com IA.</p>\\n<p>O post <a href=\"https://iaexpert.academy/2023/12/06/pika-1-0-modelo-generativo-para-criacao-edicao-videos/\" rel=\"nofollow\">Pika 1.0: modelo generativo para criação e edição de vídeos</a> apareceu primeiro em <a href=\"https://iaexpert.academy\" rel=\"nofollow\">IA Expert Academy</a>.</p>'}],\n",
              "  'wfw_commentrss': 'https://iaexpert.academy/2023/12/06/pika-1-0-modelo-generativo-para-criacao-edicao-videos/feed/',\n",
              "  'slash_comments': '0'},\n",
              " {'title': 'Desenvolvimento de Software Colaborativo: Como integrei o ChatGPT no meu\\xa0projeto',\n",
              "  'title_detail': {'type': 'text/plain',\n",
              "   'language': None,\n",
              "   'base': 'https://iaexpert.academy/feed/',\n",
              "   'value': 'Desenvolvimento de Software Colaborativo: Como integrei o ChatGPT no meu\\xa0projeto'},\n",
              "  'links': [{'rel': 'alternate',\n",
              "    'type': 'text/html',\n",
              "    'href': 'https://iaexpert.academy/2023/12/02/desenvolvimento-de-software-colaborativo-como-integrei-o-chatgpt-no-meu-projeto/?utm_source=rss&utm_medium=rss&utm_campaign=desenvolvimento-de-software-colaborativo-como-integrei-o-chatgpt-no-meu-projeto'}],\n",
              "  'link': 'https://iaexpert.academy/2023/12/02/desenvolvimento-de-software-colaborativo-como-integrei-o-chatgpt-no-meu-projeto/?utm_source=rss&utm_medium=rss&utm_campaign=desenvolvimento-de-software-colaborativo-como-integrei-o-chatgpt-no-meu-projeto',\n",
              "  'comments': 'https://iaexpert.academy/2023/12/02/desenvolvimento-de-software-colaborativo-como-integrei-o-chatgpt-no-meu-projeto/#respond',\n",
              "  'authors': [{'name': 'Djalma Passos'}],\n",
              "  'author': 'Djalma Passos',\n",
              "  'author_detail': {'name': 'Djalma Passos'},\n",
              "  'published': 'Sat, 02 Dec 2023 12:02:33 +0000',\n",
              "  'published_parsed': time.struct_time(tm_year=2023, tm_mon=12, tm_mday=2, tm_hour=12, tm_min=2, tm_sec=33, tm_wday=5, tm_yday=336, tm_isdst=0),\n",
              "  'tags': [{'term': 'Outros', 'scheme': None, 'label': None}],\n",
              "  'id': 'https://iaexpert.academy/?p=43022',\n",
              "  'guidislink': False,\n",
              "  'summary': '<p>Neste artigo, explico como implementei a integração com o ChatGPT, possibilitando a exploração colaborativa de um repositório de código e a construção de sistemas. 1\\u200a—\\u200aRecursos: O que vamos&#160;usar Dentre os recursos oferecidos pela OpenAI, escolhi a API&#160;completions[1], pela sua clareza e detalhamento. Achei a documentação da API clara, bem detalhada e com exemplos funcionais. A &#8230;</p>\\n<p class=\"read-more\"> <a class=\"ast-button\" href=\"https://iaexpert.academy/2023/12/02/desenvolvimento-de-software-colaborativo-como-integrei-o-chatgpt-no-meu-projeto/\"> <span class=\"screen-reader-text\">Desenvolvimento de Software Colaborativo: Como integrei o ChatGPT no meu&#160;projeto</span> Leia mais »</a></p>\\n<p>O post <a href=\"https://iaexpert.academy/2023/12/02/desenvolvimento-de-software-colaborativo-como-integrei-o-chatgpt-no-meu-projeto/\" rel=\"nofollow\">Desenvolvimento de Software Colaborativo: Como integrei o ChatGPT no meu&nbsp;projeto</a> apareceu primeiro em <a href=\"https://iaexpert.academy\" rel=\"nofollow\">IA Expert Academy</a>.</p>',\n",
              "  'summary_detail': {'type': 'text/html',\n",
              "   'language': None,\n",
              "   'base': 'https://iaexpert.academy/feed/',\n",
              "   'value': '<p>Neste artigo, explico como implementei a integração com o ChatGPT, possibilitando a exploração colaborativa de um repositório de código e a construção de sistemas. 1\\u200a—\\u200aRecursos: O que vamos&#160;usar Dentre os recursos oferecidos pela OpenAI, escolhi a API&#160;completions[1], pela sua clareza e detalhamento. Achei a documentação da API clara, bem detalhada e com exemplos funcionais. A &#8230;</p>\\n<p class=\"read-more\"> <a class=\"ast-button\" href=\"https://iaexpert.academy/2023/12/02/desenvolvimento-de-software-colaborativo-como-integrei-o-chatgpt-no-meu-projeto/\"> <span class=\"screen-reader-text\">Desenvolvimento de Software Colaborativo: Como integrei o ChatGPT no meu&#160;projeto</span> Leia mais »</a></p>\\n<p>O post <a href=\"https://iaexpert.academy/2023/12/02/desenvolvimento-de-software-colaborativo-como-integrei-o-chatgpt-no-meu-projeto/\" rel=\"nofollow\">Desenvolvimento de Software Colaborativo: Como integrei o ChatGPT no meu&nbsp;projeto</a> apareceu primeiro em <a href=\"https://iaexpert.academy\" rel=\"nofollow\">IA Expert Academy</a>.</p>'},\n",
              "  'content': [{'type': 'text/html',\n",
              "    'language': None,\n",
              "    'base': 'https://iaexpert.academy/feed/',\n",
              "    'value': '<p>Neste artigo, explico como implementei a integração com o ChatGPT, possibilitando a exploração colaborativa de um repositório de código e a construção de sistemas.</p>\\n\\n\\n\\n<h3 class=\"wp-block-heading\">1\\u200a—\\u200aRecursos: O que vamos&nbsp;usar</h3>\\n\\n\\n\\n<p>Dentre os recursos oferecidos pela OpenAI, escolhi a API&nbsp;<a href=\"https://platform.openai.com/docs/guides/text-generation/chat-completions-api\" rel=\"noreferrer noopener\" target=\"_blank\">completions</a>[1], pela sua clareza e detalhamento. Achei a documentação da API clara, bem detalhada e com exemplos funcionais. A utilização de uma API proporciona maior flexibilidade em comparação com a interface web padrão do ChatGPT.</p>\\n\\n\\n\\n<p>Como tecnologia para desenvolver o GPTCoder, utilizarei Java, devido à minha familiaridade com a linguagem. O projeto será do tipo Java padrão para desktop. A IDE escolhida foi o Eclipse.</p>\\n\\n\\n\\n<h3 class=\"wp-block-heading\">2\\u200a—\\u200aSolução pretendida</h3>\\n\\n\\n\\n<p>Abaixo teremos os passos que foram pensados para a primeira versão da solução. Tendo como foco que o desenvolvedor terá o ChatGPT como um ajudante de sua missão de programação. A figura1 representa o processo da solução.</p>\\n\\n\\n\\n<ul>\\n<li><strong>Desenvolvedor define necessidade</strong>: Nesse momento o desenvolvedor vai informar o que deseja fazer ou que problema deseja solucionar. Como estamos focados em programação, um cenário esperado seria de criar uma classe que resolva determinado problema.</li>\\n\\n\\n\\n<li><strong>Preparar o contexto</strong>: Aqui será necessário buscar as informações necessárias para o chat GPT se situar quando for chamado. Antes de pedir precisamos dar o máximo de dados que o ajudem a entender qual o mundo onde nosso problema está inserido. Na sessão 4 detalharemos mais este tema.</li>\\n\\n\\n\\n<li><strong>Preparar o prompt</strong>: Por mais que usemos linguagem natural é preciso delimitar bem as fronteitas do que desejamos pedir. Um bom prompt possui um texto que não deixe dúvidas de interpretação quanto aquilo que desejamos. Na sessão 4 detalharemos mais este tema.</li>\\n\\n\\n\\n<li><strong>Solicitar solução</strong>: Aqui vamos enviar todos os dados que temos para a API do ChatGPT e aguardar o processamento e resposta. Estamos efetivamente pedindo uma solução para o problema que temos em mãos.</li>\\n\\n\\n\\n<li><strong>Processar solicitação</strong>: Nesse momento ocorre a análise de todos dados que enviamos e criação de uma resposta.</li>\\n\\n\\n\\n<li><strong>Processar resposta</strong>: Será necessário receber os dados da resposta para extrair exatamente o que desejamos.</li>\\n\\n\\n\\n<li><strong>Salvar os dados</strong>: Vamos persistir em um arquivo a resposta que recebemos. No nosso caso desejamos que os dados sejam um código, funcional que resolva nosso problema. Esse código será salvo no formato de classe.</li>\\n\\n\\n\\n<li><strong>Avaliar solução</strong>: O Código foi persistido e está disponível para ser executado. O desenvolvedor vai avaliar se o código está solucionando o problema e pode pedir correções em uma nova requisição caso seja necessário.</li>\\n</ul>\\n\\n\\n\\n<figure class=\"wp-block-image aligncenter\"><img alt=\"\" src=\"https://cdn-images-1.medium.com/max/1600/1*5pyoAYhIu5TKMijuDIjSig.png\" /><figcaption class=\"wp-element-caption\">Figura 1\\u200a—\\u200aSolução proposta.</figcaption></figure>\\n\\n\\n\\n<h3 class=\"wp-block-heading\">3\\u200a—\\u200aContexto: Explique primeiro antes de&nbsp;pedir</h3>\\n\\n\\n\\n<p>Podemos pensar o contexto como o conjunto de informações que o ChatGPT precisa conhecer para entender melhor seus pedidos e assim prover melhores respostas. Nosso objetivo é gerar código e por vezes o GPT precisa ter acesso a outros códigos que já existam no sistema que ele vai trabalhar.</p>\\n\\n\\n\\n<p>Nesse caso vamos criar um recurso que pode ler vários arquivos de uma vez e deixá-los prontos para envio na próxima requisição. A classe&nbsp;<em>ReadDataFromFile</em>&nbsp;tem métodos para ler um ou vários arquivos de código e transformar em uma string que pode ser adicionada a uma requisição. Assim, se passarmos os caminhos de vários arquivos de um repositório de código, o GPTCoder será capaz de ler os dados desses arquivos. Abaixo a figura 2 ilustra a classe&nbsp;<em>ReadDataFromFile</em>.</p>\\n\\n\\n\\n<figure class=\"wp-block-image aligncenter\"><img alt=\"\" src=\"https://cdn-images-1.medium.com/max/1600/1*BbDgF_pLzpgVvBjR5CoZyw.png\" /><figcaption class=\"wp-element-caption\">Figura 2\\u200a—\\u200aIlustração classe&nbsp;<em>ReadDataFromFile.java</em></figcaption></figure>\\n\\n\\n\\n<h4 class=\"wp-block-heading\">3.1\\u200a—\\u200aLimites</h4>\\n\\n\\n\\n<p>É importante lembrar que existe um limite de dados para gerar contexto. Isso vai depender do modelo do ChatGPT que está sendo usado. O modelo que melhor performou foi o modelo gpt-3.5-turbo-16k. Esse modelo respondeu com maior velocidade que o GPT4 e demais GPT3. Ele possui uma janela de contexto de 16k tokens que seria aproximadamente 12000 palavras&nbsp;<a href=\"https://openai.com/pricing\" rel=\"noreferrer noopener\" target=\"_blank\">[2]</a>.</p>\\n\\n\\n\\n<h3 class=\"wp-block-heading\">4\\u200a—\\u200aPrompt: Como pedir da maneira&nbsp;correta</h3>\\n\\n\\n\\n<p>O ChatGPT entende linguagem natural, isto significa que não precisamos falar com ele usando linguagens de programação como PHP ou Java. Basta falar como falaria-mos com outro ser humano e ele será capaz de entender. No entanto, mesmo usando linguagem natural, se pudermos estruturar melhor nosso diálogo temos maior chance de conseguir respostas mais precisas.</p>\\n\\n\\n\\n<p>Outro ponto importante é que o ChatGPT consegue interpretar código e produzir código. Então podemos pedir a ele que nos envie a resposta em formato de código em uma determinada linguagem de programação. No caso deste post estou focando em Java. Abaixo está o que foi levado em conta para estruturar um padrão de prompt que funciona para a solução.</p>\\n\\n\\n\\n<p>4.1 —\\u200a <strong>Estrutura de PROMPT usado:</strong></p>\\n\\n\\n\\n<ul>\\n<li><strong>Comportamento esperado:</strong>&nbsp;{Papel}\\u200a—\\u200aComo o GPT precisa raciocinar ou o que ele deve imitar. Exemplo: Gerador de código Java, PHP etc.</li>\\n\\n\\n\\n<li><strong>Com base em:</strong>&nbsp;{dados de contexto}\\u200a—\\u200aExemplo: Minhas classes Java existentes no projeto ou relativas ao meu problema.</li>\\n\\n\\n\\n<li><strong>Faça</strong>: {ação desejada}\\u200a—\\u200aGere uma classe que resolva determinado problema; Melhore a classe X adicionando metodo que faz deteminada ação.</li>\\n\\n\\n\\n<li><strong>Dados adicionais:&nbsp;</strong>{Formato de entrada e Formato de saída}\\u200a—\\u200aAdicione marcadores que ajudem o ChatGPT a identificar o que queremos passar na hora de pedir e como desejamos receber a nossa resposta. Criei os marcadores de inicio e fim de contexto (solicitação), inicio e fim de código (resposta) e inicio e fim de observação (resposta). Esse formato funcionou bem e evitou, principalmente, mistura de dados nas respostas e com isso maior facilidade de extração dos dados de interesse. A figura 3 mostra os marcadores usados.</li>\\n</ul>\\n\\n\\n\\n<figure class=\"wp-block-image aligncenter\"><img alt=\"\" src=\"https://cdn-images-1.medium.com/max/1600/1*-qYpLhPjT9n3XZBA6sn5Ag.png\" /><figcaption class=\"wp-element-caption\">Figura 3\\u200a—\\u200aMarcadores para&nbsp;prompt</figcaption></figure>\\n\\n\\n\\n<p>4.1.1 —\\u200a <strong>Exemplo de PROMPT usado na solicitação:</strong></p>\\n\\n\\n\\n<blockquote class=\"wp-block-quote\">\\n<p><em>Comporte-se como uma api geradora de código Java. Crie uma classe Java que resolverá o problema a seguir: Baseado no codigo informado { Nada ainda}&nbsp;. Crie uma classe Pessoa que tenha nome, idade, cpf, rg, endereco, contato. Resposta esperada:&nbsp;</em><strong><em>responda no seguinte formato texto delimitado pelos 2 marcadores a seguir: ==response-obs-inicio==</em></strong><em>&nbsp;obsevacoes para orientacoes sobre o codigo&nbsp;</em><strong><em>==response-obs-fim== ==response-javacode-inicio==</em></strong><em>&nbsp;deve conter Somente o codigo&nbsp;</em><strong><em>==response-javacode-fim==</em></strong><em>.</em></p>\\n</blockquote>\\n\\n\\n\\n<p>4.1.2 —\\u200a <strong>Exemplo de resposta recebida:</strong></p>\\n\\n\\n\\n<blockquote class=\"wp-block-quote\">\\n<p>{“id”: “MEU_ID_API_CHAT_GPT”,“object”: “chat.completion”,“created”:1699113491,“model”: “gpt-3.5-turbo-0613”,“choices”: [{“index”: 0“message”: {“role”: “assistant”,“content”: “<strong>==response-obs-inicio==</strong>\\\\nA classe Pessoa deve ter os seguintes atributos: nome (String), idade (int), cpf (String), rg (String), endereco (String) e contato (String).\\\\n<strong>==response-obs-fim==</strong>\\\\n<strong>==response-javacode-inicio==</strong>\\\\n&#8220;`java\\\\npublic class Pessoa {\\\\n private String nome;\\\\n private int idade;\\\\n private String cpf;\\\\n private String rg;\\\\n private String endereco;\\\\n private String contato;\\\\n\\\\n // Construtor da classe Pessoa\\\\n public Pessoa(String nome, int idade, String cpf, String rg, String endereco, String contato) {\\\\n this.nome = nome;\\\\n this.idade = idade;\\\\n this.cpf = cpf;\\\\n this.rg = rg;\\\\n this.endereco = endereco;\\\\n this.contato = contato;\\\\n }\\\\n\\\\n // Getters e Setters dos atributos da classe Pessoa\\\\n public String getNome() {\\\\n return nome;\\\\n }\\\\n\\\\n public void setNome(String nome) {\\\\n this.nome = nome;\\\\n }\\\\n\\\\n public int getIdade() {\\\\n return idade;\\\\n }\\\\n\\\\n public void setIdade(int idade) {\\\\n this.idade = idade;\\\\n }\\\\n\\\\n public String getCpf() {\\\\n return cpf;\\\\n }\\\\n\\\\n public void setCpf(String cpf) {\\\\n this.cpf = cpf;\\\\n }\\\\n\\\\n public String getRg() {\\\\n return rg;\\\\n }\\\\n\\\\n public void setRg(String rg) {\\\\n this.rg = rg;\\\\n }\\\\n\\\\n public String getEndereco() {\\\\n return endereco;\\\\n }\\\\n\\\\n public void setEndereco(String endereco) {\\\\n this.endereco = endereco;\\\\n }\\\\n\\\\n public String getContato() {\\\\n return contato;\\\\n }\\\\n\\\\n public void setContato(String contato) {\\\\n this.contato = contato;\\\\n }\\\\n}\\\\n&#8220;`\\\\n<strong>==response-javacode-fim==</strong>”},“finish_reason”: “stop”}],“usage”: {“prompt_tokens”: 163,“completion_tokens”: 386,“total_tokens”: 549}}</p>\\n</blockquote>\\n\\n\\n\\n<h3 class=\"wp-block-heading\">5\\u200a—\\u200aCódigo</h3>\\n\\n\\n\\n<p>Nessa sessão focarei nos aspectos principais do código:</p>\\n\\n\\n\\n<p>5.1\\u200a—\\u200a Conexão com a API: A classe ApiCaller faz uma requisição HTTP padrão de acordo com a documentação da openAI e transforma dos dados devolvidos pela API em uma string de texto. Os dados de entrada que são o prompt em si estão representados pela variável jsonSend que é passada por parâmetro para o método callGPT.</p>\\n\\n\\n\\n<figure class=\"wp-block-image aligncenter\"><img alt=\"\" src=\"https://cdn-images-1.medium.com/max/1600/1*elWKfHHc12camTr3DN1cAA.png\" /><figcaption class=\"wp-element-caption\">Figura 4- Código que faz chamada à API do&nbsp;ChatGPT</figcaption></figure>\\n\\n\\n\\n<p>5.2\\u200a—\\u200aA classe Prompt representa um prompt em si e, nesse momento, a estrutura do prompt tem 2 partes principais: system-content e user-content. A primeira é a instrução inicial de configuração do ChatGPT tendo como foco definir o comportamento esperado. A segunda tem como foco passar o que o usuário deseja que seja feito e o contexto para o ChatGPT. Em determinada parte do processo vamos configurar as 2 partes de acordo com o que está definido na figura 6. Na figura 5 temos o código da classe Prompt na integra.</p>\\n\\n\\n\\n<p>Podemos ver ainda que o dado que está sendo preparado é um JSON que tem: 1\\u200a—\\u200a A propriedade model onde definimos o modelo do ChatGPT que vamos usar; 2\\u200a—\\u200aO parâmetro temperatura define o quão criativo queremos que o modelo seja na hora de gerar resposta, e como queremos um código não precisa que ele gere o mesmo código sempre de formas diferentes, ele pode gerar o mesmo código desde que resolva o problema, assim a temperatura será 0 (zero); 3\\u200a—\\u200aO atributo messages é onde vamos colocar os dados da solicitação.</p>\\n\\n\\n\\n<figure class=\"wp-block-image aligncenter\"><img alt=\"\" src=\"https://cdn-images-1.medium.com/max/1600/1*yvlp3g91O81ND2TQi7ZB1Q.png\" /><figcaption class=\"wp-element-caption\">Figura 5\\u200a—\\u200aCódigo da classe&nbsp;Prompt.</figcaption></figure>\\n\\n\\n\\n<figure class=\"wp-block-image aligncenter\"><img alt=\"\" src=\"https://cdn-images-1.medium.com/max/1600/1*9UOqikbA85E9I6cPcny1Hg.png\" /><figcaption class=\"wp-element-caption\">Figura 6\\u200a—\\u200aPartes do prompt intruções tipo system e tipo&nbsp;user.</figcaption></figure>\\n\\n\\n\\n<p>5.3\\u200a—\\u200aDepois de algumas camadas de abstração chegamos ao processo de colaboração, mais simples do projeto, onde o desenvolvedor pede uma ação por vez e recebe uma resposta por vez. No método codingWithDeveloper é possível passar no parâmetros: Uma lista de arquivos (repositório); O texto com o que desejamos fazer (doesInstruction\\u200a—\\u200aé a parte que falta no prompt); Onde salvar os dados após receber a resposta (whereDoesPath\\u200a—\\u200aÉ a classe Java onde vou salvar o código). O processo será descrito abaixo e ilustrado na figura 7.</p>\\n\\n\\n\\n<p>5.3.1\\u200a—\\u200aProcesso</p>\\n\\n\\n\\n<ul>\\n<li>Leitura de todos os arquivos que vão servir para gerar o contexto na variável codeContext</li>\\n\\n\\n\\n<li>Formatação do JavaPrompt que um prompt especifico para gerar código Java de acordo com o item 5.2</li>\\n\\n\\n\\n<li>Chamada a API do ChatGPT, coletamos a resposta e extraímos o dado que nos interessa salvar.</li>\\n\\n\\n\\n<li>Salvamento dos dados de interesse (a classe Java) usando o SaveGPTResponseFile. O caminho onde o código deve ser salvo precisa ser informado. No caso definimos a pasta e acrescentamos o nome da classe para gerar o caminho completo do arquivo de destino.</li>\\n\\n\\n\\n<li>Por fim salvamento de todos os dados de requisição e resposta em um histórico.</li>\\n</ul>\\n\\n\\n\\n<figure class=\"wp-block-image aligncenter\"><img alt=\"\" src=\"https://cdn-images-1.medium.com/max/1600/1*26uKfq_6Ln97_y4uz4MePQ.png\" /><figcaption class=\"wp-element-caption\">Figura 7\\u200a—\\u200aexecutando um unico prompt por vez. Processo de colaboração GTP e desenvovedor.</figcaption></figure>\\n\\n\\n\\n<p>5.4\\u200a—\\u200aCom esse processo já é possível ao desenvolvedor passar instrucões para criar classes que resolvam problemas, analisar classes e melhora-las. Abaixo veremos alguns exemplos de prompts que foram usados pra um projeto piloto.</p>\\n\\n\\n\\n<p>5.4.1\\u200a—\\u200aA classe prompt executor tem o path de um repositório de código na variável sourcePath. Um objeto PromptExecutor chama o método codingWithDeveloper passando apenas um arquivo&nbsp;<em>&#8220;crud/PessoaRequisicao.java&#8221;</em>&nbsp;e pedindo para fazer melhorias nesse mesmo arquivo essa melhoria seria acrescentar o JavaDoc com base no código atual da classe. O Resultado é a mesma classe Java com a documentação acrescida no padrão JavaDoc. Parte da classe documentada está ilustrada na figura 9.</p>\\n\\n\\n\\n<figure class=\"wp-block-image aligncenter\"><img alt=\"\" src=\"https://cdn-images-1.medium.com/max/1600/1*tuIeXDlO9sIwCw8PbcqJdw.png\" /><figcaption class=\"wp-element-caption\">Figura 8\\u200a—\\u200aClasse PromptExecutor chamando um prompt de melhoria de&nbsp;código.</figcaption></figure>\\n\\n\\n\\n<figure class=\"wp-block-image aligncenter\"><img alt=\"\" src=\"https://cdn-images-1.medium.com/max/1600/1*WMKrQXWI_WN9P72cOiRdpA.png\" /><figcaption class=\"wp-element-caption\">Figura 9\\u200a—\\u200aTrecho de JavaDoc gerado na classe PessoaRequisicao</figcaption></figure>\\n\\n\\n\\n<p>5.4.2\\u200a—\\u200aAqui já temos vários prompts pedindo para executar a criação de várias classes onde definimos os atributos ou objetivos das classes. Definimos onde os dados serão salvos e definimos o pacote onde as classes serão criadas como fonte de contexto. Nessa sequencia de execução de prompts novas classes são geradas e essas já servem como contexto para a próxima requisição. Possibilitando a criação em lote de um conjunto de classes do sistema.&nbsp;</p>\\n\\n\\n\\n<p>Pela figura 10 vemos que quando a classe PessoaDAO for criada essa terá como informações de contexto as classes Pessoa, Contato e Endereço que ja foram criadas anteriormente. O contexto de PessoaRequisição será todas classes anteriores inclusive PessoaDAO. Isso é possível pois estamos sempre enviando todas as classes que foram criadas antes para o ChatGPT manter-se contextualizado.</p>\\n\\n\\n\\n<figure class=\"wp-block-image aligncenter\"><img alt=\"\" src=\"https://cdn-images-1.medium.com/max/1600/1*ngCVEoeqhLfAlsPIzJ_neA.png\" /><figcaption class=\"wp-element-caption\">Figura 10\\u200a—\\u200aExemplo de prompts executados em&nbsp;lote.</figcaption></figure>\\n\\n\\n\\n<h3 class=\"wp-block-heading\">6\\u200a—\\u200aConclusão</h3>\\n\\n\\n\\n<ul>\\n<li>Foi possível criar uma integração com o ChatGPT usando sua API, ler dados de um repositório de código para ajudar na contextualização e geração de novos códigos.</li>\\n\\n\\n\\n<li>Entendemos um pouco mais sobre contexto, sobre a importância de gerar bons prompts<a href=\"https://platform.openai.com/docs/guides/prompt-engineering\" rel=\"noreferrer noopener\" target=\"_blank\">[3]</a>&nbsp;e o potencial do ChatGPT como parceiro de desenvolvimento de software no dia a dia do desenvolvedor de sistemas.</li>\\n\\n\\n\\n<li>O sistema desenvolvido pode ser usado para criar sistemas em outras linguagens de programação ou outros tipos de conteúdo textual. Apenas fazendo extensões da classe que define os prompts.</li>\\n\\n\\n\\n<li>Como pontos de melhoria destaco a necessidade de um nível de abstração que permita ao desenvolvedor definir regras de negócio em alto nível e receber a regra implementada com as camadas de abstração corretamente escritas.</li>\\n</ul>\\n\\n\\n\\n<h3 class=\"wp-block-heading\">Referências</h3>\\n\\n\\n\\n<p>[<a href=\"https://platform.openai.com/\" rel=\"noreferrer noopener\" target=\"_blank\">1]APIIntegrate OpenAI models into your application or business</a></p>\\n\\n\\n\\n<p>[2]<a href=\"https://openai.com/pricing\" rel=\"noreferrer noopener\" target=\"_blank\">https://openai.com/pricing</a></p>\\n\\n\\n\\n<p>[3]<a href=\"https://platform.openai.com/docs/guides/prompt-engineering\" rel=\"noreferrer noopener\" target=\"_blank\">https://platform.openai.com/docs/guides/prompt-engineering</a></p>\\n<p>O post <a href=\"https://iaexpert.academy/2023/12/02/desenvolvimento-de-software-colaborativo-como-integrei-o-chatgpt-no-meu-projeto/\" rel=\"nofollow\">Desenvolvimento de Software Colaborativo: Como integrei o ChatGPT no meu&nbsp;projeto</a> apareceu primeiro em <a href=\"https://iaexpert.academy\" rel=\"nofollow\">IA Expert Academy</a>.</p>'}],\n",
              "  'wfw_commentrss': 'https://iaexpert.academy/2023/12/02/desenvolvimento-de-software-colaborativo-como-integrei-o-chatgpt-no-meu-projeto/feed/',\n",
              "  'slash_comments': '0'},\n",
              " {'title': 'IA identifica mais casos de câncer de mama do que médicos radiologistas',\n",
              "  'title_detail': {'type': 'text/plain',\n",
              "   'language': None,\n",
              "   'base': 'https://iaexpert.academy/feed/',\n",
              "   'value': 'IA identifica mais casos de câncer de mama do que médicos radiologistas'},\n",
              "  'links': [{'rel': 'alternate',\n",
              "    'type': 'text/html',\n",
              "    'href': 'https://iaexpert.academy/2023/11/29/ia-identifica-mais-casos-cancer-mama-que-medicos-radiologistas/?utm_source=rss&utm_medium=rss&utm_campaign=ia-identifica-mais-casos-cancer-mama-que-medicos-radiologistas'}],\n",
              "  'link': 'https://iaexpert.academy/2023/11/29/ia-identifica-mais-casos-cancer-mama-que-medicos-radiologistas/?utm_source=rss&utm_medium=rss&utm_campaign=ia-identifica-mais-casos-cancer-mama-que-medicos-radiologistas',\n",
              "  'comments': 'https://iaexpert.academy/2023/11/29/ia-identifica-mais-casos-cancer-mama-que-medicos-radiologistas/#respond',\n",
              "  'authors': [{'name': 'Denny Ceccon'}],\n",
              "  'author': 'Denny Ceccon',\n",
              "  'author_detail': {'name': 'Denny Ceccon'},\n",
              "  'published': 'Wed, 29 Nov 2023 08:00:00 +0000',\n",
              "  'published_parsed': time.struct_time(tm_year=2023, tm_mon=11, tm_mday=29, tm_hour=8, tm_min=0, tm_sec=0, tm_wday=2, tm_yday=333, tm_isdst=0),\n",
              "  'tags': [{'term': 'Notícias', 'scheme': None, 'label': None},\n",
              "   {'term': 'inteligência artificial', 'scheme': None, 'label': None},\n",
              "   {'term': 'Saúde Preventiva', 'scheme': None, 'label': None}],\n",
              "  'id': 'https://iaexpert.academy/?p=43003',\n",
              "  'guidislink': False,\n",
              "  'summary': '<p>IA revoluciona detecção de câncer de mama, identificando 13% mais casos que especialistas, acelerando diagnósticos e promovendo colaboração médica.</p>\\n<p>O post <a href=\"https://iaexpert.academy/2023/11/29/ia-identifica-mais-casos-cancer-mama-que-medicos-radiologistas/\" rel=\"nofollow\">IA identifica mais casos de câncer de mama do que médicos radiologistas</a> apareceu primeiro em <a href=\"https://iaexpert.academy\" rel=\"nofollow\">IA Expert Academy</a>.</p>',\n",
              "  'summary_detail': {'type': 'text/html',\n",
              "   'language': None,\n",
              "   'base': 'https://iaexpert.academy/feed/',\n",
              "   'value': '<p>IA revoluciona detecção de câncer de mama, identificando 13% mais casos que especialistas, acelerando diagnósticos e promovendo colaboração médica.</p>\\n<p>O post <a href=\"https://iaexpert.academy/2023/11/29/ia-identifica-mais-casos-cancer-mama-que-medicos-radiologistas/\" rel=\"nofollow\">IA identifica mais casos de câncer de mama do que médicos radiologistas</a> apareceu primeiro em <a href=\"https://iaexpert.academy\" rel=\"nofollow\">IA Expert Academy</a>.</p>'},\n",
              "  'content': [{'type': 'text/html',\n",
              "    'language': None,\n",
              "    'base': 'https://iaexpert.academy/feed/',\n",
              "    'value': '<p>A revolução da inteligência artificial está pavimentando o caminho para uma nova era na detecção de câncer de mama em estágio inicial. Um <a href=\"https://www.nature.com/articles/s41591-023-02625-9\">estudo publicado este mês na revista Nature Medicine</a> mostra que a IA pode identificar até 13% mais casos de câncer de mama do que os métodos tradicionais. Estima-se que mais de 20% dos cânceres escapem da detecção nos exames de triagem convencionais, sem a assistência da IA.</p>\\n\\n\\n\\n<p>A pesquisa, conduzida na Hungria, utilizou uma ferramenta de IA chamada Mia, desenvolvida pela empresa britânica Kheiron Medical Technologies. Ao analisar dados de 25 mil mulheres submetidas a exames de triagem entre 2021 e 2023, os resultados revelaram melhorias de 5, 10 e 13% na taxa de detecção de câncer em três versões distintas do estudo, em comparação com a leitura padrão, que é feita por pelo menos dois radiologistas. A maioria das novas descobertas eram cânceres invasivos, com potencial para se espalhar pelo organismo.</p>\\n\\n\\n\\n<p>Além da Hungria, estudos recentes na Suécia corroboram essas descobertas, indicando que a análise de mamografias aprimorada por IA atinge taxas de detecção semelhantes às leituras humanas padrão. Esses avanços tecnológicos não apenas melhoram a precisão, mas também oferecem a perspectiva de acelerar significativamente o processo de análise.</p>\\n\\n\\n\\n<p>Diante desses resultados, a presidente de um conselho de radiologistas do Reino Unido destaca o potencial colaborativo entre a IA e os radiologistas, prevendo um futuro onde ambos trabalham em conjunto para aprimorar a tomada de decisões clínicas. Alinhado com esta visão, um dos coautores do estudo enfatiza a IA como uma &#8220;rede de segurança eficaz&#8221;, capaz de identificar sinais sutis que poderiam passar despercebidos pelos radiologistas humanos.</p>\\n\\n\\n\\n<p>Além do impacto na precisão e velocidade, a IA também promete eficiência, com a Mia da Kheiron podendo economizar até 45% do tempo gasto na leitura de exames de câncer de mama, conforme destacado pelos pesquisadores.</p>\\n\\n\\n\\n<p>Os resultados encorajadores na Hungria e o sucesso da implementação da Mia em hospitais no Reino Unido e nos Estados Unidos sugerem que a IA tem o potencial de transformar significativamente o tratamento do câncer de mama. No entanto, os pesquisadores enfatizam a importância de expandir a pesquisa, incluindo mais países e explorando diferentes sistemas de IA, para alcançar um entendimento mais abrangente de como essa tecnologia pode ser aproveitada na detecção precoce do câncer. Este é um passo crucial em direção a um futuro em que a inteligência artificial e os profissionais de saúde colaboram para salvar vidas.</p>\\n<p>O post <a href=\"https://iaexpert.academy/2023/11/29/ia-identifica-mais-casos-cancer-mama-que-medicos-radiologistas/\" rel=\"nofollow\">IA identifica mais casos de câncer de mama do que médicos radiologistas</a> apareceu primeiro em <a href=\"https://iaexpert.academy\" rel=\"nofollow\">IA Expert Academy</a>.</p>'}],\n",
              "  'wfw_commentrss': 'https://iaexpert.academy/2023/11/29/ia-identifica-mais-casos-cancer-mama-que-medicos-radiologistas/feed/',\n",
              "  'slash_comments': '0'},\n",
              " {'title': 'Google apresenta GraphCast, modelo de IA revolucionário para previsão do tempo',\n",
              "  'title_detail': {'type': 'text/plain',\n",
              "   'language': None,\n",
              "   'base': 'https://iaexpert.academy/feed/',\n",
              "   'value': 'Google apresenta GraphCast, modelo de IA revolucionário para previsão do tempo'},\n",
              "  'links': [{'rel': 'alternate',\n",
              "    'type': 'text/html',\n",
              "    'href': 'https://iaexpert.academy/2023/11/22/google-apresenta-graphcast-modelo-ia-revolucionario-previsao-tempo/?utm_source=rss&utm_medium=rss&utm_campaign=google-apresenta-graphcast-modelo-ia-revolucionario-previsao-tempo'}],\n",
              "  'link': 'https://iaexpert.academy/2023/11/22/google-apresenta-graphcast-modelo-ia-revolucionario-previsao-tempo/?utm_source=rss&utm_medium=rss&utm_campaign=google-apresenta-graphcast-modelo-ia-revolucionario-previsao-tempo',\n",
              "  'comments': 'https://iaexpert.academy/2023/11/22/google-apresenta-graphcast-modelo-ia-revolucionario-previsao-tempo/#respond',\n",
              "  'authors': [{'name': 'Denny Ceccon'}],\n",
              "  'author': 'Denny Ceccon',\n",
              "  'author_detail': {'name': 'Denny Ceccon'},\n",
              "  'published': 'Wed, 22 Nov 2023 08:00:00 +0000',\n",
              "  'published_parsed': time.struct_time(tm_year=2023, tm_mon=11, tm_mday=22, tm_hour=8, tm_min=0, tm_sec=0, tm_wday=2, tm_yday=326, tm_isdst=0),\n",
              "  'tags': [{'term': 'Notícias', 'scheme': None, 'label': None},\n",
              "   {'term': 'google', 'scheme': None, 'label': None},\n",
              "   {'term': 'inteligência artificial', 'scheme': None, 'label': None},\n",
              "   {'term': 'previsão do tempo', 'scheme': None, 'label': None}],\n",
              "  'id': 'https://iaexpert.academy/?p=42958',\n",
              "  'guidislink': False,\n",
              "  'summary': '<p>GraphCast revoluciona previsão do tempo com IA, superando padrões e oferecendo alertas precoces para extremos climáticos.</p>\\n<p>O post <a href=\"https://iaexpert.academy/2023/11/22/google-apresenta-graphcast-modelo-ia-revolucionario-previsao-tempo/\" rel=\"nofollow\">Google apresenta GraphCast, modelo de IA revolucionário para previsão do tempo</a> apareceu primeiro em <a href=\"https://iaexpert.academy\" rel=\"nofollow\">IA Expert Academy</a>.</p>',\n",
              "  'summary_detail': {'type': 'text/html',\n",
              "   'language': None,\n",
              "   'base': 'https://iaexpert.academy/feed/',\n",
              "   'value': '<p>GraphCast revoluciona previsão do tempo com IA, superando padrões e oferecendo alertas precoces para extremos climáticos.</p>\\n<p>O post <a href=\"https://iaexpert.academy/2023/11/22/google-apresenta-graphcast-modelo-ia-revolucionario-previsao-tempo/\" rel=\"nofollow\">Google apresenta GraphCast, modelo de IA revolucionário para previsão do tempo</a> apareceu primeiro em <a href=\"https://iaexpert.academy\" rel=\"nofollow\">IA Expert Academy</a>.</p>'},\n",
              "  'content': [{'type': 'text/html',\n",
              "    'language': None,\n",
              "    'base': 'https://iaexpert.academy/feed/',\n",
              "    'value': '<p>Em um mundo onde o impacto do clima é sentido diariamente, previsões do tempo acuradas e rápidas são consideradas cruciais. Esta tarefa é um dos projetos científicos mais antigos e desafiadores. Os modelos que tratam do problema geralmente aplicam a chamada Previsão Numérica do Tempo (NWP, <em>numerical weather prediction</em>), que depende de equações físicas bem definidas, as quais são traduzidas em algoritmos que rodam em supercomputadores. Apesar desta abordagem ter alcançado relativo sucesso, seu desenvolvimento é lento e depende de expertise profunda, além de recursos computacionais onerosos.</p>\\n\\n\\n\\n<p>Num avanço significativo, pesquisadores do DeepMind (Google) apresentaram o modelo de IA GraphCast, destacado em um <a href=\"https://www.science.org/doi/10.1126/science.adi2336\">artigo publicado na revista Science</a> na semana passada. O GraphCast se destaca ao fornecer previsões meteorológicas de médio alcance com uma precisão sem precedentes, superando o padrão ouro da indústria &#8211; o sistema Previsão de Alta Resolução (HRES, <em>High-Resolution Forecast</em>) do Centro Europeu para Previsões Meteorológicas de Médio Prazo (ECMWF). As previsões do modelo, estendendo-se até 10 dias no futuro, são mais rápidas e precisas, oferecendo alertas precoces para eventos climáticos extremos, como ciclones, rios atmosféricos e temperaturas extremas.</p>\\n\\n\\n\\n<p>A abordagem do GraphCast combina aprendizado profundo com métodos tradicionais de NWP. Treinado em décadas de dados históricos de clima, o modelo utiliza Redes Neurais Gráficas (GNNs) para processar dados espacialmente estruturados, operando em uma impressionante resolução de 0,25 graus de longitude/latitude. Para cada ponto nessa malha gigantesca, o modelo prediz cinco variáveis de relevo, incluindo temperatura, velocidade e direção do vento, e pressão, e seis variáveis atmosféricas em 37 níveis de altitude, incluindo umidade específica, velocidade e direção do vento, e temperatura. A eficiência do modelo é evidente, pois produz previsões de 10 dias em menos de um minuto em uma única máquina Google TPU v4, uma melhoria notável em comparação com métodos convencionais que exigem horas de computação em supercomputadores.</p>\\n\\n\\n\\n<p>Uma avaliação abrangente de desempenho em comparação com o padrão da indústria HRES demonstra a superioridade do GraphCast, fornecendo previsões mais precisas em mais de 90% das variáveis de teste e tempos de previsão. Na região crucial da troposfera, onde as previsões são mais importantes, o GraphCast superou o HRES em impressionantes 99,7% das variáveis de teste para o clima futuro. Notavelmente, o modelo se destaca na identificação precoce de eventos climáticos graves em relação aos modelos tradicionais de previsão, mostrando seu potencial para o gerenciamento proativo de desastres.</p>\\n\\n\\n\\n<p>Comprometida com a democratização da previsão do tempo, a equipe do GraphCast disponibilizou o <a href=\"https://github.com/google-deepmind/graphcast\">código do modelo</a>, possibilitando acessibilidade global para cientistas e meteorologistas. O ECMWF já implementou o GraphCast em experimentos ao vivo em seu site, marcando um passo rumo à revolução da previsão do tempo em todo o mundo. O GraphCast, junto com outros sistemas de previsão do tempo de última geração, incluindo aqueles do Google DeepMind e do Google Research, representa a vanguarda do papel da IA na formação do futuro da meteorologia. Além da conveniência diária, o impacto global da previsão do tempo impulsionada por IA promete enfrentar desafios ambientais mais amplos em nosso clima em constante mudança.</p>\\n<p>O post <a href=\"https://iaexpert.academy/2023/11/22/google-apresenta-graphcast-modelo-ia-revolucionario-previsao-tempo/\" rel=\"nofollow\">Google apresenta GraphCast, modelo de IA revolucionário para previsão do tempo</a> apareceu primeiro em <a href=\"https://iaexpert.academy\" rel=\"nofollow\">IA Expert Academy</a>.</p>'}],\n",
              "  'wfw_commentrss': 'https://iaexpert.academy/2023/11/22/google-apresenta-graphcast-modelo-ia-revolucionario-previsao-tempo/feed/',\n",
              "  'slash_comments': '0'},\n",
              " {'title': 'Grok é a LLM da xAI',\n",
              "  'title_detail': {'type': 'text/plain',\n",
              "   'language': None,\n",
              "   'base': 'https://iaexpert.academy/feed/',\n",
              "   'value': 'Grok é a LLM da xAI'},\n",
              "  'links': [{'rel': 'alternate',\n",
              "    'type': 'text/html',\n",
              "    'href': 'https://iaexpert.academy/2023/11/15/grok-llm-xai/?utm_source=rss&utm_medium=rss&utm_campaign=grok-llm-xai'}],\n",
              "  'link': 'https://iaexpert.academy/2023/11/15/grok-llm-xai/?utm_source=rss&utm_medium=rss&utm_campaign=grok-llm-xai',\n",
              "  'comments': 'https://iaexpert.academy/2023/11/15/grok-llm-xai/#respond',\n",
              "  'authors': [{'name': 'Denny Ceccon'}],\n",
              "  'author': 'Denny Ceccon',\n",
              "  'author_detail': {'name': 'Denny Ceccon'},\n",
              "  'published': 'Wed, 15 Nov 2023 08:00:00 +0000',\n",
              "  'published_parsed': time.struct_time(tm_year=2023, tm_mon=11, tm_mday=15, tm_hour=8, tm_min=0, tm_sec=0, tm_wday=2, tm_yday=319, tm_isdst=0),\n",
              "  'tags': [{'term': 'Notícias', 'scheme': None, 'label': None},\n",
              "   {'term': 'inteligência artificial', 'scheme': None, 'label': None},\n",
              "   {'term': 'LLM', 'scheme': None, 'label': None},\n",
              "   {'term': 'xAI', 'scheme': None, 'label': None}],\n",
              "  'id': 'https://iaexpert.academy/?p=42783',\n",
              "  'guidislink': False,\n",
              "  'summary': '<p>xAI desenvolve o Grok para avançar IA, destacando eficiência e avanços em capacidades de modelagem linguística.</p>\\n<p>O post <a href=\"https://iaexpert.academy/2023/11/15/grok-llm-xai/\" rel=\"nofollow\">Grok é a LLM da xAI</a> apareceu primeiro em <a href=\"https://iaexpert.academy\" rel=\"nofollow\">IA Expert Academy</a>.</p>',\n",
              "  'summary_detail': {'type': 'text/html',\n",
              "   'language': None,\n",
              "   'base': 'https://iaexpert.academy/feed/',\n",
              "   'value': '<p>xAI desenvolve o Grok para avançar IA, destacando eficiência e avanços em capacidades de modelagem linguística.</p>\\n<p>O post <a href=\"https://iaexpert.academy/2023/11/15/grok-llm-xai/\" rel=\"nofollow\">Grok é a LLM da xAI</a> apareceu primeiro em <a href=\"https://iaexpert.academy\" rel=\"nofollow\">IA Expert Academy</a>.</p>'},\n",
              "  'content': [{'type': 'text/html',\n",
              "    'language': None,\n",
              "    'base': 'https://iaexpert.academy/feed/',\n",
              "    'value': '<p>A xAI, nova empresa de Elon Musk com foco em inteligência artificial, acaba de anunciar o <a href=\"https://x.ai/model-card/\">Grok</a>, sua LLM proprietária. A empresa apresenta a ferramenta como um companheiro de IA versátil, projetado para atender a indivíduos de diversas origens e perspectivas políticas. Alguns diferenciais são que o sistema foi treinado tendo como base a série de livros O Guia do Mochileiro das Galáxias, o que lhe confere uma personalidade sarcástica, além de ter acesso a conhecimento do mundo em tempo real graças a sua comunicação com o X.</p>\\n\\n\\n\\n<p>O Grok, impulsionado pelo avançado motor Grok-1, passou por um desenvolvimento substancial nos últimos quatro meses. A jornada começou com o protótipo Grok-0, um modelo com 33 bilhões de parâmetros que se aproximava das capacidades do LLaMA 2, mas utilizava apenas metade dos recursos de treinamento. A evolução culminou no Grok-1, um modelo de linguagem de ponta treinado em apenas impressionantes 2 meses, que alcançou resultados notáveis, incluindo 63,2% na tarefa de codificação HumanEval e 73% no MMLU, um benchmark multidisciplinar, ultrapassando modelos similares como o ChatGPT-3.5 e o Inflection-1. A equipe desenvolvedora estabeleceu uma infraestrutura robusta usando Kubernetes, Rust e JAX.</p>\\n\\n\\n\\n<p>Um teste da vida real envolveu a avaliação manual do Grok-1 frente a outras LLMs de ponta, como Claude-2 e os modelos da família GPT, nas finais nacionais de matemática da Hungria em 2023. O Grok alcançou nota C (59%), ficando atrás apenas do GPT-4, que foi treinado com uma quantidade muito maior de dados, destacando suas capacidades em um cenário de avaliação inesperado.</p>\\n\\n\\n\\n<p>Olhando para o futuro, a xAI está se preparando para o próximo salto nas capacidades do modelo, exigindo a coordenação de execuções de treinamento em dezenas de milhares de aceleradores, execução de pipelines de dados em escala de internet e aprimoramento das capacidades do Grok.</p>\\n\\n\\n\\n<p>No campo da pesquisa, a xAI reconhece a importância de abordar as limitações dos sistemas atuais. Direções promissoras de pesquisa incluem supervisão escalável com assistência de ferramentas, integração com verificação formal para segurança e confiabilidade, compreensão e recuperação de longo contexto, robustez adversarial e o desenvolvimento de capacidades multimodais para o Grok.</p>\\n\\n\\n\\n<p>Para oferecer aos usuários uma experiência antecipada, a xAI está proporcionando a um número limitado de usuários nos Estados Unidos acesso ao protótipo Grok. Este programa de acesso antecipado convida os usuários a experimentar o Grok e fornecer feedback, moldando suas capacidades antes de um lançamento mais amplo.</p>\\n<p>O post <a href=\"https://iaexpert.academy/2023/11/15/grok-llm-xai/\" rel=\"nofollow\">Grok é a LLM da xAI</a> apareceu primeiro em <a href=\"https://iaexpert.academy\" rel=\"nofollow\">IA Expert Academy</a>.</p>'}],\n",
              "  'wfw_commentrss': 'https://iaexpert.academy/2023/11/15/grok-llm-xai/feed/',\n",
              "  'slash_comments': '0'},\n",
              " {'title': 'Project Res-Up é solução de IA da Adobe para aumentar resolução de vídeos',\n",
              "  'title_detail': {'type': 'text/plain',\n",
              "   'language': None,\n",
              "   'base': 'https://iaexpert.academy/feed/',\n",
              "   'value': 'Project Res-Up é solução de IA da Adobe para aumentar resolução de vídeos'},\n",
              "  'links': [{'rel': 'alternate',\n",
              "    'type': 'text/html',\n",
              "    'href': 'https://iaexpert.academy/2023/11/08/project-res-up-solucao-ia-adobe-para-aumentar-resolucao-videos/?utm_source=rss&utm_medium=rss&utm_campaign=project-res-up-solucao-ia-adobe-para-aumentar-resolucao-videos'}],\n",
              "  'link': 'https://iaexpert.academy/2023/11/08/project-res-up-solucao-ia-adobe-para-aumentar-resolucao-videos/?utm_source=rss&utm_medium=rss&utm_campaign=project-res-up-solucao-ia-adobe-para-aumentar-resolucao-videos',\n",
              "  'comments': 'https://iaexpert.academy/2023/11/08/project-res-up-solucao-ia-adobe-para-aumentar-resolucao-videos/#respond',\n",
              "  'authors': [{'name': 'Denny Ceccon'}],\n",
              "  'author': 'Denny Ceccon',\n",
              "  'author_detail': {'name': 'Denny Ceccon'},\n",
              "  'published': 'Wed, 08 Nov 2023 08:00:00 +0000',\n",
              "  'published_parsed': time.struct_time(tm_year=2023, tm_mon=11, tm_mday=8, tm_hour=8, tm_min=0, tm_sec=0, tm_wday=2, tm_yday=312, tm_isdst=0),\n",
              "  'tags': [{'term': 'Notícias', 'scheme': None, 'label': None},\n",
              "   {'term': 'Adobe', 'scheme': None, 'label': None},\n",
              "   {'term': 'edição de vídeos', 'scheme': None, 'label': None},\n",
              "   {'term': 'inteligência artificial', 'scheme': None, 'label': None},\n",
              "   {'term': 'upscaling', 'scheme': None, 'label': None}],\n",
              "  'id': 'https://iaexpert.academy/?p=42684',\n",
              "  'guidislink': False,\n",
              "  'summary': '<p>A ferramenta promete aos usuários dos produtos da empresa uma interface simples para upscaling de vídeos e gifs.</p>\\n<p>O post <a href=\"https://iaexpert.academy/2023/11/08/project-res-up-solucao-ia-adobe-para-aumentar-resolucao-videos/\" rel=\"nofollow\">Project Res-Up é solução de IA da Adobe para aumentar resolução de vídeos</a> apareceu primeiro em <a href=\"https://iaexpert.academy\" rel=\"nofollow\">IA Expert Academy</a>.</p>',\n",
              "  'summary_detail': {'type': 'text/html',\n",
              "   'language': None,\n",
              "   'base': 'https://iaexpert.academy/feed/',\n",
              "   'value': '<p>A ferramenta promete aos usuários dos produtos da empresa uma interface simples para upscaling de vídeos e gifs.</p>\\n<p>O post <a href=\"https://iaexpert.academy/2023/11/08/project-res-up-solucao-ia-adobe-para-aumentar-resolucao-videos/\" rel=\"nofollow\">Project Res-Up é solução de IA da Adobe para aumentar resolução de vídeos</a> apareceu primeiro em <a href=\"https://iaexpert.academy\" rel=\"nofollow\">IA Expert Academy</a>.</p>'},\n",
              "  'content': [{'type': 'text/html',\n",
              "    'language': None,\n",
              "    'base': 'https://iaexpert.academy/feed/',\n",
              "    'value': '<p>As ferramentas que aplicam inteligência artificial com finalidade prática estão cada vez mais próximas do usuário que não entende de programação. No evento Adobe MAX, que ocorreu mês passado, por exemplo, a Adobe anunciou o Project Res-Up, uma ferramenta de upscaling de vídeo que deve em breve fazer parte da suíte de programas da empresa.</p>\\n\\n\\n\\n<p>O objetivo do Project Res-Up é ser uma ferramenta fácil para converter vídeos de baixa para alta resolução. Para isso, ele utiliza modelos estado da arte baseados em difusão. Em uma demonstração no evento, um cientista da empresa submeteu um recorte de um vídeo, em uma interface simples do tipo arrastar e enviar. Em cerca de 9 segundos, o resultado estava disponível. O aumento de resolução foi de mais de 6 vezes.</p>\\n\\n\\n\\n<figure class=\"wp-block-embed is-type-video is-provider-youtube wp-block-embed-youtube wp-embed-aspect-16-9 wp-has-aspect-ratio\"><div class=\"wp-block-embed__wrapper\">\\n<span class=\"QhFG8cNjliLa2WK3Zs0fzebXDwU4dCHOqmYSxJTPtBk95R6oEn1rvI\"><div class=\"ast-oembed-container\" style=\"height: 100%;\"></div></span>\\n</div><figcaption class=\"wp-element-caption\">Demonstração da ferramenta Project Res-Up no evento Adobe MAX.</figcaption></figure>\\n\\n\\n\\n<p>O foco do produto é melhor a qualidade de vídeos antigos, desfocados ou recortes com zoom, aceitando também arquivos no formato GIF. Com isso, as versões de resolução maior ficam mais nítidas em telas HD, que representam o padrão no mercado atual.</p>\\n\\n\\n\\n<p>Por enquanto, o Project Res-Up segue como projeto, mas várias ideias apresentadas em eventos anteriores da empresa vieram a se tornar soluções disponíveis ao usuário. Com a popularidade de ferramentas baseadas em inteligência artificial, é seguro prever que este é o caminho mais provável também para esta novidade.</p>\\n<p>O post <a href=\"https://iaexpert.academy/2023/11/08/project-res-up-solucao-ia-adobe-para-aumentar-resolucao-videos/\" rel=\"nofollow\">Project Res-Up é solução de IA da Adobe para aumentar resolução de vídeos</a> apareceu primeiro em <a href=\"https://iaexpert.academy\" rel=\"nofollow\">IA Expert Academy</a>.</p>'}],\n",
              "  'wfw_commentrss': 'https://iaexpert.academy/2023/11/08/project-res-up-solucao-ia-adobe-para-aumentar-resolucao-videos/feed/',\n",
              "  'slash_comments': '0'},\n",
              " {'title': 'Novo método de treinamento ajuda a inteligência artificial a generalizar como humanos',\n",
              "  'title_detail': {'type': 'text/plain',\n",
              "   'language': None,\n",
              "   'base': 'https://iaexpert.academy/feed/',\n",
              "   'value': 'Novo método de treinamento ajuda a inteligência artificial a generalizar como humanos'},\n",
              "  'links': [{'rel': 'alternate',\n",
              "    'type': 'text/html',\n",
              "    'href': 'https://iaexpert.academy/2023/11/01/novo-metodo-treinamento-ajuda-inteligencia-artificial-generalizar-como-humanos/?utm_source=rss&utm_medium=rss&utm_campaign=novo-metodo-treinamento-ajuda-inteligencia-artificial-generalizar-como-humanos'}],\n",
              "  'link': 'https://iaexpert.academy/2023/11/01/novo-metodo-treinamento-ajuda-inteligencia-artificial-generalizar-como-humanos/?utm_source=rss&utm_medium=rss&utm_campaign=novo-metodo-treinamento-ajuda-inteligencia-artificial-generalizar-como-humanos',\n",
              "  'comments': 'https://iaexpert.academy/2023/11/01/novo-metodo-treinamento-ajuda-inteligencia-artificial-generalizar-como-humanos/#respond',\n",
              "  'authors': [{'name': 'Denny Ceccon'}],\n",
              "  'author': 'Denny Ceccon',\n",
              "  'author_detail': {'name': 'Denny Ceccon'},\n",
              "  'published': 'Wed, 01 Nov 2023 08:00:00 +0000',\n",
              "  'published_parsed': time.struct_time(tm_year=2023, tm_mon=11, tm_mday=1, tm_hour=8, tm_min=0, tm_sec=0, tm_wday=2, tm_yday=305, tm_isdst=0),\n",
              "  'tags': [{'term': 'Notícias', 'scheme': None, 'label': None},\n",
              "   {'term': 'inteligência artificial', 'scheme': None, 'label': None},\n",
              "   {'term': 'LLMs', 'scheme': None, 'label': None}],\n",
              "  'id': 'https://iaexpert.academy/?p=42574',\n",
              "  'guidislink': False,\n",
              "  'summary': '<p>Estudo contraria a ideia de que somente aumentar a quantidade de dados para treinamento vai ajudar a inteligência artificial a \"pensar\" como humanos.</p>\\n<p>O post <a href=\"https://iaexpert.academy/2023/11/01/novo-metodo-treinamento-ajuda-inteligencia-artificial-generalizar-como-humanos/\" rel=\"nofollow\">Novo método de treinamento ajuda a inteligência artificial a generalizar como humanos</a> apareceu primeiro em <a href=\"https://iaexpert.academy\" rel=\"nofollow\">IA Expert Academy</a>.</p>',\n",
              "  'summary_detail': {'type': 'text/html',\n",
              "   'language': None,\n",
              "   'base': 'https://iaexpert.academy/feed/',\n",
              "   'value': '<p>Estudo contraria a ideia de que somente aumentar a quantidade de dados para treinamento vai ajudar a inteligência artificial a \"pensar\" como humanos.</p>\\n<p>O post <a href=\"https://iaexpert.academy/2023/11/01/novo-metodo-treinamento-ajuda-inteligencia-artificial-generalizar-como-humanos/\" rel=\"nofollow\">Novo método de treinamento ajuda a inteligência artificial a generalizar como humanos</a> apareceu primeiro em <a href=\"https://iaexpert.academy\" rel=\"nofollow\">IA Expert Academy</a>.</p>'},\n",
              "  'content': [{'type': 'text/html',\n",
              "    'language': None,\n",
              "    'base': 'https://iaexpert.academy/feed/',\n",
              "    'value': '<p>A busca por desenvolver máquinas inteligentes capazes de raciocinar como seres humanos é um objetivo duradouro na área de inteligência artificial. Um <a href=\"https://www.nature.com/articles/s41586-023-06668-3\">estudo recente publicado na Nature</a> traz uma perspectiva inovadora ao sugerir que a chave para criar modelos de IA flexíveis e com capacidade de raciocínio humano pode estar na forma como esses modelos são treinados, em vez de simplesmente na quantidade de dados de treinamento que recebem.</p>\\n\\n\\n\\n<p>A composicionalidade, ou a capacidade de combinar informações de maneira criativa, é um dos princípios fundamentais da cognição humana. Isso nos permite, por exemplo, criar receitas únicas a partir de ingredientes familiares, e de forma mais genérica, compreender frases que nunca vimos antes. No entanto, replicar essa capacidade na IA tem sido um desafio. Mesmo modelos avançados como os da família GPT têm dificuldade em alcançar a verdadeira composicionalidade.</p>\\n\\n\\n\\n<p>O estudo publicado adota uma abordagem diferente. Em vez de criar um novo modelo de IA do zero, os pesquisadores utilizaram um modelo transformer padrão, semelhante aos usados no GPT, mas sem treinamento prévio em texto. A chave foi a forma como eles conduziram o processo de treinamento. Eles desenvolveram uma linguagem fictícia com palavras sem significado, como &#8220;dax,&#8221; &#8220;lug,&#8221; &#8220;kiki,&#8221; &#8220;fep&#8221; e &#8220;blicket,&#8221; relacionadas a conjuntos de pontos coloridos. O modelo de IA foi treinado para compreender as regras dessa linguagem fictícia, mesmo que não tivesse informações explícitas sobre as associações entre palavras e pontos coloridos. </p>\\n\\n\\n\\n<p>O modelo treinado dessa forma superou os humanos em testes de compreensão dessa linguagem fictícia, atingindo 100% de precisão em sua melhor performance, enquanto os humanos alcançaram 81% de precisão. Avaliado na mesma tarefa, o GPT-4 teve somente 58% de acertos.</p>\\n\\n\\n\\n<p>Essa descoberta desafia a ideia predominante de que aumentar a quantidade de dados de treinamento é o único caminho para melhorar a IA. Ela sugere que protocolos de treinamento específicos e direcionados podem ser uma alternativa eficaz para aprimorar a capacidade de raciocínio e generalização dos modelos de IA.</p>\\n\\n\\n\\n<p>No entanto, é importante reconhecer que esse estudo possui limitações. O modelo treinado se destacou em uma tarefa específica, mas ainda enfrenta desafios em novas formas de generalização e não atingiu o nível de inteligência artificial geral, onde a IA superaria as habilidades humanas na maioria das tarefas.</p>\\n\\n\\n\\n<p>Essa pesquisa oferece uma visão empolgante do futuro da inteligência artificial, destacando a importância de manter expectativas realistas em relação às capacidades atuais da IA. Embora promissora, a IA ainda tem seus limites, e entender essas limitações é fundamental à medida que continuamos a explorar seu potencial.</p>\\n<p>O post <a href=\"https://iaexpert.academy/2023/11/01/novo-metodo-treinamento-ajuda-inteligencia-artificial-generalizar-como-humanos/\" rel=\"nofollow\">Novo método de treinamento ajuda a inteligência artificial a generalizar como humanos</a> apareceu primeiro em <a href=\"https://iaexpert.academy\" rel=\"nofollow\">IA Expert Academy</a>.</p>'}],\n",
              "  'wfw_commentrss': 'https://iaexpert.academy/2023/11/01/novo-metodo-treinamento-ajuda-inteligencia-artificial-generalizar-como-humanos/feed/',\n",
              "  'slash_comments': '0'},\n",
              " {'title': 'TSMixer: solução do Google une modelos lineares e redes neurais para previsões de séries temporais',\n",
              "  'title_detail': {'type': 'text/plain',\n",
              "   'language': None,\n",
              "   'base': 'https://iaexpert.academy/feed/',\n",
              "   'value': 'TSMixer: solução do Google une modelos lineares e redes neurais para previsões de séries temporais'},\n",
              "  'links': [{'rel': 'alternate',\n",
              "    'type': 'text/html',\n",
              "    'href': 'https://iaexpert.academy/2023/10/25/tsmixer-solucao-do-google-une-modelos-lineares-e-redes-neurais-para-previsoes-de-series-temporais/?utm_source=rss&utm_medium=rss&utm_campaign=tsmixer-solucao-do-google-une-modelos-lineares-e-redes-neurais-para-previsoes-de-series-temporais'}],\n",
              "  'link': 'https://iaexpert.academy/2023/10/25/tsmixer-solucao-do-google-une-modelos-lineares-e-redes-neurais-para-previsoes-de-series-temporais/?utm_source=rss&utm_medium=rss&utm_campaign=tsmixer-solucao-do-google-une-modelos-lineares-e-redes-neurais-para-previsoes-de-series-temporais',\n",
              "  'comments': 'https://iaexpert.academy/2023/10/25/tsmixer-solucao-do-google-une-modelos-lineares-e-redes-neurais-para-previsoes-de-series-temporais/#respond',\n",
              "  'authors': [{'name': 'Denny Ceccon'}],\n",
              "  'author': 'Denny Ceccon',\n",
              "  'author_detail': {'name': 'Denny Ceccon'},\n",
              "  'published': 'Wed, 25 Oct 2023 08:00:00 +0000',\n",
              "  'published_parsed': time.struct_time(tm_year=2023, tm_mon=10, tm_mday=25, tm_hour=8, tm_min=0, tm_sec=0, tm_wday=2, tm_yday=298, tm_isdst=0),\n",
              "  'tags': [{'term': 'Notícias', 'scheme': None, 'label': None},\n",
              "   {'term': 'google', 'scheme': None, 'label': None},\n",
              "   {'term': 'inteligência artificial', 'scheme': None, 'label': None},\n",
              "   {'term': 'séries temporais', 'scheme': None, 'label': None},\n",
              "   {'term': 'transformers', 'scheme': None, 'label': None}],\n",
              "  'id': 'https://iaexpert.academy/?p=42517',\n",
              "  'guidislink': False,\n",
              "  'summary': '<p>Abordagem une modelos lineares univariados e transformer multivariados para previsões temporais excepcionais.</p>\\n<p>O post <a href=\"https://iaexpert.academy/2023/10/25/tsmixer-solucao-do-google-une-modelos-lineares-e-redes-neurais-para-previsoes-de-series-temporais/\" rel=\"nofollow\">TSMixer: solução do Google une modelos lineares e redes neurais para previsões de séries temporais</a> apareceu primeiro em <a href=\"https://iaexpert.academy\" rel=\"nofollow\">IA Expert Academy</a>.</p>',\n",
              "  'summary_detail': {'type': 'text/html',\n",
              "   'language': None,\n",
              "   'base': 'https://iaexpert.academy/feed/',\n",
              "   'value': '<p>Abordagem une modelos lineares univariados e transformer multivariados para previsões temporais excepcionais.</p>\\n<p>O post <a href=\"https://iaexpert.academy/2023/10/25/tsmixer-solucao-do-google-une-modelos-lineares-e-redes-neurais-para-previsoes-de-series-temporais/\" rel=\"nofollow\">TSMixer: solução do Google une modelos lineares e redes neurais para previsões de séries temporais</a> apareceu primeiro em <a href=\"https://iaexpert.academy\" rel=\"nofollow\">IA Expert Academy</a>.</p>'},\n",
              "  'content': [{'type': 'text/html',\n",
              "    'language': None,\n",
              "    'base': 'https://iaexpert.academy/feed/',\n",
              "    'value': '<p>A previsão de séries temporais desempenha um papel crucial em várias aplicações do mundo real, que vão desde a previsão da demanda até a análise da propagação de pandemias. O campo da previsão de séries temporais multivariadas testemunhou duas categorias principais de modelos: univariados e multivariados. Modelos univariados focam na captura de tendências e padrões sazonais em séries temporais de variável única, enquanto que modelos multivariados, na forma de redes neurais, estendem suas capacidades para processar informações cruzadas entre variáveis diferentes, fornecendo insights sobre as interações entre essas variáveis. Comparações entre as duas abordagens levantaram um paradoxo intrigante: modelos multivariados avançados frequentemente têm desempenho inferior a modelos lineares univariados mais simples em benchmarks de previsão de longo prazo, levantando questões sobre a importância da informação cruzada na previsão de séries temporais.</p>\\n\\n\\n\\n<p>Em resposta a esse desafio, a equipe do Google AI introduziu uma solução batizada de <a href=\"https://blog.research.google/2023/09/tsmixer-all-mlp-architecture-for-time.html\">Time-Series Mixer (TSMixer)</a>. O TSMixer é uma abordagem inovadora que aproveita os pontos fortes dos modelos lineares enquanto incorpora eficientemente informações cruzadas através de um transformer modificado, resultando em um modelo que rivaliza o desempenho dos melhores modelos univariados em benchmarks de previsão de longo prazo.</p>\\n\\n\\n\\n<p>Uma das principais diferenças entre modelos lineares e arquiteturas baseadas em transformers é a forma como eles capturam padrões temporais. Modelos lineares utilizam pesos fixos dependentes do passo de tempo, enquanto que os transformers têm pesos dinâmicos dependentes de dados processados por meio de mecanismos de atenção. O TSMixer preenche essa lacuna combinando essas duas abordagens ao substituir as camadas de atenção do transformer por camadas lineares.</p>\\n\\n\\n\\n<p>Os resultados empíricos são uma prova da habilidade do TSMixer. Ele supera outros modelos multivariados e se equipara aos melhores modelos univariados quando avaliado em relação a conjuntos de dados populares de previsão de longo prazo. Isso demonstra que modelos multivariados bem projetados podem igualar o desempenho de seus homólogos univariados.</p>\\n\\n\\n\\n<p>O modelo se destaca em aplicações onde a informação cruzada é menos benéfica, como demonstrado por seu sucesso em diversos benchmarks de previsão de longo prazo. No entanto, ele também mostra sua força quando desafiado com conjuntos de dados mais complexos e realistas, como o benchmark M5, que exige a incorporação de informações cruzadas, recursos auxiliares e uma compreensão das interações intricadas entre variáveis.</p>\\n\\n\\n\\n<p>Ao unir os pontos fortes dos modelos lineares com a adaptabilidade das arquiteturas baseadas em transformers, o TSMixer oferece novas possibilidades para o desenvolvimento de modelos de previsão de séries temporais. O anúncio do modelo acompanha um <a href=\"https://arxiv.org/abs/2303.06053\">artigo</a> com mais detalhes técnicos.</p>\\n<p>O post <a href=\"https://iaexpert.academy/2023/10/25/tsmixer-solucao-do-google-une-modelos-lineares-e-redes-neurais-para-previsoes-de-series-temporais/\" rel=\"nofollow\">TSMixer: solução do Google une modelos lineares e redes neurais para previsões de séries temporais</a> apareceu primeiro em <a href=\"https://iaexpert.academy\" rel=\"nofollow\">IA Expert Academy</a>.</p>'}],\n",
              "  'wfw_commentrss': 'https://iaexpert.academy/2023/10/25/tsmixer-solucao-do-google-une-modelos-lineares-e-redes-neurais-para-previsoes-de-series-temporais/feed/',\n",
              "  'slash_comments': '0'}]"
            ]
          },
          "metadata": {},
          "execution_count": 38
        }
      ]
    },
    {
      "cell_type": "code",
      "metadata": {
        "colab": {
          "base_uri": "https://localhost:8080/"
        },
        "id": "CBAhLmzCHWud",
        "outputId": "3a14924e-e239-436d-d4ba-6e37cbece361"
      },
      "source": [
        "# Acessando algumas informações no conteúdo do feed\n",
        "for e in feed.entries:\n",
        "  print(e.title) # Título da notícia\n",
        "  print(e.links[0].href) # Links nessa notícia\n",
        "  print(e.content[0].value) # O corpo do texto de dessa notícia"
      ],
      "execution_count": 43,
      "outputs": [
        {
          "output_type": "stream",
          "name": "stdout",
          "text": [
            "Novo método apresenta resultados inéditos para reconstrução de imagens mentais a partir de atividade cerebral\n",
            "https://iaexpert.academy/2023/12/20/novo-metodo-apresenta-resultados-ineditos-para-reconstrucao-imagens-mentais-a-partir-atividade-cerebral/?utm_source=rss&utm_medium=rss&utm_campaign=novo-metodo-apresenta-resultados-ineditos-para-reconstrucao-imagens-mentais-a-partir-atividade-cerebral\n",
            "<p>No dinâmico cruzamento entre inteligência artificial e neurociência, uma das áreas mais fascinantes e desafiadoras corresponde à geração de informação estruturada a partir da atividade cerebral. Um <a href=\"https://www.sciencedirect.com/science/article/pii/S0893608023006470\">estudo</a> publicado por pesquisadores associados à Universidade de Osaka, no Japão, apresenta resultados inéditos para a reconstrução de imagens mentais, vistas ou imaginadas, em representações visuais, literalmente traduzindo pensamentos.</p>\n",
            "\n",
            "\n",
            "\n",
            "<p>O estudo utiliza a decodificação neural, uma técnica que traduz a atividade cerebral medida por ressonância magnética funcional (fMRI) em representações visuais. Estudos anteriores reconstruíram com sucesso domínios específicos, como rostos humanos, letras escritas à mão e imagens binárias. O que diferencia este estudo é a incorporação de redes neurais profundas (DNNs) e modelos generativos, alcançando uma reconstrução de imagem natural de maior fidelidade.</p>\n",
            "\n",
            "\n",
            "\n",
            "<p>Para enfrentar o desafio de externalizar a imaginação mental, os pesquisadores ampliaram um método anterior para um cenário de estimação bayesiana. Ao contrário dos métodos tradicionais que dependem fortemente de informações visuais de baixo nível, esta abordagem bayesiana permite a incorporação de conhecimentos prévios sofisticados de estudos recentes de visão computacional. O algoritmo de dinâmica estocástica de Langevin (SGLD) foi introduzido para amostragem da distribuição posterior, superando as limitações da estimação bayesiana tradicional na decodificação neural.</p>\n",
            "\n",
            "\n",
            "\n",
            "<p>Outra inovação chave envolve a integração de informações semânticas usando um modelo de pré-treinamento contrastivo de linguagem-imagem (CLIP). Ao traduzir sinais cerebrais em características semânticas fornecidas pelo CLIP, o estudo aprimora o processo de reconstrução de imagem. Esta assistência semântica compensa a falta de informações visuais de baixo nível, contribuindo para a reconstrução bem-sucedida de imagens vistas e imaginadas.</p>\n",
            "\n",
            "\n",
            "\n",
            "<p>Os pesquisadores aplicaram a abordagem para reconstruir imagens vistas e imaginadas, demonstrando resultados superiores em comparação com métodos anteriores: 91 e 76% de acurácia respectivamente, contra 64 e 50% reportados por outros estudos. O método proposto superou em termos de qualidade visual, precisão de identificação e pontuações de Inception. Além disso, o framework mostrou notável capacidade de generalização ao reconstruir com sucesso formas artificiais. Alguns exemplos são apresentados no <a href=\"https://www.sciencedirect.com/science/article/pii/S0893608023006470#sec0013\">artigo</a>.</p>\n",
            "\n",
            "\n",
            "\n",
            "<p>As implicações deste estudo se estendem além do campo da decodificação neural. O framework apresentado aqui abre caminhos para interfaces cérebro-máquina, onde pensamentos espontâneos podem ser decodificados e reconstruídos. Além disso, é evidente a possibilidade de devolver a pessoas incapacitadas a habilidade de se comunicar apenas com o pensamento.</p>\n",
            "\n",
            "\n",
            "\n",
            "<p>Em conclusão, a integração da estimação bayesiana, assistência semântica e algoritmos inovadores de aprendizado de máquina impulsionou o campo da decodificação neural a novos patamares. Este estudo marca um marco significativo na visualização de imagens subjetivas na mente humana, mostrando o potencial para entender processos cognitivos complexos e aplicações práticas em interfaces cérebro-máquina.</p>\n",
            "<p>O post <a href=\"https://iaexpert.academy/2023/12/20/novo-metodo-apresenta-resultados-ineditos-para-reconstrucao-imagens-mentais-a-partir-atividade-cerebral/\" rel=\"nofollow\">Novo método apresenta resultados inéditos para reconstrução de imagens mentais a partir de atividade cerebral</a> apareceu primeiro em <a href=\"https://iaexpert.academy\" rel=\"nofollow\">IA Expert Academy</a>.</p>\n",
            "Google apresenta Gemini, seu novo grande modelo de linguagem\n",
            "https://iaexpert.academy/2023/12/13/google-apresenta-gemini-seu-novo-grande-modelo-linguagem/?utm_source=rss&utm_medium=rss&utm_campaign=google-apresenta-gemini-seu-novo-grande-modelo-linguagem\n",
            "<p>Mais uma semana agitada no mundo dos grandes modelos de linguagem. Depois de meses de antecipação, o Google lança seu modelo mais avançado, batizado de Gemini. Este modelo representa como principal novidade a priorização da multimodalidade, permitindo que ele navegue e interaja com diversos formatos de dados, incluindo texto, imagens, áudio, vídeo e código. De acordo com a empresa, essa versatilidade inerente concede ao Gemini um poder significativo e abre portas para avanços potencialmente inovadores em vários setores.</p>\n",
            "\n",
            "\n",
            "\n",
            "<p>No <a href=\"https://blog.google/technology/ai/google-gemini-ai\">release à comunidade</a>, o Google enfatiza que um dos aspectos mais notáveis do Gemini reside em sua capacidade de gerar conteúdo criativo, como poemas e roteiros, que demonstravelmente rivalizam com obras produzidas por humanos. Este feito transcende a mera imitação, mostrando a capacidade do Gemini de captar as nuances da linguagem e da expressão artística. Além disso, suas capacidades multilíngues superam demonstravelmente as tecnologias de tradução existentes, oferecendo uma compreensão precisa e matizada dos contextos culturais, pavimentando o caminho para uma comunicação e colaboração global potencialmente perfeita.</p>\n",
            "\n",
            "\n",
            "\n",
            "<p>Em vários benchmarks, o Gemini obteve resultados impressionantes, superando o desempenho de modelos existentes de empresas líderes em IA como OpenAI, Inflection, Anthropic, Meta e xAI. Notavelmente, a versão &#8220;Gemini Ultra&#8221; supera os concorrentes em 30 dos 32 benchmarks acadêmicos amplamente usados ​​em pesquisas de grandes modelos de linguagem. Além disso, ele atinge uma pontuação de 90,0% no benchmark Massive Multitask Language Understanding (MMLU), superando o desempenho de especialistas humanos. Essas comparações sugerem que o Gemini representa um salto significativo no campo da IA e tem o potencial de remodelar a paisagem de várias indústrias e aplicações.</p>\n",
            "\n",
            "\n",
            "\n",
            "<p>Além do domínio da linguagem, o Gemini demonstra proeza no processamento e interpretação de dados sensoriais, tornando-o um desenvolvimento potencialmente revolucionário para áreas como saúde e educação. A empresa nos convida a imaginar um futuro onde diagnósticos médicos sejam entregues com maior velocidade e precisão, graças à capacidade do Gemini de analisar grandes quantidades de dados médicos e identificar anomalias sutis. Da mesma forma, experiências de aprendizado personalizadas, adaptadas às necessidades e estilos de aprendizagem individuais dos alunos, podem se tornar realidade por meio de instrução interativa baseada em IA, guiada pelos insights do Gemini.</p>\n",
            "\n",
            "\n",
            "\n",
            "<p>No entanto, o impacto potencial do Gemini se estende muito além de aplicações específicas. Sua chegada significa uma mudança fundamental na relação humana com esta tecnologia, borrando as linhas entre a inteligência humana e a artificial. À medida que nos aproximamos dessa nova fronteira, garantir o desenvolvimento responsável da IA é crucial. O Google reconhece essa necessidade, priorizando a acessibilidade por meio do Google AI Studio gratuito e defendendo princípios éticos como justiça, transparência e responsabilização.</p>\n",
            "\n",
            "\n",
            "\n",
            "<p>A versão Pro do Gemini já está disponível para uso através da <a href=\"https://bard.google.com/\">interface do Bard</a>, mas por enquanto somente em inglês. A empresa promete em breve disponibilizar novas línguas assim como a versão Ultra.</p>\n",
            "<p>O post <a href=\"https://iaexpert.academy/2023/12/13/google-apresenta-gemini-seu-novo-grande-modelo-linguagem/\" rel=\"nofollow\">Google apresenta Gemini, seu novo grande modelo de linguagem</a> apareceu primeiro em <a href=\"https://iaexpert.academy\" rel=\"nofollow\">IA Expert Academy</a>.</p>\n",
            "Pika 1.0: modelo generativo para criação e edição de vídeos\n",
            "https://iaexpert.academy/2023/12/06/pika-1-0-modelo-generativo-para-criacao-edicao-videos/?utm_source=rss&utm_medium=rss&utm_campaign=pika-1-0-modelo-generativo-para-criacao-edicao-videos\n",
            "<p>Startup praticamente desconhecida até semana passada, a Pika Labs surpreendeu a comunidade com o lançamento no último dia 29 do Pika 1.0, uma ferramenta revolucionária para a criação e edição de vídeos por meio de inteligência artificial. Após intensos testes realizados ao longo do ano, a plataforma atinge sua primeira geração, prometendo transformar frases simples dos usuários em clipes editados e animações de alta qualidade.</p>\n",
            "\n",
            "\n",
            "\n",
            "<p>A empresa apresenta o grande diferencial do Pika 1.0 como sendo a notável fidelidade das produções às solicitações dos usuários. Utilizando um novo modelo de linguagem, a ferramenta é capaz de gerar desde pequenos clipes até vídeos mais extensos, oferecendo uma gama de estilos de animação, desde abordagens cinemáticas até realistas, incluindo estilos tradicionais à la Disney Pixar, além de uma gama extensa de edições guiadas por prompt. A publicação abaixo mostra as possibilidades que a empresa promete.</p>\n",
            "\n",
            "\n",
            "\n",
            "<figure class=\"wp-block-embed is-type-rich is-provider-twitter wp-block-embed-twitter\"><div class=\"wp-block-embed__wrapper\">\n",
            "<span class=\"C3R4EM1zhOPVifUKLdPoh2wlFF0qYvCdRNw09eHpnpuKGjZqEO1W58mBD438lUS7yozuMXeBgT67ajHWZgXJvkkLtsJI5s6YfQ\"><blockquote class=\"twitter-tweet\"><p dir=\"ltr\" lang=\"en\">Introducing Pika 1.0, the idea-to-video platform that brings your creativity to life.<br /><br />Create and edit your videos with AI.<br /><br />Rolling out to new users on web and discord, starting today. Sign up at <a href=\"https://t.co/JHRrinsIwx\">https://t.co/JHRrinsIwx</a> <a href=\"https://t.co/Rve3I2FzmK\">pic.twitter.com/Rve3I2FzmK</a></p>&mdash; Pika (@pika_labs) <a href=\"https://twitter.com/pika_labs/status/1729510078959497562?ref_src=twsrc%5Etfw\">November 28, 2023</a></blockquote></span>\n",
            "</div></figure>\n",
            "\n",
            "\n",
            "\n",
            "<p>Já nesta primeira iteração, o Pika 1.0 promete ser acessível ao usuário comum por meio de uma interface web intuitiva e simples. Além disso, foram incorporadas opções técnicas que permitem a adaptação dos vídeos a diferentes formatos, plataformas e dispositivos, proporcionando uma flexibilidade excepcional aos criadores.</p>\n",
            "\n",
            "\n",
            "\n",
            "<p>O investimento significativo liderado pela Lightspeed Venture Partners destaca a confiança na Pika Labs e na missão compartilhada de democratizar a tecnologia. A empresa de venture capital elogiou a parceria, expressando total apoio à visão da Pika Labs e fornecendo as bases para o crescimento futuro.</p>\n",
            "\n",
            "\n",
            "\n",
            "<p>Este lançamento acontece em um momento estratégico, coincidindo com a apresentação recente do Stable Video Diffusion pela Stability. Este motor de IA, atualmente disponível exclusivamente para pesquisadores de inteligência artificial, cria clipes curtos a partir de prompts do usuário e imagens estáticas. O Pika 1.0 é o primeiro software deste tipo a estar disponível para qualquer pessoa interessada.</p>\n",
            "\n",
            "\n",
            "\n",
            "<p>A capacidade de transformar frases em animações de alta qualidade, aliada à flexibilidade e otimização excepcionais, posiciona esta plataforma como uma força motriz na revolução criativa. A parceria estratégica com a Lightspeed Venture Partners reforça ainda mais a promessa de inovação contínua, deixando a todos ansiosos para testemunhar como essa ferramenta transformadora moldará o futuro da produção de vídeos com IA.</p>\n",
            "<p>O post <a href=\"https://iaexpert.academy/2023/12/06/pika-1-0-modelo-generativo-para-criacao-edicao-videos/\" rel=\"nofollow\">Pika 1.0: modelo generativo para criação e edição de vídeos</a> apareceu primeiro em <a href=\"https://iaexpert.academy\" rel=\"nofollow\">IA Expert Academy</a>.</p>\n",
            "Desenvolvimento de Software Colaborativo: Como integrei o ChatGPT no meu projeto\n",
            "https://iaexpert.academy/2023/12/02/desenvolvimento-de-software-colaborativo-como-integrei-o-chatgpt-no-meu-projeto/?utm_source=rss&utm_medium=rss&utm_campaign=desenvolvimento-de-software-colaborativo-como-integrei-o-chatgpt-no-meu-projeto\n",
            "<p>Neste artigo, explico como implementei a integração com o ChatGPT, possibilitando a exploração colaborativa de um repositório de código e a construção de sistemas.</p>\n",
            "\n",
            "\n",
            "\n",
            "<h3 class=\"wp-block-heading\">1 — Recursos: O que vamos&nbsp;usar</h3>\n",
            "\n",
            "\n",
            "\n",
            "<p>Dentre os recursos oferecidos pela OpenAI, escolhi a API&nbsp;<a href=\"https://platform.openai.com/docs/guides/text-generation/chat-completions-api\" rel=\"noreferrer noopener\" target=\"_blank\">completions</a>[1], pela sua clareza e detalhamento. Achei a documentação da API clara, bem detalhada e com exemplos funcionais. A utilização de uma API proporciona maior flexibilidade em comparação com a interface web padrão do ChatGPT.</p>\n",
            "\n",
            "\n",
            "\n",
            "<p>Como tecnologia para desenvolver o GPTCoder, utilizarei Java, devido à minha familiaridade com a linguagem. O projeto será do tipo Java padrão para desktop. A IDE escolhida foi o Eclipse.</p>\n",
            "\n",
            "\n",
            "\n",
            "<h3 class=\"wp-block-heading\">2 — Solução pretendida</h3>\n",
            "\n",
            "\n",
            "\n",
            "<p>Abaixo teremos os passos que foram pensados para a primeira versão da solução. Tendo como foco que o desenvolvedor terá o ChatGPT como um ajudante de sua missão de programação. A figura1 representa o processo da solução.</p>\n",
            "\n",
            "\n",
            "\n",
            "<ul>\n",
            "<li><strong>Desenvolvedor define necessidade</strong>: Nesse momento o desenvolvedor vai informar o que deseja fazer ou que problema deseja solucionar. Como estamos focados em programação, um cenário esperado seria de criar uma classe que resolva determinado problema.</li>\n",
            "\n",
            "\n",
            "\n",
            "<li><strong>Preparar o contexto</strong>: Aqui será necessário buscar as informações necessárias para o chat GPT se situar quando for chamado. Antes de pedir precisamos dar o máximo de dados que o ajudem a entender qual o mundo onde nosso problema está inserido. Na sessão 4 detalharemos mais este tema.</li>\n",
            "\n",
            "\n",
            "\n",
            "<li><strong>Preparar o prompt</strong>: Por mais que usemos linguagem natural é preciso delimitar bem as fronteitas do que desejamos pedir. Um bom prompt possui um texto que não deixe dúvidas de interpretação quanto aquilo que desejamos. Na sessão 4 detalharemos mais este tema.</li>\n",
            "\n",
            "\n",
            "\n",
            "<li><strong>Solicitar solução</strong>: Aqui vamos enviar todos os dados que temos para a API do ChatGPT e aguardar o processamento e resposta. Estamos efetivamente pedindo uma solução para o problema que temos em mãos.</li>\n",
            "\n",
            "\n",
            "\n",
            "<li><strong>Processar solicitação</strong>: Nesse momento ocorre a análise de todos dados que enviamos e criação de uma resposta.</li>\n",
            "\n",
            "\n",
            "\n",
            "<li><strong>Processar resposta</strong>: Será necessário receber os dados da resposta para extrair exatamente o que desejamos.</li>\n",
            "\n",
            "\n",
            "\n",
            "<li><strong>Salvar os dados</strong>: Vamos persistir em um arquivo a resposta que recebemos. No nosso caso desejamos que os dados sejam um código, funcional que resolva nosso problema. Esse código será salvo no formato de classe.</li>\n",
            "\n",
            "\n",
            "\n",
            "<li><strong>Avaliar solução</strong>: O Código foi persistido e está disponível para ser executado. O desenvolvedor vai avaliar se o código está solucionando o problema e pode pedir correções em uma nova requisição caso seja necessário.</li>\n",
            "</ul>\n",
            "\n",
            "\n",
            "\n",
            "<figure class=\"wp-block-image aligncenter\"><img alt=\"\" src=\"https://cdn-images-1.medium.com/max/1600/1*5pyoAYhIu5TKMijuDIjSig.png\" /><figcaption class=\"wp-element-caption\">Figura 1 — Solução proposta.</figcaption></figure>\n",
            "\n",
            "\n",
            "\n",
            "<h3 class=\"wp-block-heading\">3 — Contexto: Explique primeiro antes de&nbsp;pedir</h3>\n",
            "\n",
            "\n",
            "\n",
            "<p>Podemos pensar o contexto como o conjunto de informações que o ChatGPT precisa conhecer para entender melhor seus pedidos e assim prover melhores respostas. Nosso objetivo é gerar código e por vezes o GPT precisa ter acesso a outros códigos que já existam no sistema que ele vai trabalhar.</p>\n",
            "\n",
            "\n",
            "\n",
            "<p>Nesse caso vamos criar um recurso que pode ler vários arquivos de uma vez e deixá-los prontos para envio na próxima requisição. A classe&nbsp;<em>ReadDataFromFile</em>&nbsp;tem métodos para ler um ou vários arquivos de código e transformar em uma string que pode ser adicionada a uma requisição. Assim, se passarmos os caminhos de vários arquivos de um repositório de código, o GPTCoder será capaz de ler os dados desses arquivos. Abaixo a figura 2 ilustra a classe&nbsp;<em>ReadDataFromFile</em>.</p>\n",
            "\n",
            "\n",
            "\n",
            "<figure class=\"wp-block-image aligncenter\"><img alt=\"\" src=\"https://cdn-images-1.medium.com/max/1600/1*BbDgF_pLzpgVvBjR5CoZyw.png\" /><figcaption class=\"wp-element-caption\">Figura 2 — Ilustração classe&nbsp;<em>ReadDataFromFile.java</em></figcaption></figure>\n",
            "\n",
            "\n",
            "\n",
            "<h4 class=\"wp-block-heading\">3.1 — Limites</h4>\n",
            "\n",
            "\n",
            "\n",
            "<p>É importante lembrar que existe um limite de dados para gerar contexto. Isso vai depender do modelo do ChatGPT que está sendo usado. O modelo que melhor performou foi o modelo gpt-3.5-turbo-16k. Esse modelo respondeu com maior velocidade que o GPT4 e demais GPT3. Ele possui uma janela de contexto de 16k tokens que seria aproximadamente 12000 palavras&nbsp;<a href=\"https://openai.com/pricing\" rel=\"noreferrer noopener\" target=\"_blank\">[2]</a>.</p>\n",
            "\n",
            "\n",
            "\n",
            "<h3 class=\"wp-block-heading\">4 — Prompt: Como pedir da maneira&nbsp;correta</h3>\n",
            "\n",
            "\n",
            "\n",
            "<p>O ChatGPT entende linguagem natural, isto significa que não precisamos falar com ele usando linguagens de programação como PHP ou Java. Basta falar como falaria-mos com outro ser humano e ele será capaz de entender. No entanto, mesmo usando linguagem natural, se pudermos estruturar melhor nosso diálogo temos maior chance de conseguir respostas mais precisas.</p>\n",
            "\n",
            "\n",
            "\n",
            "<p>Outro ponto importante é que o ChatGPT consegue interpretar código e produzir código. Então podemos pedir a ele que nos envie a resposta em formato de código em uma determinada linguagem de programação. No caso deste post estou focando em Java. Abaixo está o que foi levado em conta para estruturar um padrão de prompt que funciona para a solução.</p>\n",
            "\n",
            "\n",
            "\n",
            "<p>4.1 —  <strong>Estrutura de PROMPT usado:</strong></p>\n",
            "\n",
            "\n",
            "\n",
            "<ul>\n",
            "<li><strong>Comportamento esperado:</strong>&nbsp;{Papel} — Como o GPT precisa raciocinar ou o que ele deve imitar. Exemplo: Gerador de código Java, PHP etc.</li>\n",
            "\n",
            "\n",
            "\n",
            "<li><strong>Com base em:</strong>&nbsp;{dados de contexto} — Exemplo: Minhas classes Java existentes no projeto ou relativas ao meu problema.</li>\n",
            "\n",
            "\n",
            "\n",
            "<li><strong>Faça</strong>: {ação desejada} — Gere uma classe que resolva determinado problema; Melhore a classe X adicionando metodo que faz deteminada ação.</li>\n",
            "\n",
            "\n",
            "\n",
            "<li><strong>Dados adicionais:&nbsp;</strong>{Formato de entrada e Formato de saída} — Adicione marcadores que ajudem o ChatGPT a identificar o que queremos passar na hora de pedir e como desejamos receber a nossa resposta. Criei os marcadores de inicio e fim de contexto (solicitação), inicio e fim de código (resposta) e inicio e fim de observação (resposta). Esse formato funcionou bem e evitou, principalmente, mistura de dados nas respostas e com isso maior facilidade de extração dos dados de interesse. A figura 3 mostra os marcadores usados.</li>\n",
            "</ul>\n",
            "\n",
            "\n",
            "\n",
            "<figure class=\"wp-block-image aligncenter\"><img alt=\"\" src=\"https://cdn-images-1.medium.com/max/1600/1*-qYpLhPjT9n3XZBA6sn5Ag.png\" /><figcaption class=\"wp-element-caption\">Figura 3 — Marcadores para&nbsp;prompt</figcaption></figure>\n",
            "\n",
            "\n",
            "\n",
            "<p>4.1.1 —  <strong>Exemplo de PROMPT usado na solicitação:</strong></p>\n",
            "\n",
            "\n",
            "\n",
            "<blockquote class=\"wp-block-quote\">\n",
            "<p><em>Comporte-se como uma api geradora de código Java. Crie uma classe Java que resolverá o problema a seguir: Baseado no codigo informado { Nada ainda}&nbsp;. Crie uma classe Pessoa que tenha nome, idade, cpf, rg, endereco, contato. Resposta esperada:&nbsp;</em><strong><em>responda no seguinte formato texto delimitado pelos 2 marcadores a seguir: ==response-obs-inicio==</em></strong><em>&nbsp;obsevacoes para orientacoes sobre o codigo&nbsp;</em><strong><em>==response-obs-fim== ==response-javacode-inicio==</em></strong><em>&nbsp;deve conter Somente o codigo&nbsp;</em><strong><em>==response-javacode-fim==</em></strong><em>.</em></p>\n",
            "</blockquote>\n",
            "\n",
            "\n",
            "\n",
            "<p>4.1.2 —  <strong>Exemplo de resposta recebida:</strong></p>\n",
            "\n",
            "\n",
            "\n",
            "<blockquote class=\"wp-block-quote\">\n",
            "<p>{“id”: “MEU_ID_API_CHAT_GPT”,“object”: “chat.completion”,“created”:1699113491,“model”: “gpt-3.5-turbo-0613”,“choices”: [{“index”: 0“message”: {“role”: “assistant”,“content”: “<strong>==response-obs-inicio==</strong>\\nA classe Pessoa deve ter os seguintes atributos: nome (String), idade (int), cpf (String), rg (String), endereco (String) e contato (String).\\n<strong>==response-obs-fim==</strong>\\n<strong>==response-javacode-inicio==</strong>\\n&#8220;`java\\npublic class Pessoa {\\n private String nome;\\n private int idade;\\n private String cpf;\\n private String rg;\\n private String endereco;\\n private String contato;\\n\\n // Construtor da classe Pessoa\\n public Pessoa(String nome, int idade, String cpf, String rg, String endereco, String contato) {\\n this.nome = nome;\\n this.idade = idade;\\n this.cpf = cpf;\\n this.rg = rg;\\n this.endereco = endereco;\\n this.contato = contato;\\n }\\n\\n // Getters e Setters dos atributos da classe Pessoa\\n public String getNome() {\\n return nome;\\n }\\n\\n public void setNome(String nome) {\\n this.nome = nome;\\n }\\n\\n public int getIdade() {\\n return idade;\\n }\\n\\n public void setIdade(int idade) {\\n this.idade = idade;\\n }\\n\\n public String getCpf() {\\n return cpf;\\n }\\n\\n public void setCpf(String cpf) {\\n this.cpf = cpf;\\n }\\n\\n public String getRg() {\\n return rg;\\n }\\n\\n public void setRg(String rg) {\\n this.rg = rg;\\n }\\n\\n public String getEndereco() {\\n return endereco;\\n }\\n\\n public void setEndereco(String endereco) {\\n this.endereco = endereco;\\n }\\n\\n public String getContato() {\\n return contato;\\n }\\n\\n public void setContato(String contato) {\\n this.contato = contato;\\n }\\n}\\n&#8220;`\\n<strong>==response-javacode-fim==</strong>”},“finish_reason”: “stop”}],“usage”: {“prompt_tokens”: 163,“completion_tokens”: 386,“total_tokens”: 549}}</p>\n",
            "</blockquote>\n",
            "\n",
            "\n",
            "\n",
            "<h3 class=\"wp-block-heading\">5 — Código</h3>\n",
            "\n",
            "\n",
            "\n",
            "<p>Nessa sessão focarei nos aspectos principais do código:</p>\n",
            "\n",
            "\n",
            "\n",
            "<p>5.1 —  Conexão com a API: A classe ApiCaller faz uma requisição HTTP padrão de acordo com a documentação da openAI e transforma dos dados devolvidos pela API em uma string de texto. Os dados de entrada que são o prompt em si estão representados pela variável jsonSend que é passada por parâmetro para o método callGPT.</p>\n",
            "\n",
            "\n",
            "\n",
            "<figure class=\"wp-block-image aligncenter\"><img alt=\"\" src=\"https://cdn-images-1.medium.com/max/1600/1*elWKfHHc12camTr3DN1cAA.png\" /><figcaption class=\"wp-element-caption\">Figura 4- Código que faz chamada à API do&nbsp;ChatGPT</figcaption></figure>\n",
            "\n",
            "\n",
            "\n",
            "<p>5.2 — A classe Prompt representa um prompt em si e, nesse momento, a estrutura do prompt tem 2 partes principais: system-content e user-content. A primeira é a instrução inicial de configuração do ChatGPT tendo como foco definir o comportamento esperado. A segunda tem como foco passar o que o usuário deseja que seja feito e o contexto para o ChatGPT. Em determinada parte do processo vamos configurar as 2 partes de acordo com o que está definido na figura 6. Na figura 5 temos o código da classe Prompt na integra.</p>\n",
            "\n",
            "\n",
            "\n",
            "<p>Podemos ver ainda que o dado que está sendo preparado é um JSON que tem: 1 —  A propriedade model onde definimos o modelo do ChatGPT que vamos usar; 2 — O parâmetro temperatura define o quão criativo queremos que o modelo seja na hora de gerar resposta, e como queremos um código não precisa que ele gere o mesmo código sempre de formas diferentes, ele pode gerar o mesmo código desde que resolva o problema, assim a temperatura será 0 (zero); 3 — O atributo messages é onde vamos colocar os dados da solicitação.</p>\n",
            "\n",
            "\n",
            "\n",
            "<figure class=\"wp-block-image aligncenter\"><img alt=\"\" src=\"https://cdn-images-1.medium.com/max/1600/1*yvlp3g91O81ND2TQi7ZB1Q.png\" /><figcaption class=\"wp-element-caption\">Figura 5 — Código da classe&nbsp;Prompt.</figcaption></figure>\n",
            "\n",
            "\n",
            "\n",
            "<figure class=\"wp-block-image aligncenter\"><img alt=\"\" src=\"https://cdn-images-1.medium.com/max/1600/1*9UOqikbA85E9I6cPcny1Hg.png\" /><figcaption class=\"wp-element-caption\">Figura 6 — Partes do prompt intruções tipo system e tipo&nbsp;user.</figcaption></figure>\n",
            "\n",
            "\n",
            "\n",
            "<p>5.3 — Depois de algumas camadas de abstração chegamos ao processo de colaboração, mais simples do projeto, onde o desenvolvedor pede uma ação por vez e recebe uma resposta por vez. No método codingWithDeveloper é possível passar no parâmetros: Uma lista de arquivos (repositório); O texto com o que desejamos fazer (doesInstruction — é a parte que falta no prompt); Onde salvar os dados após receber a resposta (whereDoesPath — É a classe Java onde vou salvar o código). O processo será descrito abaixo e ilustrado na figura 7.</p>\n",
            "\n",
            "\n",
            "\n",
            "<p>5.3.1 — Processo</p>\n",
            "\n",
            "\n",
            "\n",
            "<ul>\n",
            "<li>Leitura de todos os arquivos que vão servir para gerar o contexto na variável codeContext</li>\n",
            "\n",
            "\n",
            "\n",
            "<li>Formatação do JavaPrompt que um prompt especifico para gerar código Java de acordo com o item 5.2</li>\n",
            "\n",
            "\n",
            "\n",
            "<li>Chamada a API do ChatGPT, coletamos a resposta e extraímos o dado que nos interessa salvar.</li>\n",
            "\n",
            "\n",
            "\n",
            "<li>Salvamento dos dados de interesse (a classe Java) usando o SaveGPTResponseFile. O caminho onde o código deve ser salvo precisa ser informado. No caso definimos a pasta e acrescentamos o nome da classe para gerar o caminho completo do arquivo de destino.</li>\n",
            "\n",
            "\n",
            "\n",
            "<li>Por fim salvamento de todos os dados de requisição e resposta em um histórico.</li>\n",
            "</ul>\n",
            "\n",
            "\n",
            "\n",
            "<figure class=\"wp-block-image aligncenter\"><img alt=\"\" src=\"https://cdn-images-1.medium.com/max/1600/1*26uKfq_6Ln97_y4uz4MePQ.png\" /><figcaption class=\"wp-element-caption\">Figura 7 — executando um unico prompt por vez. Processo de colaboração GTP e desenvovedor.</figcaption></figure>\n",
            "\n",
            "\n",
            "\n",
            "<p>5.4 — Com esse processo já é possível ao desenvolvedor passar instrucões para criar classes que resolvam problemas, analisar classes e melhora-las. Abaixo veremos alguns exemplos de prompts que foram usados pra um projeto piloto.</p>\n",
            "\n",
            "\n",
            "\n",
            "<p>5.4.1 — A classe prompt executor tem o path de um repositório de código na variável sourcePath. Um objeto PromptExecutor chama o método codingWithDeveloper passando apenas um arquivo&nbsp;<em>&#8220;crud/PessoaRequisicao.java&#8221;</em>&nbsp;e pedindo para fazer melhorias nesse mesmo arquivo essa melhoria seria acrescentar o JavaDoc com base no código atual da classe. O Resultado é a mesma classe Java com a documentação acrescida no padrão JavaDoc. Parte da classe documentada está ilustrada na figura 9.</p>\n",
            "\n",
            "\n",
            "\n",
            "<figure class=\"wp-block-image aligncenter\"><img alt=\"\" src=\"https://cdn-images-1.medium.com/max/1600/1*tuIeXDlO9sIwCw8PbcqJdw.png\" /><figcaption class=\"wp-element-caption\">Figura 8 — Classe PromptExecutor chamando um prompt de melhoria de&nbsp;código.</figcaption></figure>\n",
            "\n",
            "\n",
            "\n",
            "<figure class=\"wp-block-image aligncenter\"><img alt=\"\" src=\"https://cdn-images-1.medium.com/max/1600/1*WMKrQXWI_WN9P72cOiRdpA.png\" /><figcaption class=\"wp-element-caption\">Figura 9 — Trecho de JavaDoc gerado na classe PessoaRequisicao</figcaption></figure>\n",
            "\n",
            "\n",
            "\n",
            "<p>5.4.2 — Aqui já temos vários prompts pedindo para executar a criação de várias classes onde definimos os atributos ou objetivos das classes. Definimos onde os dados serão salvos e definimos o pacote onde as classes serão criadas como fonte de contexto. Nessa sequencia de execução de prompts novas classes são geradas e essas já servem como contexto para a próxima requisição. Possibilitando a criação em lote de um conjunto de classes do sistema.&nbsp;</p>\n",
            "\n",
            "\n",
            "\n",
            "<p>Pela figura 10 vemos que quando a classe PessoaDAO for criada essa terá como informações de contexto as classes Pessoa, Contato e Endereço que ja foram criadas anteriormente. O contexto de PessoaRequisição será todas classes anteriores inclusive PessoaDAO. Isso é possível pois estamos sempre enviando todas as classes que foram criadas antes para o ChatGPT manter-se contextualizado.</p>\n",
            "\n",
            "\n",
            "\n",
            "<figure class=\"wp-block-image aligncenter\"><img alt=\"\" src=\"https://cdn-images-1.medium.com/max/1600/1*ngCVEoeqhLfAlsPIzJ_neA.png\" /><figcaption class=\"wp-element-caption\">Figura 10 — Exemplo de prompts executados em&nbsp;lote.</figcaption></figure>\n",
            "\n",
            "\n",
            "\n",
            "<h3 class=\"wp-block-heading\">6 — Conclusão</h3>\n",
            "\n",
            "\n",
            "\n",
            "<ul>\n",
            "<li>Foi possível criar uma integração com o ChatGPT usando sua API, ler dados de um repositório de código para ajudar na contextualização e geração de novos códigos.</li>\n",
            "\n",
            "\n",
            "\n",
            "<li>Entendemos um pouco mais sobre contexto, sobre a importância de gerar bons prompts<a href=\"https://platform.openai.com/docs/guides/prompt-engineering\" rel=\"noreferrer noopener\" target=\"_blank\">[3]</a>&nbsp;e o potencial do ChatGPT como parceiro de desenvolvimento de software no dia a dia do desenvolvedor de sistemas.</li>\n",
            "\n",
            "\n",
            "\n",
            "<li>O sistema desenvolvido pode ser usado para criar sistemas em outras linguagens de programação ou outros tipos de conteúdo textual. Apenas fazendo extensões da classe que define os prompts.</li>\n",
            "\n",
            "\n",
            "\n",
            "<li>Como pontos de melhoria destaco a necessidade de um nível de abstração que permita ao desenvolvedor definir regras de negócio em alto nível e receber a regra implementada com as camadas de abstração corretamente escritas.</li>\n",
            "</ul>\n",
            "\n",
            "\n",
            "\n",
            "<h3 class=\"wp-block-heading\">Referências</h3>\n",
            "\n",
            "\n",
            "\n",
            "<p>[<a href=\"https://platform.openai.com/\" rel=\"noreferrer noopener\" target=\"_blank\">1]APIIntegrate OpenAI models into your application or business</a></p>\n",
            "\n",
            "\n",
            "\n",
            "<p>[2]<a href=\"https://openai.com/pricing\" rel=\"noreferrer noopener\" target=\"_blank\">https://openai.com/pricing</a></p>\n",
            "\n",
            "\n",
            "\n",
            "<p>[3]<a href=\"https://platform.openai.com/docs/guides/prompt-engineering\" rel=\"noreferrer noopener\" target=\"_blank\">https://platform.openai.com/docs/guides/prompt-engineering</a></p>\n",
            "<p>O post <a href=\"https://iaexpert.academy/2023/12/02/desenvolvimento-de-software-colaborativo-como-integrei-o-chatgpt-no-meu-projeto/\" rel=\"nofollow\">Desenvolvimento de Software Colaborativo: Como integrei o ChatGPT no meu&nbsp;projeto</a> apareceu primeiro em <a href=\"https://iaexpert.academy\" rel=\"nofollow\">IA Expert Academy</a>.</p>\n",
            "IA identifica mais casos de câncer de mama do que médicos radiologistas\n",
            "https://iaexpert.academy/2023/11/29/ia-identifica-mais-casos-cancer-mama-que-medicos-radiologistas/?utm_source=rss&utm_medium=rss&utm_campaign=ia-identifica-mais-casos-cancer-mama-que-medicos-radiologistas\n",
            "<p>A revolução da inteligência artificial está pavimentando o caminho para uma nova era na detecção de câncer de mama em estágio inicial. Um <a href=\"https://www.nature.com/articles/s41591-023-02625-9\">estudo publicado este mês na revista Nature Medicine</a> mostra que a IA pode identificar até 13% mais casos de câncer de mama do que os métodos tradicionais. Estima-se que mais de 20% dos cânceres escapem da detecção nos exames de triagem convencionais, sem a assistência da IA.</p>\n",
            "\n",
            "\n",
            "\n",
            "<p>A pesquisa, conduzida na Hungria, utilizou uma ferramenta de IA chamada Mia, desenvolvida pela empresa britânica Kheiron Medical Technologies. Ao analisar dados de 25 mil mulheres submetidas a exames de triagem entre 2021 e 2023, os resultados revelaram melhorias de 5, 10 e 13% na taxa de detecção de câncer em três versões distintas do estudo, em comparação com a leitura padrão, que é feita por pelo menos dois radiologistas. A maioria das novas descobertas eram cânceres invasivos, com potencial para se espalhar pelo organismo.</p>\n",
            "\n",
            "\n",
            "\n",
            "<p>Além da Hungria, estudos recentes na Suécia corroboram essas descobertas, indicando que a análise de mamografias aprimorada por IA atinge taxas de detecção semelhantes às leituras humanas padrão. Esses avanços tecnológicos não apenas melhoram a precisão, mas também oferecem a perspectiva de acelerar significativamente o processo de análise.</p>\n",
            "\n",
            "\n",
            "\n",
            "<p>Diante desses resultados, a presidente de um conselho de radiologistas do Reino Unido destaca o potencial colaborativo entre a IA e os radiologistas, prevendo um futuro onde ambos trabalham em conjunto para aprimorar a tomada de decisões clínicas. Alinhado com esta visão, um dos coautores do estudo enfatiza a IA como uma &#8220;rede de segurança eficaz&#8221;, capaz de identificar sinais sutis que poderiam passar despercebidos pelos radiologistas humanos.</p>\n",
            "\n",
            "\n",
            "\n",
            "<p>Além do impacto na precisão e velocidade, a IA também promete eficiência, com a Mia da Kheiron podendo economizar até 45% do tempo gasto na leitura de exames de câncer de mama, conforme destacado pelos pesquisadores.</p>\n",
            "\n",
            "\n",
            "\n",
            "<p>Os resultados encorajadores na Hungria e o sucesso da implementação da Mia em hospitais no Reino Unido e nos Estados Unidos sugerem que a IA tem o potencial de transformar significativamente o tratamento do câncer de mama. No entanto, os pesquisadores enfatizam a importância de expandir a pesquisa, incluindo mais países e explorando diferentes sistemas de IA, para alcançar um entendimento mais abrangente de como essa tecnologia pode ser aproveitada na detecção precoce do câncer. Este é um passo crucial em direção a um futuro em que a inteligência artificial e os profissionais de saúde colaboram para salvar vidas.</p>\n",
            "<p>O post <a href=\"https://iaexpert.academy/2023/11/29/ia-identifica-mais-casos-cancer-mama-que-medicos-radiologistas/\" rel=\"nofollow\">IA identifica mais casos de câncer de mama do que médicos radiologistas</a> apareceu primeiro em <a href=\"https://iaexpert.academy\" rel=\"nofollow\">IA Expert Academy</a>.</p>\n",
            "Google apresenta GraphCast, modelo de IA revolucionário para previsão do tempo\n",
            "https://iaexpert.academy/2023/11/22/google-apresenta-graphcast-modelo-ia-revolucionario-previsao-tempo/?utm_source=rss&utm_medium=rss&utm_campaign=google-apresenta-graphcast-modelo-ia-revolucionario-previsao-tempo\n",
            "<p>Em um mundo onde o impacto do clima é sentido diariamente, previsões do tempo acuradas e rápidas são consideradas cruciais. Esta tarefa é um dos projetos científicos mais antigos e desafiadores. Os modelos que tratam do problema geralmente aplicam a chamada Previsão Numérica do Tempo (NWP, <em>numerical weather prediction</em>), que depende de equações físicas bem definidas, as quais são traduzidas em algoritmos que rodam em supercomputadores. Apesar desta abordagem ter alcançado relativo sucesso, seu desenvolvimento é lento e depende de expertise profunda, além de recursos computacionais onerosos.</p>\n",
            "\n",
            "\n",
            "\n",
            "<p>Num avanço significativo, pesquisadores do DeepMind (Google) apresentaram o modelo de IA GraphCast, destacado em um <a href=\"https://www.science.org/doi/10.1126/science.adi2336\">artigo publicado na revista Science</a> na semana passada. O GraphCast se destaca ao fornecer previsões meteorológicas de médio alcance com uma precisão sem precedentes, superando o padrão ouro da indústria &#8211; o sistema Previsão de Alta Resolução (HRES, <em>High-Resolution Forecast</em>) do Centro Europeu para Previsões Meteorológicas de Médio Prazo (ECMWF). As previsões do modelo, estendendo-se até 10 dias no futuro, são mais rápidas e precisas, oferecendo alertas precoces para eventos climáticos extremos, como ciclones, rios atmosféricos e temperaturas extremas.</p>\n",
            "\n",
            "\n",
            "\n",
            "<p>A abordagem do GraphCast combina aprendizado profundo com métodos tradicionais de NWP. Treinado em décadas de dados históricos de clima, o modelo utiliza Redes Neurais Gráficas (GNNs) para processar dados espacialmente estruturados, operando em uma impressionante resolução de 0,25 graus de longitude/latitude. Para cada ponto nessa malha gigantesca, o modelo prediz cinco variáveis de relevo, incluindo temperatura, velocidade e direção do vento, e pressão, e seis variáveis atmosféricas em 37 níveis de altitude, incluindo umidade específica, velocidade e direção do vento, e temperatura. A eficiência do modelo é evidente, pois produz previsões de 10 dias em menos de um minuto em uma única máquina Google TPU v4, uma melhoria notável em comparação com métodos convencionais que exigem horas de computação em supercomputadores.</p>\n",
            "\n",
            "\n",
            "\n",
            "<p>Uma avaliação abrangente de desempenho em comparação com o padrão da indústria HRES demonstra a superioridade do GraphCast, fornecendo previsões mais precisas em mais de 90% das variáveis de teste e tempos de previsão. Na região crucial da troposfera, onde as previsões são mais importantes, o GraphCast superou o HRES em impressionantes 99,7% das variáveis de teste para o clima futuro. Notavelmente, o modelo se destaca na identificação precoce de eventos climáticos graves em relação aos modelos tradicionais de previsão, mostrando seu potencial para o gerenciamento proativo de desastres.</p>\n",
            "\n",
            "\n",
            "\n",
            "<p>Comprometida com a democratização da previsão do tempo, a equipe do GraphCast disponibilizou o <a href=\"https://github.com/google-deepmind/graphcast\">código do modelo</a>, possibilitando acessibilidade global para cientistas e meteorologistas. O ECMWF já implementou o GraphCast em experimentos ao vivo em seu site, marcando um passo rumo à revolução da previsão do tempo em todo o mundo. O GraphCast, junto com outros sistemas de previsão do tempo de última geração, incluindo aqueles do Google DeepMind e do Google Research, representa a vanguarda do papel da IA na formação do futuro da meteorologia. Além da conveniência diária, o impacto global da previsão do tempo impulsionada por IA promete enfrentar desafios ambientais mais amplos em nosso clima em constante mudança.</p>\n",
            "<p>O post <a href=\"https://iaexpert.academy/2023/11/22/google-apresenta-graphcast-modelo-ia-revolucionario-previsao-tempo/\" rel=\"nofollow\">Google apresenta GraphCast, modelo de IA revolucionário para previsão do tempo</a> apareceu primeiro em <a href=\"https://iaexpert.academy\" rel=\"nofollow\">IA Expert Academy</a>.</p>\n",
            "Grok é a LLM da xAI\n",
            "https://iaexpert.academy/2023/11/15/grok-llm-xai/?utm_source=rss&utm_medium=rss&utm_campaign=grok-llm-xai\n",
            "<p>A xAI, nova empresa de Elon Musk com foco em inteligência artificial, acaba de anunciar o <a href=\"https://x.ai/model-card/\">Grok</a>, sua LLM proprietária. A empresa apresenta a ferramenta como um companheiro de IA versátil, projetado para atender a indivíduos de diversas origens e perspectivas políticas. Alguns diferenciais são que o sistema foi treinado tendo como base a série de livros O Guia do Mochileiro das Galáxias, o que lhe confere uma personalidade sarcástica, além de ter acesso a conhecimento do mundo em tempo real graças a sua comunicação com o X.</p>\n",
            "\n",
            "\n",
            "\n",
            "<p>O Grok, impulsionado pelo avançado motor Grok-1, passou por um desenvolvimento substancial nos últimos quatro meses. A jornada começou com o protótipo Grok-0, um modelo com 33 bilhões de parâmetros que se aproximava das capacidades do LLaMA 2, mas utilizava apenas metade dos recursos de treinamento. A evolução culminou no Grok-1, um modelo de linguagem de ponta treinado em apenas impressionantes 2 meses, que alcançou resultados notáveis, incluindo 63,2% na tarefa de codificação HumanEval e 73% no MMLU, um benchmark multidisciplinar, ultrapassando modelos similares como o ChatGPT-3.5 e o Inflection-1. A equipe desenvolvedora estabeleceu uma infraestrutura robusta usando Kubernetes, Rust e JAX.</p>\n",
            "\n",
            "\n",
            "\n",
            "<p>Um teste da vida real envolveu a avaliação manual do Grok-1 frente a outras LLMs de ponta, como Claude-2 e os modelos da família GPT, nas finais nacionais de matemática da Hungria em 2023. O Grok alcançou nota C (59%), ficando atrás apenas do GPT-4, que foi treinado com uma quantidade muito maior de dados, destacando suas capacidades em um cenário de avaliação inesperado.</p>\n",
            "\n",
            "\n",
            "\n",
            "<p>Olhando para o futuro, a xAI está se preparando para o próximo salto nas capacidades do modelo, exigindo a coordenação de execuções de treinamento em dezenas de milhares de aceleradores, execução de pipelines de dados em escala de internet e aprimoramento das capacidades do Grok.</p>\n",
            "\n",
            "\n",
            "\n",
            "<p>No campo da pesquisa, a xAI reconhece a importância de abordar as limitações dos sistemas atuais. Direções promissoras de pesquisa incluem supervisão escalável com assistência de ferramentas, integração com verificação formal para segurança e confiabilidade, compreensão e recuperação de longo contexto, robustez adversarial e o desenvolvimento de capacidades multimodais para o Grok.</p>\n",
            "\n",
            "\n",
            "\n",
            "<p>Para oferecer aos usuários uma experiência antecipada, a xAI está proporcionando a um número limitado de usuários nos Estados Unidos acesso ao protótipo Grok. Este programa de acesso antecipado convida os usuários a experimentar o Grok e fornecer feedback, moldando suas capacidades antes de um lançamento mais amplo.</p>\n",
            "<p>O post <a href=\"https://iaexpert.academy/2023/11/15/grok-llm-xai/\" rel=\"nofollow\">Grok é a LLM da xAI</a> apareceu primeiro em <a href=\"https://iaexpert.academy\" rel=\"nofollow\">IA Expert Academy</a>.</p>\n",
            "Project Res-Up é solução de IA da Adobe para aumentar resolução de vídeos\n",
            "https://iaexpert.academy/2023/11/08/project-res-up-solucao-ia-adobe-para-aumentar-resolucao-videos/?utm_source=rss&utm_medium=rss&utm_campaign=project-res-up-solucao-ia-adobe-para-aumentar-resolucao-videos\n",
            "<p>As ferramentas que aplicam inteligência artificial com finalidade prática estão cada vez mais próximas do usuário que não entende de programação. No evento Adobe MAX, que ocorreu mês passado, por exemplo, a Adobe anunciou o Project Res-Up, uma ferramenta de upscaling de vídeo que deve em breve fazer parte da suíte de programas da empresa.</p>\n",
            "\n",
            "\n",
            "\n",
            "<p>O objetivo do Project Res-Up é ser uma ferramenta fácil para converter vídeos de baixa para alta resolução. Para isso, ele utiliza modelos estado da arte baseados em difusão. Em uma demonstração no evento, um cientista da empresa submeteu um recorte de um vídeo, em uma interface simples do tipo arrastar e enviar. Em cerca de 9 segundos, o resultado estava disponível. O aumento de resolução foi de mais de 6 vezes.</p>\n",
            "\n",
            "\n",
            "\n",
            "<figure class=\"wp-block-embed is-type-video is-provider-youtube wp-block-embed-youtube wp-embed-aspect-16-9 wp-has-aspect-ratio\"><div class=\"wp-block-embed__wrapper\">\n",
            "<span class=\"QhFG8cNjliLa2WK3Zs0fzebXDwU4dCHOqmYSxJTPtBk95R6oEn1rvI\"><div class=\"ast-oembed-container\" style=\"height: 100%;\"></div></span>\n",
            "</div><figcaption class=\"wp-element-caption\">Demonstração da ferramenta Project Res-Up no evento Adobe MAX.</figcaption></figure>\n",
            "\n",
            "\n",
            "\n",
            "<p>O foco do produto é melhor a qualidade de vídeos antigos, desfocados ou recortes com zoom, aceitando também arquivos no formato GIF. Com isso, as versões de resolução maior ficam mais nítidas em telas HD, que representam o padrão no mercado atual.</p>\n",
            "\n",
            "\n",
            "\n",
            "<p>Por enquanto, o Project Res-Up segue como projeto, mas várias ideias apresentadas em eventos anteriores da empresa vieram a se tornar soluções disponíveis ao usuário. Com a popularidade de ferramentas baseadas em inteligência artificial, é seguro prever que este é o caminho mais provável também para esta novidade.</p>\n",
            "<p>O post <a href=\"https://iaexpert.academy/2023/11/08/project-res-up-solucao-ia-adobe-para-aumentar-resolucao-videos/\" rel=\"nofollow\">Project Res-Up é solução de IA da Adobe para aumentar resolução de vídeos</a> apareceu primeiro em <a href=\"https://iaexpert.academy\" rel=\"nofollow\">IA Expert Academy</a>.</p>\n",
            "Novo método de treinamento ajuda a inteligência artificial a generalizar como humanos\n",
            "https://iaexpert.academy/2023/11/01/novo-metodo-treinamento-ajuda-inteligencia-artificial-generalizar-como-humanos/?utm_source=rss&utm_medium=rss&utm_campaign=novo-metodo-treinamento-ajuda-inteligencia-artificial-generalizar-como-humanos\n",
            "<p>A busca por desenvolver máquinas inteligentes capazes de raciocinar como seres humanos é um objetivo duradouro na área de inteligência artificial. Um <a href=\"https://www.nature.com/articles/s41586-023-06668-3\">estudo recente publicado na Nature</a> traz uma perspectiva inovadora ao sugerir que a chave para criar modelos de IA flexíveis e com capacidade de raciocínio humano pode estar na forma como esses modelos são treinados, em vez de simplesmente na quantidade de dados de treinamento que recebem.</p>\n",
            "\n",
            "\n",
            "\n",
            "<p>A composicionalidade, ou a capacidade de combinar informações de maneira criativa, é um dos princípios fundamentais da cognição humana. Isso nos permite, por exemplo, criar receitas únicas a partir de ingredientes familiares, e de forma mais genérica, compreender frases que nunca vimos antes. No entanto, replicar essa capacidade na IA tem sido um desafio. Mesmo modelos avançados como os da família GPT têm dificuldade em alcançar a verdadeira composicionalidade.</p>\n",
            "\n",
            "\n",
            "\n",
            "<p>O estudo publicado adota uma abordagem diferente. Em vez de criar um novo modelo de IA do zero, os pesquisadores utilizaram um modelo transformer padrão, semelhante aos usados no GPT, mas sem treinamento prévio em texto. A chave foi a forma como eles conduziram o processo de treinamento. Eles desenvolveram uma linguagem fictícia com palavras sem significado, como &#8220;dax,&#8221; &#8220;lug,&#8221; &#8220;kiki,&#8221; &#8220;fep&#8221; e &#8220;blicket,&#8221; relacionadas a conjuntos de pontos coloridos. O modelo de IA foi treinado para compreender as regras dessa linguagem fictícia, mesmo que não tivesse informações explícitas sobre as associações entre palavras e pontos coloridos. </p>\n",
            "\n",
            "\n",
            "\n",
            "<p>O modelo treinado dessa forma superou os humanos em testes de compreensão dessa linguagem fictícia, atingindo 100% de precisão em sua melhor performance, enquanto os humanos alcançaram 81% de precisão. Avaliado na mesma tarefa, o GPT-4 teve somente 58% de acertos.</p>\n",
            "\n",
            "\n",
            "\n",
            "<p>Essa descoberta desafia a ideia predominante de que aumentar a quantidade de dados de treinamento é o único caminho para melhorar a IA. Ela sugere que protocolos de treinamento específicos e direcionados podem ser uma alternativa eficaz para aprimorar a capacidade de raciocínio e generalização dos modelos de IA.</p>\n",
            "\n",
            "\n",
            "\n",
            "<p>No entanto, é importante reconhecer que esse estudo possui limitações. O modelo treinado se destacou em uma tarefa específica, mas ainda enfrenta desafios em novas formas de generalização e não atingiu o nível de inteligência artificial geral, onde a IA superaria as habilidades humanas na maioria das tarefas.</p>\n",
            "\n",
            "\n",
            "\n",
            "<p>Essa pesquisa oferece uma visão empolgante do futuro da inteligência artificial, destacando a importância de manter expectativas realistas em relação às capacidades atuais da IA. Embora promissora, a IA ainda tem seus limites, e entender essas limitações é fundamental à medida que continuamos a explorar seu potencial.</p>\n",
            "<p>O post <a href=\"https://iaexpert.academy/2023/11/01/novo-metodo-treinamento-ajuda-inteligencia-artificial-generalizar-como-humanos/\" rel=\"nofollow\">Novo método de treinamento ajuda a inteligência artificial a generalizar como humanos</a> apareceu primeiro em <a href=\"https://iaexpert.academy\" rel=\"nofollow\">IA Expert Academy</a>.</p>\n",
            "TSMixer: solução do Google une modelos lineares e redes neurais para previsões de séries temporais\n",
            "https://iaexpert.academy/2023/10/25/tsmixer-solucao-do-google-une-modelos-lineares-e-redes-neurais-para-previsoes-de-series-temporais/?utm_source=rss&utm_medium=rss&utm_campaign=tsmixer-solucao-do-google-une-modelos-lineares-e-redes-neurais-para-previsoes-de-series-temporais\n",
            "<p>A previsão de séries temporais desempenha um papel crucial em várias aplicações do mundo real, que vão desde a previsão da demanda até a análise da propagação de pandemias. O campo da previsão de séries temporais multivariadas testemunhou duas categorias principais de modelos: univariados e multivariados. Modelos univariados focam na captura de tendências e padrões sazonais em séries temporais de variável única, enquanto que modelos multivariados, na forma de redes neurais, estendem suas capacidades para processar informações cruzadas entre variáveis diferentes, fornecendo insights sobre as interações entre essas variáveis. Comparações entre as duas abordagens levantaram um paradoxo intrigante: modelos multivariados avançados frequentemente têm desempenho inferior a modelos lineares univariados mais simples em benchmarks de previsão de longo prazo, levantando questões sobre a importância da informação cruzada na previsão de séries temporais.</p>\n",
            "\n",
            "\n",
            "\n",
            "<p>Em resposta a esse desafio, a equipe do Google AI introduziu uma solução batizada de <a href=\"https://blog.research.google/2023/09/tsmixer-all-mlp-architecture-for-time.html\">Time-Series Mixer (TSMixer)</a>. O TSMixer é uma abordagem inovadora que aproveita os pontos fortes dos modelos lineares enquanto incorpora eficientemente informações cruzadas através de um transformer modificado, resultando em um modelo que rivaliza o desempenho dos melhores modelos univariados em benchmarks de previsão de longo prazo.</p>\n",
            "\n",
            "\n",
            "\n",
            "<p>Uma das principais diferenças entre modelos lineares e arquiteturas baseadas em transformers é a forma como eles capturam padrões temporais. Modelos lineares utilizam pesos fixos dependentes do passo de tempo, enquanto que os transformers têm pesos dinâmicos dependentes de dados processados por meio de mecanismos de atenção. O TSMixer preenche essa lacuna combinando essas duas abordagens ao substituir as camadas de atenção do transformer por camadas lineares.</p>\n",
            "\n",
            "\n",
            "\n",
            "<p>Os resultados empíricos são uma prova da habilidade do TSMixer. Ele supera outros modelos multivariados e se equipara aos melhores modelos univariados quando avaliado em relação a conjuntos de dados populares de previsão de longo prazo. Isso demonstra que modelos multivariados bem projetados podem igualar o desempenho de seus homólogos univariados.</p>\n",
            "\n",
            "\n",
            "\n",
            "<p>O modelo se destaca em aplicações onde a informação cruzada é menos benéfica, como demonstrado por seu sucesso em diversos benchmarks de previsão de longo prazo. No entanto, ele também mostra sua força quando desafiado com conjuntos de dados mais complexos e realistas, como o benchmark M5, que exige a incorporação de informações cruzadas, recursos auxiliares e uma compreensão das interações intricadas entre variáveis.</p>\n",
            "\n",
            "\n",
            "\n",
            "<p>Ao unir os pontos fortes dos modelos lineares com a adaptabilidade das arquiteturas baseadas em transformers, o TSMixer oferece novas possibilidades para o desenvolvimento de modelos de previsão de séries temporais. O anúncio do modelo acompanha um <a href=\"https://arxiv.org/abs/2303.06053\">artigo</a> com mais detalhes técnicos.</p>\n",
            "<p>O post <a href=\"https://iaexpert.academy/2023/10/25/tsmixer-solucao-do-google-une-modelos-lineares-e-redes-neurais-para-previsoes-de-series-temporais/\" rel=\"nofollow\">TSMixer: solução do Google une modelos lineares e redes neurais para previsões de séries temporais</a> apareceu primeiro em <a href=\"https://iaexpert.academy\" rel=\"nofollow\">IA Expert Academy</a>.</p>\n"
          ]
        }
      ]
    },
    {
      "cell_type": "code",
      "metadata": {
        "colab": {
          "base_uri": "https://localhost:8080/",
          "height": 157
        },
        "id": "TxpvWaWuH5os",
        "outputId": "eab26045-5d60-4ca1-a875-59c6bb184159"
      },
      "source": [
        "# Um em específico\n",
        "e.content[0].value"
      ],
      "execution_count": 42,
      "outputs": [
        {
          "output_type": "execute_result",
          "data": {
            "text/plain": [
              "'<p>A previsão de séries temporais desempenha um papel crucial em várias aplicações do mundo real, que vão desde a previsão da demanda até a análise da propagação de pandemias. O campo da previsão de séries temporais multivariadas testemunhou duas categorias principais de modelos: univariados e multivariados. Modelos univariados focam na captura de tendências e padrões sazonais em séries temporais de variável única, enquanto que modelos multivariados, na forma de redes neurais, estendem suas capacidades para processar informações cruzadas entre variáveis diferentes, fornecendo insights sobre as interações entre essas variáveis. Comparações entre as duas abordagens levantaram um paradoxo intrigante: modelos multivariados avançados frequentemente têm desempenho inferior a modelos lineares univariados mais simples em benchmarks de previsão de longo prazo, levantando questões sobre a importância da informação cruzada na previsão de séries temporais.</p>\\n\\n\\n\\n<p>Em resposta a esse desafio, a equipe do Google AI introduziu uma solução batizada de <a href=\"https://blog.research.google/2023/09/tsmixer-all-mlp-architecture-for-time.html\">Time-Series Mixer (TSMixer)</a>. O TSMixer é uma abordagem inovadora que aproveita os pontos fortes dos modelos lineares enquanto incorpora eficientemente informações cruzadas através de um transformer modificado, resultando em um modelo que rivaliza o desempenho dos melhores modelos univariados em benchmarks de previsão de longo prazo.</p>\\n\\n\\n\\n<p>Uma das principais diferenças entre modelos lineares e arquiteturas baseadas em transformers é a forma como eles capturam padrões temporais. Modelos lineares utilizam pesos fixos dependentes do passo de tempo, enquanto que os transformers têm pesos dinâmicos dependentes de dados processados por meio de mecanismos de atenção. O TSMixer preenche essa lacuna combinando essas duas abordagens ao substituir as camadas de atenção do transformer por camadas lineares.</p>\\n\\n\\n\\n<p>Os resultados empíricos são uma prova da habilidade do TSMixer. Ele supera outros modelos multivariados e se equipara aos melhores modelos univariados quando avaliado em relação a conjuntos de dados populares de previsão de longo prazo. Isso demonstra que modelos multivariados bem projetados podem igualar o desempenho de seus homólogos univariados.</p>\\n\\n\\n\\n<p>O modelo se destaca em aplicações onde a informação cruzada é menos benéfica, como demonstrado por seu sucesso em diversos benchmarks de previsão de longo prazo. No entanto, ele também mostra sua força quando desafiado com conjuntos de dados mais complexos e realistas, como o benchmark M5, que exige a incorporação de informações cruzadas, recursos auxiliares e uma compreensão das interações intricadas entre variáveis.</p>\\n\\n\\n\\n<p>Ao unir os pontos fortes dos modelos lineares com a adaptabilidade das arquiteturas baseadas em transformers, o TSMixer oferece novas possibilidades para o desenvolvimento de modelos de previsão de séries temporais. O anúncio do modelo acompanha um <a href=\"https://arxiv.org/abs/2303.06053\">artigo</a> com mais detalhes técnicos.</p>\\n<p>O post <a href=\"https://iaexpert.academy/2023/10/25/tsmixer-solucao-do-google-une-modelos-lineares-e-redes-neurais-para-previsoes-de-series-temporais/\" rel=\"nofollow\">TSMixer: solução do Google une modelos lineares e redes neurais para previsões de séries temporais</a> apareceu primeiro em <a href=\"https://iaexpert.academy\" rel=\"nofollow\">IA Expert Academy</a>.</p>'"
            ],
            "application/vnd.google.colaboratory.intrinsic+json": {
              "type": "string"
            }
          },
          "metadata": {},
          "execution_count": 42
        }
      ]
    },
    {
      "cell_type": "code",
      "metadata": {
        "id": "eixL_HNfIHTy"
      },
      "source": [
        "# Função para facilitar a visualização do texto\n",
        "def limpa_html(texto):\n",
        "  if texto == '':\n",
        "    return ''\n",
        "  return BeautifulSoup(texto, 'html5lib').get_text()"
      ],
      "execution_count": 46,
      "outputs": []
    },
    {
      "cell_type": "code",
      "metadata": {
        "colab": {
          "base_uri": "https://localhost:8080/",
          "height": 157
        },
        "id": "tmGFsZ09IXz5",
        "outputId": "ae79e53e-5b00-4e16-c340-ad24e8832830"
      },
      "source": [
        "limpa_html(e.content[0].value)"
      ],
      "execution_count": 47,
      "outputs": [
        {
          "output_type": "execute_result",
          "data": {
            "text/plain": [
              "'A previsão de séries temporais desempenha um papel crucial em várias aplicações do mundo real, que vão desde a previsão da demanda até a análise da propagação de pandemias. O campo da previsão de séries temporais multivariadas testemunhou duas categorias principais de modelos: univariados e multivariados. Modelos univariados focam na captura de tendências e padrões sazonais em séries temporais de variável única, enquanto que modelos multivariados, na forma de redes neurais, estendem suas capacidades para processar informações cruzadas entre variáveis diferentes, fornecendo insights sobre as interações entre essas variáveis. Comparações entre as duas abordagens levantaram um paradoxo intrigante: modelos multivariados avançados frequentemente têm desempenho inferior a modelos lineares univariados mais simples em benchmarks de previsão de longo prazo, levantando questões sobre a importância da informação cruzada na previsão de séries temporais.\\n\\n\\n\\nEm resposta a esse desafio, a equipe do Google AI introduziu uma solução batizada de Time-Series Mixer (TSMixer). O TSMixer é uma abordagem inovadora que aproveita os pontos fortes dos modelos lineares enquanto incorpora eficientemente informações cruzadas através de um transformer modificado, resultando em um modelo que rivaliza o desempenho dos melhores modelos univariados em benchmarks de previsão de longo prazo.\\n\\n\\n\\nUma das principais diferenças entre modelos lineares e arquiteturas baseadas em transformers é a forma como eles capturam padrões temporais. Modelos lineares utilizam pesos fixos dependentes do passo de tempo, enquanto que os transformers têm pesos dinâmicos dependentes de dados processados por meio de mecanismos de atenção. O TSMixer preenche essa lacuna combinando essas duas abordagens ao substituir as camadas de atenção do transformer por camadas lineares.\\n\\n\\n\\nOs resultados empíricos são uma prova da habilidade do TSMixer. Ele supera outros modelos multivariados e se equipara aos melhores modelos univariados quando avaliado em relação a conjuntos de dados populares de previsão de longo prazo. Isso demonstra que modelos multivariados bem projetados podem igualar o desempenho de seus homólogos univariados.\\n\\n\\n\\nO modelo se destaca em aplicações onde a informação cruzada é menos benéfica, como demonstrado por seu sucesso em diversos benchmarks de previsão de longo prazo. No entanto, ele também mostra sua força quando desafiado com conjuntos de dados mais complexos e realistas, como o benchmark M5, que exige a incorporação de informações cruzadas, recursos auxiliares e uma compreensão das interações intricadas entre variáveis.\\n\\n\\n\\nAo unir os pontos fortes dos modelos lineares com a adaptabilidade das arquiteturas baseadas em transformers, o TSMixer oferece novas possibilidades para o desenvolvimento de modelos de previsão de séries temporais. O anúncio do modelo acompanha um artigo com mais detalhes técnicos.\\nO post TSMixer: solução do Google une modelos lineares e redes neurais para previsões de séries temporais apareceu primeiro em IA Expert Academy.'"
            ],
            "application/vnd.google.colaboratory.intrinsic+json": {
              "type": "string"
            }
          },
          "metadata": {},
          "execution_count": 47
        }
      ]
    },
    {
      "cell_type": "code",
      "metadata": {
        "id": "L52-yp2TIhzm"
      },
      "source": [
        "# Salva o título e o corpo da notícia de vários elementos do feed\n",
        "artigos = []\n",
        "for e in feed.entries:\n",
        "  artigos.append({'titulo': e.title, 'conteudo': limpa_html(e.content[0].value)})"
      ],
      "execution_count": 48,
      "outputs": []
    },
    {
      "cell_type": "code",
      "metadata": {
        "colab": {
          "base_uri": "https://localhost:8080/"
        },
        "id": "PzXW34JEIxqo",
        "outputId": "0d16f2dc-b26e-484b-8803-27d587ad9848"
      },
      "source": [
        "artigos"
      ],
      "execution_count": 49,
      "outputs": [
        {
          "output_type": "execute_result",
          "data": {
            "text/plain": [
              "[{'titulo': 'Novo método apresenta resultados inéditos para reconstrução de imagens mentais a partir de atividade cerebral',\n",
              "  'conteudo': 'No dinâmico cruzamento entre inteligência artificial e neurociência, uma das áreas mais fascinantes e desafiadoras corresponde à geração de informação estruturada a partir da atividade cerebral. Um estudo publicado por pesquisadores associados à Universidade de Osaka, no Japão, apresenta resultados inéditos para a reconstrução de imagens mentais, vistas ou imaginadas, em representações visuais, literalmente traduzindo pensamentos.\\n\\n\\n\\nO estudo utiliza a decodificação neural, uma técnica que traduz a atividade cerebral medida por ressonância magnética funcional (fMRI) em representações visuais. Estudos anteriores reconstruíram com sucesso domínios específicos, como rostos humanos, letras escritas à mão e imagens binárias. O que diferencia este estudo é a incorporação de redes neurais profundas (DNNs) e modelos generativos, alcançando uma reconstrução de imagem natural de maior fidelidade.\\n\\n\\n\\nPara enfrentar o desafio de externalizar a imaginação mental, os pesquisadores ampliaram um método anterior para um cenário de estimação bayesiana. Ao contrário dos métodos tradicionais que dependem fortemente de informações visuais de baixo nível, esta abordagem bayesiana permite a incorporação de conhecimentos prévios sofisticados de estudos recentes de visão computacional. O algoritmo de dinâmica estocástica de Langevin (SGLD) foi introduzido para amostragem da distribuição posterior, superando as limitações da estimação bayesiana tradicional na decodificação neural.\\n\\n\\n\\nOutra inovação chave envolve a integração de informações semânticas usando um modelo de pré-treinamento contrastivo de linguagem-imagem (CLIP). Ao traduzir sinais cerebrais em características semânticas fornecidas pelo CLIP, o estudo aprimora o processo de reconstrução de imagem. Esta assistência semântica compensa a falta de informações visuais de baixo nível, contribuindo para a reconstrução bem-sucedida de imagens vistas e imaginadas.\\n\\n\\n\\nOs pesquisadores aplicaram a abordagem para reconstruir imagens vistas e imaginadas, demonstrando resultados superiores em comparação com métodos anteriores: 91 e 76% de acurácia respectivamente, contra 64 e 50% reportados por outros estudos. O método proposto superou em termos de qualidade visual, precisão de identificação e pontuações de Inception. Além disso, o framework mostrou notável capacidade de generalização ao reconstruir com sucesso formas artificiais. Alguns exemplos são apresentados no artigo.\\n\\n\\n\\nAs implicações deste estudo se estendem além do campo da decodificação neural. O framework apresentado aqui abre caminhos para interfaces cérebro-máquina, onde pensamentos espontâneos podem ser decodificados e reconstruídos. Além disso, é evidente a possibilidade de devolver a pessoas incapacitadas a habilidade de se comunicar apenas com o pensamento.\\n\\n\\n\\nEm conclusão, a integração da estimação bayesiana, assistência semântica e algoritmos inovadores de aprendizado de máquina impulsionou o campo da decodificação neural a novos patamares. Este estudo marca um marco significativo na visualização de imagens subjetivas na mente humana, mostrando o potencial para entender processos cognitivos complexos e aplicações práticas em interfaces cérebro-máquina.\\nO post Novo método apresenta resultados inéditos para reconstrução de imagens mentais a partir de atividade cerebral apareceu primeiro em IA Expert Academy.'},\n",
              " {'titulo': 'Google apresenta Gemini, seu novo grande modelo de linguagem',\n",
              "  'conteudo': 'Mais uma semana agitada no mundo dos grandes modelos de linguagem. Depois de meses de antecipação, o Google lança seu modelo mais avançado, batizado de Gemini. Este modelo representa como principal novidade a priorização da multimodalidade, permitindo que ele navegue e interaja com diversos formatos de dados, incluindo texto, imagens, áudio, vídeo e código. De acordo com a empresa, essa versatilidade inerente concede ao Gemini um poder significativo e abre portas para avanços potencialmente inovadores em vários setores.\\n\\n\\n\\nNo release à comunidade, o Google enfatiza que um dos aspectos mais notáveis do Gemini reside em sua capacidade de gerar conteúdo criativo, como poemas e roteiros, que demonstravelmente rivalizam com obras produzidas por humanos. Este feito transcende a mera imitação, mostrando a capacidade do Gemini de captar as nuances da linguagem e da expressão artística. Além disso, suas capacidades multilíngues superam demonstravelmente as tecnologias de tradução existentes, oferecendo uma compreensão precisa e matizada dos contextos culturais, pavimentando o caminho para uma comunicação e colaboração global potencialmente perfeita.\\n\\n\\n\\nEm vários benchmarks, o Gemini obteve resultados impressionantes, superando o desempenho de modelos existentes de empresas líderes em IA como OpenAI, Inflection, Anthropic, Meta e xAI. Notavelmente, a versão “Gemini Ultra” supera os concorrentes em 30 dos 32 benchmarks acadêmicos amplamente usados \\u200b\\u200bem pesquisas de grandes modelos de linguagem. Além disso, ele atinge uma pontuação de 90,0% no benchmark Massive Multitask Language Understanding (MMLU), superando o desempenho de especialistas humanos. Essas comparações sugerem que o Gemini representa um salto significativo no campo da IA e tem o potencial de remodelar a paisagem de várias indústrias e aplicações.\\n\\n\\n\\nAlém do domínio da linguagem, o Gemini demonstra proeza no processamento e interpretação de dados sensoriais, tornando-o um desenvolvimento potencialmente revolucionário para áreas como saúde e educação. A empresa nos convida a imaginar um futuro onde diagnósticos médicos sejam entregues com maior velocidade e precisão, graças à capacidade do Gemini de analisar grandes quantidades de dados médicos e identificar anomalias sutis. Da mesma forma, experiências de aprendizado personalizadas, adaptadas às necessidades e estilos de aprendizagem individuais dos alunos, podem se tornar realidade por meio de instrução interativa baseada em IA, guiada pelos insights do Gemini.\\n\\n\\n\\nNo entanto, o impacto potencial do Gemini se estende muito além de aplicações específicas. Sua chegada significa uma mudança fundamental na relação humana com esta tecnologia, borrando as linhas entre a inteligência humana e a artificial. À medida que nos aproximamos dessa nova fronteira, garantir o desenvolvimento responsável da IA é crucial. O Google reconhece essa necessidade, priorizando a acessibilidade por meio do Google AI Studio gratuito e defendendo princípios éticos como justiça, transparência e responsabilização.\\n\\n\\n\\nA versão Pro do Gemini já está disponível para uso através da interface do Bard, mas por enquanto somente em inglês. A empresa promete em breve disponibilizar novas línguas assim como a versão Ultra.\\nO post Google apresenta Gemini, seu novo grande modelo de linguagem apareceu primeiro em IA Expert Academy.'},\n",
              " {'titulo': 'Pika 1.0: modelo generativo para criação e edição de vídeos',\n",
              "  'conteudo': 'Startup praticamente desconhecida até semana passada, a Pika Labs surpreendeu a comunidade com o lançamento no último dia 29 do Pika 1.0, uma ferramenta revolucionária para a criação e edição de vídeos por meio de inteligência artificial. Após intensos testes realizados ao longo do ano, a plataforma atinge sua primeira geração, prometendo transformar frases simples dos usuários em clipes editados e animações de alta qualidade.\\n\\n\\n\\nA empresa apresenta o grande diferencial do Pika 1.0 como sendo a notável fidelidade das produções às solicitações dos usuários. Utilizando um novo modelo de linguagem, a ferramenta é capaz de gerar desde pequenos clipes até vídeos mais extensos, oferecendo uma gama de estilos de animação, desde abordagens cinemáticas até realistas, incluindo estilos tradicionais à la Disney Pixar, além de uma gama extensa de edições guiadas por prompt. A publicação abaixo mostra as possibilidades que a empresa promete.\\n\\n\\n\\n\\nIntroducing Pika 1.0, the idea-to-video platform that brings your creativity to life.Create and edit your videos with AI.Rolling out to new users on web and discord, starting today. Sign up at https://t.co/JHRrinsIwx pic.twitter.com/Rve3I2FzmK— Pika (@pika_labs) November 28, 2023\\n\\n\\n\\n\\nJá nesta primeira iteração, o Pika 1.0 promete ser acessível ao usuário comum por meio de uma interface web intuitiva e simples. Além disso, foram incorporadas opções técnicas que permitem a adaptação dos vídeos a diferentes formatos, plataformas e dispositivos, proporcionando uma flexibilidade excepcional aos criadores.\\n\\n\\n\\nO investimento significativo liderado pela Lightspeed Venture Partners destaca a confiança na Pika Labs e na missão compartilhada de democratizar a tecnologia. A empresa de venture capital elogiou a parceria, expressando total apoio à visão da Pika Labs e fornecendo as bases para o crescimento futuro.\\n\\n\\n\\nEste lançamento acontece em um momento estratégico, coincidindo com a apresentação recente do Stable Video Diffusion pela Stability. Este motor de IA, atualmente disponível exclusivamente para pesquisadores de inteligência artificial, cria clipes curtos a partir de prompts do usuário e imagens estáticas. O Pika 1.0 é o primeiro software deste tipo a estar disponível para qualquer pessoa interessada.\\n\\n\\n\\nA capacidade de transformar frases em animações de alta qualidade, aliada à flexibilidade e otimização excepcionais, posiciona esta plataforma como uma força motriz na revolução criativa. A parceria estratégica com a Lightspeed Venture Partners reforça ainda mais a promessa de inovação contínua, deixando a todos ansiosos para testemunhar como essa ferramenta transformadora moldará o futuro da produção de vídeos com IA.\\nO post Pika 1.0: modelo generativo para criação e edição de vídeos apareceu primeiro em IA Expert Academy.'},\n",
              " {'titulo': 'Desenvolvimento de Software Colaborativo: Como integrei o ChatGPT no meu\\xa0projeto',\n",
              "  'conteudo': 'Neste artigo, explico como implementei a integração com o ChatGPT, possibilitando a exploração colaborativa de um repositório de código e a construção de sistemas.\\n\\n\\n\\n1\\u200a—\\u200aRecursos: O que vamos\\xa0usar\\n\\n\\n\\nDentre os recursos oferecidos pela OpenAI, escolhi a API\\xa0completions[1], pela sua clareza e detalhamento. Achei a documentação da API clara, bem detalhada e com exemplos funcionais. A utilização de uma API proporciona maior flexibilidade em comparação com a interface web padrão do ChatGPT.\\n\\n\\n\\nComo tecnologia para desenvolver o GPTCoder, utilizarei Java, devido à minha familiaridade com a linguagem. O projeto será do tipo Java padrão para desktop. A IDE escolhida foi o Eclipse.\\n\\n\\n\\n2\\u200a—\\u200aSolução pretendida\\n\\n\\n\\nAbaixo teremos os passos que foram pensados para a primeira versão da solução. Tendo como foco que o desenvolvedor terá o ChatGPT como um ajudante de sua missão de programação. A figura1 representa o processo da solução.\\n\\n\\n\\n\\nDesenvolvedor define necessidade: Nesse momento o desenvolvedor vai informar o que deseja fazer ou que problema deseja solucionar. Como estamos focados em programação, um cenário esperado seria de criar uma classe que resolva determinado problema.\\n\\n\\n\\nPreparar o contexto: Aqui será necessário buscar as informações necessárias para o chat GPT se situar quando for chamado. Antes de pedir precisamos dar o máximo de dados que o ajudem a entender qual o mundo onde nosso problema está inserido. Na sessão 4 detalharemos mais este tema.\\n\\n\\n\\nPreparar o prompt: Por mais que usemos linguagem natural é preciso delimitar bem as fronteitas do que desejamos pedir. Um bom prompt possui um texto que não deixe dúvidas de interpretação quanto aquilo que desejamos. Na sessão 4 detalharemos mais este tema.\\n\\n\\n\\nSolicitar solução: Aqui vamos enviar todos os dados que temos para a API do ChatGPT e aguardar o processamento e resposta. Estamos efetivamente pedindo uma solução para o problema que temos em mãos.\\n\\n\\n\\nProcessar solicitação: Nesse momento ocorre a análise de todos dados que enviamos e criação de uma resposta.\\n\\n\\n\\nProcessar resposta: Será necessário receber os dados da resposta para extrair exatamente o que desejamos.\\n\\n\\n\\nSalvar os dados: Vamos persistir em um arquivo a resposta que recebemos. No nosso caso desejamos que os dados sejam um código, funcional que resolva nosso problema. Esse código será salvo no formato de classe.\\n\\n\\n\\nAvaliar solução: O Código foi persistido e está disponível para ser executado. O desenvolvedor vai avaliar se o código está solucionando o problema e pode pedir correções em uma nova requisição caso seja necessário.\\n\\n\\n\\n\\nFigura 1\\u200a—\\u200aSolução proposta.\\n\\n\\n\\n3\\u200a—\\u200aContexto: Explique primeiro antes de\\xa0pedir\\n\\n\\n\\nPodemos pensar o contexto como o conjunto de informações que o ChatGPT precisa conhecer para entender melhor seus pedidos e assim prover melhores respostas. Nosso objetivo é gerar código e por vezes o GPT precisa ter acesso a outros códigos que já existam no sistema que ele vai trabalhar.\\n\\n\\n\\nNesse caso vamos criar um recurso que pode ler vários arquivos de uma vez e deixá-los prontos para envio na próxima requisição. A classe\\xa0ReadDataFromFile\\xa0tem métodos para ler um ou vários arquivos de código e transformar em uma string que pode ser adicionada a uma requisição. Assim, se passarmos os caminhos de vários arquivos de um repositório de código, o GPTCoder será capaz de ler os dados desses arquivos. Abaixo a figura 2 ilustra a classe\\xa0ReadDataFromFile.\\n\\n\\n\\nFigura 2\\u200a—\\u200aIlustração classe\\xa0ReadDataFromFile.java\\n\\n\\n\\n3.1\\u200a—\\u200aLimites\\n\\n\\n\\nÉ importante lembrar que existe um limite de dados para gerar contexto. Isso vai depender do modelo do ChatGPT que está sendo usado. O modelo que melhor performou foi o modelo gpt-3.5-turbo-16k. Esse modelo respondeu com maior velocidade que o GPT4 e demais GPT3. Ele possui uma janela de contexto de 16k tokens que seria aproximadamente 12000 palavras\\xa0[2].\\n\\n\\n\\n4\\u200a—\\u200aPrompt: Como pedir da maneira\\xa0correta\\n\\n\\n\\nO ChatGPT entende linguagem natural, isto significa que não precisamos falar com ele usando linguagens de programação como PHP ou Java. Basta falar como falaria-mos com outro ser humano e ele será capaz de entender. No entanto, mesmo usando linguagem natural, se pudermos estruturar melhor nosso diálogo temos maior chance de conseguir respostas mais precisas.\\n\\n\\n\\nOutro ponto importante é que o ChatGPT consegue interpretar código e produzir código. Então podemos pedir a ele que nos envie a resposta em formato de código em uma determinada linguagem de programação. No caso deste post estou focando em Java. Abaixo está o que foi levado em conta para estruturar um padrão de prompt que funciona para a solução.\\n\\n\\n\\n4.1 —\\u200a Estrutura de PROMPT usado:\\n\\n\\n\\n\\nComportamento esperado:\\xa0{Papel}\\u200a—\\u200aComo o GPT precisa raciocinar ou o que ele deve imitar. Exemplo: Gerador de código Java, PHP etc.\\n\\n\\n\\nCom base em:\\xa0{dados de contexto}\\u200a—\\u200aExemplo: Minhas classes Java existentes no projeto ou relativas ao meu problema.\\n\\n\\n\\nFaça: {ação desejada}\\u200a—\\u200aGere uma classe que resolva determinado problema; Melhore a classe X adicionando metodo que faz deteminada ação.\\n\\n\\n\\nDados adicionais:\\xa0{Formato de entrada e Formato de saída}\\u200a—\\u200aAdicione marcadores que ajudem o ChatGPT a identificar o que queremos passar na hora de pedir e como desejamos receber a nossa resposta. Criei os marcadores de inicio e fim de contexto (solicitação), inicio e fim de código (resposta) e inicio e fim de observação (resposta). Esse formato funcionou bem e evitou, principalmente, mistura de dados nas respostas e com isso maior facilidade de extração dos dados de interesse. A figura 3 mostra os marcadores usados.\\n\\n\\n\\n\\nFigura 3\\u200a—\\u200aMarcadores para\\xa0prompt\\n\\n\\n\\n4.1.1 —\\u200a Exemplo de PROMPT usado na solicitação:\\n\\n\\n\\n\\nComporte-se como uma api geradora de código Java. Crie uma classe Java que resolverá o problema a seguir: Baseado no codigo informado { Nada ainda}\\xa0. Crie uma classe Pessoa que tenha nome, idade, cpf, rg, endereco, contato. Resposta esperada:\\xa0responda no seguinte formato texto delimitado pelos 2 marcadores a seguir: ==response-obs-inicio==\\xa0obsevacoes para orientacoes sobre o codigo\\xa0==response-obs-fim== ==response-javacode-inicio==\\xa0deve conter Somente o codigo\\xa0==response-javacode-fim==.\\n\\n\\n\\n\\n4.1.2 —\\u200a Exemplo de resposta recebida:\\n\\n\\n\\n\\n{“id”: “MEU_ID_API_CHAT_GPT”,“object”: “chat.completion”,“created”:1699113491,“model”: “gpt-3.5-turbo-0613”,“choices”: [{“index”: 0“message”: {“role”: “assistant”,“content”: “==response-obs-inicio==\\\\nA classe Pessoa deve ter os seguintes atributos: nome (String), idade (int), cpf (String), rg (String), endereco (String) e contato (String).\\\\n==response-obs-fim==\\\\n==response-javacode-inicio==\\\\n“`java\\\\npublic class Pessoa {\\\\n private String nome;\\\\n private int idade;\\\\n private String cpf;\\\\n private String rg;\\\\n private String endereco;\\\\n private String contato;\\\\n\\\\n // Construtor da classe Pessoa\\\\n public Pessoa(String nome, int idade, String cpf, String rg, String endereco, String contato) {\\\\n this.nome = nome;\\\\n this.idade = idade;\\\\n this.cpf = cpf;\\\\n this.rg = rg;\\\\n this.endereco = endereco;\\\\n this.contato = contato;\\\\n }\\\\n\\\\n // Getters e Setters dos atributos da classe Pessoa\\\\n public String getNome() {\\\\n return nome;\\\\n }\\\\n\\\\n public void setNome(String nome) {\\\\n this.nome = nome;\\\\n }\\\\n\\\\n public int getIdade() {\\\\n return idade;\\\\n }\\\\n\\\\n public void setIdade(int idade) {\\\\n this.idade = idade;\\\\n }\\\\n\\\\n public String getCpf() {\\\\n return cpf;\\\\n }\\\\n\\\\n public void setCpf(String cpf) {\\\\n this.cpf = cpf;\\\\n }\\\\n\\\\n public String getRg() {\\\\n return rg;\\\\n }\\\\n\\\\n public void setRg(String rg) {\\\\n this.rg = rg;\\\\n }\\\\n\\\\n public String getEndereco() {\\\\n return endereco;\\\\n }\\\\n\\\\n public void setEndereco(String endereco) {\\\\n this.endereco = endereco;\\\\n }\\\\n\\\\n public String getContato() {\\\\n return contato;\\\\n }\\\\n\\\\n public void setContato(String contato) {\\\\n this.contato = contato;\\\\n }\\\\n}\\\\n“`\\\\n==response-javacode-fim==”},“finish_reason”: “stop”}],“usage”: {“prompt_tokens”: 163,“completion_tokens”: 386,“total_tokens”: 549}}\\n\\n\\n\\n\\n5\\u200a—\\u200aCódigo\\n\\n\\n\\nNessa sessão focarei nos aspectos principais do código:\\n\\n\\n\\n5.1\\u200a—\\u200a Conexão com a API: A classe ApiCaller faz uma requisição HTTP padrão de acordo com a documentação da openAI e transforma dos dados devolvidos pela API em uma string de texto. Os dados de entrada que são o prompt em si estão representados pela variável jsonSend que é passada por parâmetro para o método callGPT.\\n\\n\\n\\nFigura 4- Código que faz chamada à API do\\xa0ChatGPT\\n\\n\\n\\n5.2\\u200a—\\u200aA classe Prompt representa um prompt em si e, nesse momento, a estrutura do prompt tem 2 partes principais: system-content e user-content. A primeira é a instrução inicial de configuração do ChatGPT tendo como foco definir o comportamento esperado. A segunda tem como foco passar o que o usuário deseja que seja feito e o contexto para o ChatGPT. Em determinada parte do processo vamos configurar as 2 partes de acordo com o que está definido na figura 6. Na figura 5 temos o código da classe Prompt na integra.\\n\\n\\n\\nPodemos ver ainda que o dado que está sendo preparado é um JSON que tem: 1\\u200a—\\u200a A propriedade model onde definimos o modelo do ChatGPT que vamos usar; 2\\u200a—\\u200aO parâmetro temperatura define o quão criativo queremos que o modelo seja na hora de gerar resposta, e como queremos um código não precisa que ele gere o mesmo código sempre de formas diferentes, ele pode gerar o mesmo código desde que resolva o problema, assim a temperatura será 0 (zero); 3\\u200a—\\u200aO atributo messages é onde vamos colocar os dados da solicitação.\\n\\n\\n\\nFigura 5\\u200a—\\u200aCódigo da classe\\xa0Prompt.\\n\\n\\n\\nFigura 6\\u200a—\\u200aPartes do prompt intruções tipo system e tipo\\xa0user.\\n\\n\\n\\n5.3\\u200a—\\u200aDepois de algumas camadas de abstração chegamos ao processo de colaboração, mais simples do projeto, onde o desenvolvedor pede uma ação por vez e recebe uma resposta por vez. No método codingWithDeveloper é possível passar no parâmetros: Uma lista de arquivos (repositório); O texto com o que desejamos fazer (doesInstruction\\u200a—\\u200aé a parte que falta no prompt); Onde salvar os dados após receber a resposta (whereDoesPath\\u200a—\\u200aÉ a classe Java onde vou salvar o código). O processo será descrito abaixo e ilustrado na figura 7.\\n\\n\\n\\n5.3.1\\u200a—\\u200aProcesso\\n\\n\\n\\n\\nLeitura de todos os arquivos que vão servir para gerar o contexto na variável codeContext\\n\\n\\n\\nFormatação do JavaPrompt que um prompt especifico para gerar código Java de acordo com o item 5.2\\n\\n\\n\\nChamada a API do ChatGPT, coletamos a resposta e extraímos o dado que nos interessa salvar.\\n\\n\\n\\nSalvamento dos dados de interesse (a classe Java) usando o SaveGPTResponseFile. O caminho onde o código deve ser salvo precisa ser informado. No caso definimos a pasta e acrescentamos o nome da classe para gerar o caminho completo do arquivo de destino.\\n\\n\\n\\nPor fim salvamento de todos os dados de requisição e resposta em um histórico.\\n\\n\\n\\n\\nFigura 7\\u200a—\\u200aexecutando um unico prompt por vez. Processo de colaboração GTP e desenvovedor.\\n\\n\\n\\n5.4\\u200a—\\u200aCom esse processo já é possível ao desenvolvedor passar instrucões para criar classes que resolvam problemas, analisar classes e melhora-las. Abaixo veremos alguns exemplos de prompts que foram usados pra um projeto piloto.\\n\\n\\n\\n5.4.1\\u200a—\\u200aA classe prompt executor tem o path de um repositório de código na variável sourcePath. Um objeto PromptExecutor chama o método codingWithDeveloper passando apenas um arquivo\\xa0“crud/PessoaRequisicao.java”\\xa0e pedindo para fazer melhorias nesse mesmo arquivo essa melhoria seria acrescentar o JavaDoc com base no código atual da classe. O Resultado é a mesma classe Java com a documentação acrescida no padrão JavaDoc. Parte da classe documentada está ilustrada na figura 9.\\n\\n\\n\\nFigura 8\\u200a—\\u200aClasse PromptExecutor chamando um prompt de melhoria de\\xa0código.\\n\\n\\n\\nFigura 9\\u200a—\\u200aTrecho de JavaDoc gerado na classe PessoaRequisicao\\n\\n\\n\\n5.4.2\\u200a—\\u200aAqui já temos vários prompts pedindo para executar a criação de várias classes onde definimos os atributos ou objetivos das classes. Definimos onde os dados serão salvos e definimos o pacote onde as classes serão criadas como fonte de contexto. Nessa sequencia de execução de prompts novas classes são geradas e essas já servem como contexto para a próxima requisição. Possibilitando a criação em lote de um conjunto de classes do sistema.\\xa0\\n\\n\\n\\nPela figura 10 vemos que quando a classe PessoaDAO for criada essa terá como informações de contexto as classes Pessoa, Contato e Endereço que ja foram criadas anteriormente. O contexto de PessoaRequisição será todas classes anteriores inclusive PessoaDAO. Isso é possível pois estamos sempre enviando todas as classes que foram criadas antes para o ChatGPT manter-se contextualizado.\\n\\n\\n\\nFigura 10\\u200a—\\u200aExemplo de prompts executados em\\xa0lote.\\n\\n\\n\\n6\\u200a—\\u200aConclusão\\n\\n\\n\\n\\nFoi possível criar uma integração com o ChatGPT usando sua API, ler dados de um repositório de código para ajudar na contextualização e geração de novos códigos.\\n\\n\\n\\nEntendemos um pouco mais sobre contexto, sobre a importância de gerar bons prompts[3]\\xa0e o potencial do ChatGPT como parceiro de desenvolvimento de software no dia a dia do desenvolvedor de sistemas.\\n\\n\\n\\nO sistema desenvolvido pode ser usado para criar sistemas em outras linguagens de programação ou outros tipos de conteúdo textual. Apenas fazendo extensões da classe que define os prompts.\\n\\n\\n\\nComo pontos de melhoria destaco a necessidade de um nível de abstração que permita ao desenvolvedor definir regras de negócio em alto nível e receber a regra implementada com as camadas de abstração corretamente escritas.\\n\\n\\n\\n\\nReferências\\n\\n\\n\\n[1]APIIntegrate OpenAI models into your application or business\\n\\n\\n\\n[2]https://openai.com/pricing\\n\\n\\n\\n[3]https://platform.openai.com/docs/guides/prompt-engineering\\nO post Desenvolvimento de Software Colaborativo: Como integrei o ChatGPT no meu\\xa0projeto apareceu primeiro em IA Expert Academy.'},\n",
              " {'titulo': 'IA identifica mais casos de câncer de mama do que médicos radiologistas',\n",
              "  'conteudo': 'A revolução da inteligência artificial está pavimentando o caminho para uma nova era na detecção de câncer de mama em estágio inicial. Um estudo publicado este mês na revista Nature Medicine mostra que a IA pode identificar até 13% mais casos de câncer de mama do que os métodos tradicionais. Estima-se que mais de 20% dos cânceres escapem da detecção nos exames de triagem convencionais, sem a assistência da IA.\\n\\n\\n\\nA pesquisa, conduzida na Hungria, utilizou uma ferramenta de IA chamada Mia, desenvolvida pela empresa britânica Kheiron Medical Technologies. Ao analisar dados de 25 mil mulheres submetidas a exames de triagem entre 2021 e 2023, os resultados revelaram melhorias de 5, 10 e 13% na taxa de detecção de câncer em três versões distintas do estudo, em comparação com a leitura padrão, que é feita por pelo menos dois radiologistas. A maioria das novas descobertas eram cânceres invasivos, com potencial para se espalhar pelo organismo.\\n\\n\\n\\nAlém da Hungria, estudos recentes na Suécia corroboram essas descobertas, indicando que a análise de mamografias aprimorada por IA atinge taxas de detecção semelhantes às leituras humanas padrão. Esses avanços tecnológicos não apenas melhoram a precisão, mas também oferecem a perspectiva de acelerar significativamente o processo de análise.\\n\\n\\n\\nDiante desses resultados, a presidente de um conselho de radiologistas do Reino Unido destaca o potencial colaborativo entre a IA e os radiologistas, prevendo um futuro onde ambos trabalham em conjunto para aprimorar a tomada de decisões clínicas. Alinhado com esta visão, um dos coautores do estudo enfatiza a IA como uma “rede de segurança eficaz”, capaz de identificar sinais sutis que poderiam passar despercebidos pelos radiologistas humanos.\\n\\n\\n\\nAlém do impacto na precisão e velocidade, a IA também promete eficiência, com a Mia da Kheiron podendo economizar até 45% do tempo gasto na leitura de exames de câncer de mama, conforme destacado pelos pesquisadores.\\n\\n\\n\\nOs resultados encorajadores na Hungria e o sucesso da implementação da Mia em hospitais no Reino Unido e nos Estados Unidos sugerem que a IA tem o potencial de transformar significativamente o tratamento do câncer de mama. No entanto, os pesquisadores enfatizam a importância de expandir a pesquisa, incluindo mais países e explorando diferentes sistemas de IA, para alcançar um entendimento mais abrangente de como essa tecnologia pode ser aproveitada na detecção precoce do câncer. Este é um passo crucial em direção a um futuro em que a inteligência artificial e os profissionais de saúde colaboram para salvar vidas.\\nO post IA identifica mais casos de câncer de mama do que médicos radiologistas apareceu primeiro em IA Expert Academy.'},\n",
              " {'titulo': 'Google apresenta GraphCast, modelo de IA revolucionário para previsão do tempo',\n",
              "  'conteudo': 'Em um mundo onde o impacto do clima é sentido diariamente, previsões do tempo acuradas e rápidas são consideradas cruciais. Esta tarefa é um dos projetos científicos mais antigos e desafiadores. Os modelos que tratam do problema geralmente aplicam a chamada Previsão Numérica do Tempo (NWP, numerical weather prediction), que depende de equações físicas bem definidas, as quais são traduzidas em algoritmos que rodam em supercomputadores. Apesar desta abordagem ter alcançado relativo sucesso, seu desenvolvimento é lento e depende de expertise profunda, além de recursos computacionais onerosos.\\n\\n\\n\\nNum avanço significativo, pesquisadores do DeepMind (Google) apresentaram o modelo de IA GraphCast, destacado em um artigo publicado na revista Science na semana passada. O GraphCast se destaca ao fornecer previsões meteorológicas de médio alcance com uma precisão sem precedentes, superando o padrão ouro da indústria – o sistema Previsão de Alta Resolução (HRES, High-Resolution Forecast) do Centro Europeu para Previsões Meteorológicas de Médio Prazo (ECMWF). As previsões do modelo, estendendo-se até 10 dias no futuro, são mais rápidas e precisas, oferecendo alertas precoces para eventos climáticos extremos, como ciclones, rios atmosféricos e temperaturas extremas.\\n\\n\\n\\nA abordagem do GraphCast combina aprendizado profundo com métodos tradicionais de NWP. Treinado em décadas de dados históricos de clima, o modelo utiliza Redes Neurais Gráficas (GNNs) para processar dados espacialmente estruturados, operando em uma impressionante resolução de 0,25 graus de longitude/latitude. Para cada ponto nessa malha gigantesca, o modelo prediz cinco variáveis de relevo, incluindo temperatura, velocidade e direção do vento, e pressão, e seis variáveis atmosféricas em 37 níveis de altitude, incluindo umidade específica, velocidade e direção do vento, e temperatura. A eficiência do modelo é evidente, pois produz previsões de 10 dias em menos de um minuto em uma única máquina Google TPU v4, uma melhoria notável em comparação com métodos convencionais que exigem horas de computação em supercomputadores.\\n\\n\\n\\nUma avaliação abrangente de desempenho em comparação com o padrão da indústria HRES demonstra a superioridade do GraphCast, fornecendo previsões mais precisas em mais de 90% das variáveis de teste e tempos de previsão. Na região crucial da troposfera, onde as previsões são mais importantes, o GraphCast superou o HRES em impressionantes 99,7% das variáveis de teste para o clima futuro. Notavelmente, o modelo se destaca na identificação precoce de eventos climáticos graves em relação aos modelos tradicionais de previsão, mostrando seu potencial para o gerenciamento proativo de desastres.\\n\\n\\n\\nComprometida com a democratização da previsão do tempo, a equipe do GraphCast disponibilizou o código do modelo, possibilitando acessibilidade global para cientistas e meteorologistas. O ECMWF já implementou o GraphCast em experimentos ao vivo em seu site, marcando um passo rumo à revolução da previsão do tempo em todo o mundo. O GraphCast, junto com outros sistemas de previsão do tempo de última geração, incluindo aqueles do Google DeepMind e do Google Research, representa a vanguarda do papel da IA na formação do futuro da meteorologia. Além da conveniência diária, o impacto global da previsão do tempo impulsionada por IA promete enfrentar desafios ambientais mais amplos em nosso clima em constante mudança.\\nO post Google apresenta GraphCast, modelo de IA revolucionário para previsão do tempo apareceu primeiro em IA Expert Academy.'},\n",
              " {'titulo': 'Grok é a LLM da xAI',\n",
              "  'conteudo': 'A xAI, nova empresa de Elon Musk com foco em inteligência artificial, acaba de anunciar o Grok, sua LLM proprietária. A empresa apresenta a ferramenta como um companheiro de IA versátil, projetado para atender a indivíduos de diversas origens e perspectivas políticas. Alguns diferenciais são que o sistema foi treinado tendo como base a série de livros O Guia do Mochileiro das Galáxias, o que lhe confere uma personalidade sarcástica, além de ter acesso a conhecimento do mundo em tempo real graças a sua comunicação com o X.\\n\\n\\n\\nO Grok, impulsionado pelo avançado motor Grok-1, passou por um desenvolvimento substancial nos últimos quatro meses. A jornada começou com o protótipo Grok-0, um modelo com 33 bilhões de parâmetros que se aproximava das capacidades do LLaMA 2, mas utilizava apenas metade dos recursos de treinamento. A evolução culminou no Grok-1, um modelo de linguagem de ponta treinado em apenas impressionantes 2 meses, que alcançou resultados notáveis, incluindo 63,2% na tarefa de codificação HumanEval e 73% no MMLU, um benchmark multidisciplinar, ultrapassando modelos similares como o ChatGPT-3.5 e o Inflection-1. A equipe desenvolvedora estabeleceu uma infraestrutura robusta usando Kubernetes, Rust e JAX.\\n\\n\\n\\nUm teste da vida real envolveu a avaliação manual do Grok-1 frente a outras LLMs de ponta, como Claude-2 e os modelos da família GPT, nas finais nacionais de matemática da Hungria em 2023. O Grok alcançou nota C (59%), ficando atrás apenas do GPT-4, que foi treinado com uma quantidade muito maior de dados, destacando suas capacidades em um cenário de avaliação inesperado.\\n\\n\\n\\nOlhando para o futuro, a xAI está se preparando para o próximo salto nas capacidades do modelo, exigindo a coordenação de execuções de treinamento em dezenas de milhares de aceleradores, execução de pipelines de dados em escala de internet e aprimoramento das capacidades do Grok.\\n\\n\\n\\nNo campo da pesquisa, a xAI reconhece a importância de abordar as limitações dos sistemas atuais. Direções promissoras de pesquisa incluem supervisão escalável com assistência de ferramentas, integração com verificação formal para segurança e confiabilidade, compreensão e recuperação de longo contexto, robustez adversarial e o desenvolvimento de capacidades multimodais para o Grok.\\n\\n\\n\\nPara oferecer aos usuários uma experiência antecipada, a xAI está proporcionando a um número limitado de usuários nos Estados Unidos acesso ao protótipo Grok. Este programa de acesso antecipado convida os usuários a experimentar o Grok e fornecer feedback, moldando suas capacidades antes de um lançamento mais amplo.\\nO post Grok é a LLM da xAI apareceu primeiro em IA Expert Academy.'},\n",
              " {'titulo': 'Project Res-Up é solução de IA da Adobe para aumentar resolução de vídeos',\n",
              "  'conteudo': 'As ferramentas que aplicam inteligência artificial com finalidade prática estão cada vez mais próximas do usuário que não entende de programação. No evento Adobe MAX, que ocorreu mês passado, por exemplo, a Adobe anunciou o Project Res-Up, uma ferramenta de upscaling de vídeo que deve em breve fazer parte da suíte de programas da empresa.\\n\\n\\n\\nO objetivo do Project Res-Up é ser uma ferramenta fácil para converter vídeos de baixa para alta resolução. Para isso, ele utiliza modelos estado da arte baseados em difusão. Em uma demonstração no evento, um cientista da empresa submeteu um recorte de um vídeo, em uma interface simples do tipo arrastar e enviar. Em cerca de 9 segundos, o resultado estava disponível. O aumento de resolução foi de mais de 6 vezes.\\n\\n\\n\\n\\n\\nDemonstração da ferramenta Project Res-Up no evento Adobe MAX.\\n\\n\\n\\nO foco do produto é melhor a qualidade de vídeos antigos, desfocados ou recortes com zoom, aceitando também arquivos no formato GIF. Com isso, as versões de resolução maior ficam mais nítidas em telas HD, que representam o padrão no mercado atual.\\n\\n\\n\\nPor enquanto, o Project Res-Up segue como projeto, mas várias ideias apresentadas em eventos anteriores da empresa vieram a se tornar soluções disponíveis ao usuário. Com a popularidade de ferramentas baseadas em inteligência artificial, é seguro prever que este é o caminho mais provável também para esta novidade.\\nO post Project Res-Up é solução de IA da Adobe para aumentar resolução de vídeos apareceu primeiro em IA Expert Academy.'},\n",
              " {'titulo': 'Novo método de treinamento ajuda a inteligência artificial a generalizar como humanos',\n",
              "  'conteudo': 'A busca por desenvolver máquinas inteligentes capazes de raciocinar como seres humanos é um objetivo duradouro na área de inteligência artificial. Um estudo recente publicado na Nature traz uma perspectiva inovadora ao sugerir que a chave para criar modelos de IA flexíveis e com capacidade de raciocínio humano pode estar na forma como esses modelos são treinados, em vez de simplesmente na quantidade de dados de treinamento que recebem.\\n\\n\\n\\nA composicionalidade, ou a capacidade de combinar informações de maneira criativa, é um dos princípios fundamentais da cognição humana. Isso nos permite, por exemplo, criar receitas únicas a partir de ingredientes familiares, e de forma mais genérica, compreender frases que nunca vimos antes. No entanto, replicar essa capacidade na IA tem sido um desafio. Mesmo modelos avançados como os da família GPT têm dificuldade em alcançar a verdadeira composicionalidade.\\n\\n\\n\\nO estudo publicado adota uma abordagem diferente. Em vez de criar um novo modelo de IA do zero, os pesquisadores utilizaram um modelo transformer padrão, semelhante aos usados no GPT, mas sem treinamento prévio em texto. A chave foi a forma como eles conduziram o processo de treinamento. Eles desenvolveram uma linguagem fictícia com palavras sem significado, como “dax,” “lug,” “kiki,” “fep” e “blicket,” relacionadas a conjuntos de pontos coloridos. O modelo de IA foi treinado para compreender as regras dessa linguagem fictícia, mesmo que não tivesse informações explícitas sobre as associações entre palavras e pontos coloridos. \\n\\n\\n\\nO modelo treinado dessa forma superou os humanos em testes de compreensão dessa linguagem fictícia, atingindo 100% de precisão em sua melhor performance, enquanto os humanos alcançaram 81% de precisão. Avaliado na mesma tarefa, o GPT-4 teve somente 58% de acertos.\\n\\n\\n\\nEssa descoberta desafia a ideia predominante de que aumentar a quantidade de dados de treinamento é o único caminho para melhorar a IA. Ela sugere que protocolos de treinamento específicos e direcionados podem ser uma alternativa eficaz para aprimorar a capacidade de raciocínio e generalização dos modelos de IA.\\n\\n\\n\\nNo entanto, é importante reconhecer que esse estudo possui limitações. O modelo treinado se destacou em uma tarefa específica, mas ainda enfrenta desafios em novas formas de generalização e não atingiu o nível de inteligência artificial geral, onde a IA superaria as habilidades humanas na maioria das tarefas.\\n\\n\\n\\nEssa pesquisa oferece uma visão empolgante do futuro da inteligência artificial, destacando a importância de manter expectativas realistas em relação às capacidades atuais da IA. Embora promissora, a IA ainda tem seus limites, e entender essas limitações é fundamental à medida que continuamos a explorar seu potencial.\\nO post Novo método de treinamento ajuda a inteligência artificial a generalizar como humanos apareceu primeiro em IA Expert Academy.'},\n",
              " {'titulo': 'TSMixer: solução do Google une modelos lineares e redes neurais para previsões de séries temporais',\n",
              "  'conteudo': 'A previsão de séries temporais desempenha um papel crucial em várias aplicações do mundo real, que vão desde a previsão da demanda até a análise da propagação de pandemias. O campo da previsão de séries temporais multivariadas testemunhou duas categorias principais de modelos: univariados e multivariados. Modelos univariados focam na captura de tendências e padrões sazonais em séries temporais de variável única, enquanto que modelos multivariados, na forma de redes neurais, estendem suas capacidades para processar informações cruzadas entre variáveis diferentes, fornecendo insights sobre as interações entre essas variáveis. Comparações entre as duas abordagens levantaram um paradoxo intrigante: modelos multivariados avançados frequentemente têm desempenho inferior a modelos lineares univariados mais simples em benchmarks de previsão de longo prazo, levantando questões sobre a importância da informação cruzada na previsão de séries temporais.\\n\\n\\n\\nEm resposta a esse desafio, a equipe do Google AI introduziu uma solução batizada de Time-Series Mixer (TSMixer). O TSMixer é uma abordagem inovadora que aproveita os pontos fortes dos modelos lineares enquanto incorpora eficientemente informações cruzadas através de um transformer modificado, resultando em um modelo que rivaliza o desempenho dos melhores modelos univariados em benchmarks de previsão de longo prazo.\\n\\n\\n\\nUma das principais diferenças entre modelos lineares e arquiteturas baseadas em transformers é a forma como eles capturam padrões temporais. Modelos lineares utilizam pesos fixos dependentes do passo de tempo, enquanto que os transformers têm pesos dinâmicos dependentes de dados processados por meio de mecanismos de atenção. O TSMixer preenche essa lacuna combinando essas duas abordagens ao substituir as camadas de atenção do transformer por camadas lineares.\\n\\n\\n\\nOs resultados empíricos são uma prova da habilidade do TSMixer. Ele supera outros modelos multivariados e se equipara aos melhores modelos univariados quando avaliado em relação a conjuntos de dados populares de previsão de longo prazo. Isso demonstra que modelos multivariados bem projetados podem igualar o desempenho de seus homólogos univariados.\\n\\n\\n\\nO modelo se destaca em aplicações onde a informação cruzada é menos benéfica, como demonstrado por seu sucesso em diversos benchmarks de previsão de longo prazo. No entanto, ele também mostra sua força quando desafiado com conjuntos de dados mais complexos e realistas, como o benchmark M5, que exige a incorporação de informações cruzadas, recursos auxiliares e uma compreensão das interações intricadas entre variáveis.\\n\\n\\n\\nAo unir os pontos fortes dos modelos lineares com a adaptabilidade das arquiteturas baseadas em transformers, o TSMixer oferece novas possibilidades para o desenvolvimento de modelos de previsão de séries temporais. O anúncio do modelo acompanha um artigo com mais detalhes técnicos.\\nO post TSMixer: solução do Google une modelos lineares e redes neurais para previsões de séries temporais apareceu primeiro em IA Expert Academy.'}]"
            ]
          },
          "metadata": {},
          "execution_count": 49
        }
      ]
    },
    {
      "cell_type": "code",
      "metadata": {
        "id": "uK8A07bdI2Mn"
      },
      "source": [
        "# Salva o arquivo de feed em uma json\n",
        "arquivo_gravar = os.path.join('feed_iaexpert.json')\n",
        "\n",
        "# Cria um arquivo para gravar identado o valores do feed\n",
        "with open(arquivo_gravar, 'w+') as arquivo:\n",
        "  arquivo.write(json.dumps(artigos, indent=1))"
      ],
      "execution_count": 50,
      "outputs": []
    },
    {
      "cell_type": "code",
      "metadata": {
        "id": "hlqYhcLGKCF4"
      },
      "source": [
        "# Lendo o arquivo e mostrando o conteúdo\n",
        "with open('/content/feed_iaexpert.json', encoding='utf-8') as arquivo:\n",
        "  artigos_blog = json.load(arquivo)\n",
        "\n",
        "artigos_blog"
      ],
      "execution_count": null,
      "outputs": []
    },
    {
      "cell_type": "markdown",
      "metadata": {
        "id": "FU-gqF4qKRgE"
      },
      "source": [
        "## Nuvem de palavras"
      ]
    },
    {
      "cell_type": "code",
      "metadata": {
        "id": "yS42cIcZKt99",
        "colab": {
          "base_uri": "https://localhost:8080/",
          "height": 157
        },
        "outputId": "41451141-9a02-4f87-b8f3-5a99bc57ee2a"
      },
      "source": [
        "# Passa por todos as notícias já processando o texto\n",
        "conteudo_feed_formatado = ''\n",
        "for artigo in artigos_blog:\n",
        "  conteudo_feed_formatado += preprocessamento(artigo['conteudo'])\n",
        "\n",
        "conteudo_feed_formatado"
      ],
      "execution_count": 83,
      "outputs": [
        {
          "output_type": "execute_result",
          "data": {
            "text/plain": [
              "'dinâmico cruzamento inteligência artificial neurociência áreas fascinantes desafiadoras corresponde geração informação estruturada partir atividade cerebral estudo publicado pesquisadores associados universidade osaka japão apresenta resultados inéditos reconstrução imagens mentais vistas imaginadas representações visuais literalmente traduzindo pensamentos estudo utiliza decodificação neural técnica traduz atividade cerebral medida ressonância magnética funcional fmri representações visuais estudos anteriores reconstruíram sucesso domínios específicos rostos humanos letras escritas mão imagens binárias diferencia estudo incorporação redes neurais profundas dnns modelos generativos alcançando reconstrução imagem natural maior fidelidade enfrentar desafio externalizar imaginação mental pesquisadores ampliaram método anterior cenário estimação bayesiana contrário métodos tradicionais dependem fortemente informações visuais baixo nível abordagem bayesiana permite incorporação conhecimentos prévios sofisticados estudos recentes visão computacional algoritmo dinâmica estocástica langevin sgld introduzido amostragem distribuição posterior superando limitações estimação bayesiana tradicional decodificação neural outra inovação chave envolve integração informações semânticas usando modelo pré-treinamento contrastivo linguagem-imagem clip traduzir sinais cerebrais características semânticas fornecidas clip estudo aprimora processo reconstrução imagem assistência semântica compensa falta informações visuais baixo nível contribuindo reconstrução bem-sucedida imagens vistas imaginadas pesquisadores aplicaram abordagem reconstruir imagens vistas imaginadas demonstrando resultados superiores comparação métodos anteriores acurácia respectivamente contra reportados outros estudos método proposto superou termos qualidade visual precisão identificação pontuações inception disso framework mostrou notável capacidade generalização reconstruir sucesso formas artificiais alguns exemplos apresentados artigo implicações deste estudo estendem campo decodificação neural framework apresentado aqui abre caminhos interfaces cérebro-máquina onde pensamentos espontâneos podem decodificados reconstruídos disso evidente possibilidade devolver pessoas incapacitadas habilidade comunicar apenas pensamento conclusão integração estimação bayesiana assistência semântica algoritmos inovadores aprendizado máquina impulsionou campo decodificação neural novos patamares estudo marca marco significativo visualização imagens subjetivas mente humana mostrando potencial entender processos cognitivos complexos aplicações práticas interfaces cérebro-máquina post novo método apresenta resultados inéditos reconstrução imagens mentais partir atividade cerebral apareceu primeiro ia expert academysemana agitada mundo grandes modelos linguagem meses antecipação google lança modelo avançado batizado gemini modelo representa principal novidade priorização multimodalidade permitindo navegue interaja diversos formatos dados incluindo texto imagens áudio vídeo código acordo empresa versatilidade inerente concede gemini poder significativo abre portas avanços potencialmente inovadores vários setores release comunidade google enfatiza aspectos notáveis gemini reside capacidade gerar conteúdo criativo poemas roteiros demonstravelmente rivalizam obras produzidas humanos feito transcende mera imitação mostrando capacidade gemini captar nuances linguagem expressão artística disso capacidades multilíngues superam demonstravelmente tecnologias tradução existentes oferecendo compreensão precisa matizada contextos culturais pavimentando caminho comunicação colaboração global potencialmente perfeita vários benchmarks gemini obteve resultados impressionantes superando desempenho modelos existentes empresas líderes ia openai inflection anthropic meta xai notavelmente versão “ gemini ultra ” supera concorrentes benchmarks acadêmicos amplamente usados \\u200b\\u200bem pesquisas grandes modelos linguagem disso atinge pontuação 90,0 benchmark massive multitask language understanding mmlu superando desempenho especialistas humanos comparações sugerem gemini representa salto significativo campo ia potencial remodelar paisagem várias indústrias aplicações domínio linguagem gemini demonstra proeza processamento interpretação dados sensoriais tornando-o desenvolvimento potencialmente revolucionário áreas saúde educação empresa convida imaginar futuro onde diagnósticos médicos entregues maior velocidade precisão graças capacidade gemini analisar grandes quantidades dados médicos identificar anomalias sutis mesma forma experiências aprendizado personalizadas adaptadas necessidades estilos aprendizagem individuais alunos podem tornar realidade meio instrução interativa baseada ia guiada insights gemini entanto impacto potencial gemini estende aplicações específicas chegada significa mudança fundamental relação humana tecnologia borrando linhas inteligência humana artificial medida aproximamos dessa nova fronteira garantir desenvolvimento responsável ia crucial google reconhece necessidade priorizando acessibilidade meio google ai studio gratuito defendendo princípios éticos justiça transparência responsabilização versão pro gemini disponível uso através interface bard enquanto somente inglês empresa promete breve disponibilizar novas línguas assim versão ultra post google apresenta gemini novo grande modelo linguagem apareceu primeiro ia expert academystartup praticamente desconhecida semana passada pika labs surpreendeu comunidade lançamento último dia pika 1.0 ferramenta revolucionária criação edição vídeos meio inteligência artificial após intensos testes realizados longo ano plataforma atinge primeira geração prometendo transformar frases simples usuários clipes editados animações alta qualidade empresa apresenta grande diferencial pika 1.0 sendo notável fidelidade produções solicitações usuários utilizando novo modelo linguagem ferramenta capaz gerar desde pequenos clipes vídeos extensos oferecendo gama estilos animação desde abordagens cinemáticas realistas incluindo estilos tradicionais la disney pixar gama extensa edições guiadas prompt publicação abaixo mostra possibilidades empresa promete introducing pika 1.0 the idea-to-video platform that brings your creativity to life.create and edit your videos with ai.rolling out to new users on web and discord starting today sign up at https //t.co/jhrrinsiwx pic.twitter.com/rve3i2fzmk— pika pika_labs november nesta primeira iteração pika 1.0 promete acessível usuário comum meio interface web intuitiva simples disso incorporadas opções técnicas permitem adaptação vídeos diferentes formatos plataformas dispositivos proporcionando flexibilidade excepcional criadores investimento significativo liderado lightspeed venture partners destaca confiança pika labs missão compartilhada democratizar tecnologia empresa venture capital elogiou parceria expressando total apoio visão pika labs fornecendo bases crescimento futuro lançamento acontece momento estratégico coincidindo apresentação recente stable video diffusion stability motor ia atualmente disponível exclusivamente pesquisadores inteligência artificial cria clipes curtos partir prompts usuário imagens estáticas pika 1.0 primeiro software deste tipo disponível qualquer pessoa interessada capacidade transformar frases animações alta qualidade aliada flexibilidade otimização excepcionais posiciona plataforma força motriz revolução criativa parceria estratégica lightspeed venture partners reforça ainda promessa inovação contínua deixando todos ansiosos testemunhar ferramenta transformadora moldará futuro produção vídeos ia post pika 1.0 modelo generativo criação edição vídeos apareceu primeiro ia expert academyneste artigo explico implementei integração chatgpt possibilitando exploração colaborativa repositório código construção sistemas — recursos vamos usar dentre recursos oferecidos openai escolhi api completions clareza detalhamento achei documentação api clara bem detalhada exemplos funcionais utilização api proporciona maior flexibilidade comparação interface web padrão chatgpt tecnologia desenvolver gptcoder utilizarei java devido familiaridade linguagem projeto tipo java padrão desktop ide escolhida eclipse — solução pretendida abaixo passos pensados primeira versão solução tendo foco desenvolvedor chatgpt ajudante missão programação figura1 representa processo solução desenvolvedor define necessidade nesse momento desenvolvedor vai informar deseja fazer problema deseja solucionar focados programação cenário esperado criar classe resolva determinado problema preparar contexto aqui necessário buscar informações necessárias chat gpt situar chamado antes pedir precisamos dar máximo dados ajudem entender mundo onde problema inserido sessão detalharemos tema preparar prompt usemos linguagem natural preciso delimitar bem fronteitas desejamos pedir bom prompt possui texto deixe dúvidas interpretação quanto desejamos sessão detalharemos tema solicitar solução aqui vamos enviar todos dados api chatgpt aguardar processamento resposta efetivamente pedindo solução problema mãos processar solicitação nesse momento ocorre análise todos dados enviamos criação resposta processar resposta necessário receber dados resposta extrair exatamente desejamos salvar dados vamos persistir arquivo resposta recebemos caso desejamos dados código funcional resolva problema código salvo formato classe avaliar solução código persistido disponível executado desenvolvedor vai avaliar código solucionando problema pode pedir correções nova requisição caso necessário figura — solução proposta — contexto explique primeiro antes pedir podemos pensar contexto conjunto informações chatgpt precisa conhecer entender melhor pedidos assim prover melhores respostas objetivo gerar código vezes gpt precisa ter acesso outros códigos existam sistema vai trabalhar nesse caso vamos criar recurso pode ler vários arquivos vez deixá-los prontos envio próxima requisição classe readdatafromfile métodos ler vários arquivos código transformar string pode adicionada requisição assim passarmos caminhos vários arquivos repositório código gptcoder capaz ler dados desses arquivos abaixo figura ilustra classe readdatafromfile figura — ilustração classe readdatafromfile.java 3.1 — limites importante lembrar existe limite dados gerar contexto vai depender modelo chatgpt sendo usado modelo melhor performou modelo gpt-3.5-turbo-16k modelo respondeu maior velocidade gpt4 demais gpt3 possui janela contexto 16k tokens aproximadamente palavras — prompt pedir maneira correta chatgpt entende linguagem natural significa precisamos falar usando linguagens programação php java basta falar falaria-mos outro humano capaz entender entanto usando linguagem natural pudermos estruturar melhor diálogo maior chance conseguir respostas precisas outro ponto importante chatgpt consegue interpretar código produzir código então podemos pedir envie resposta formato código determinada linguagem programação caso deste post focando java abaixo levado conta estruturar padrão prompt funciona solução 4.1 — estrutura prompt usado comportamento esperado papel — gpt precisa raciocinar deve imitar exemplo gerador código java php etc base dados contexto — exemplo classes java existentes projeto relativas problema faça ação desejada — gere classe resolva determinado problema melhore classe x adicionando metodo faz deteminada ação dados adicionais formato entrada formato saída — adicione marcadores ajudem chatgpt identificar queremos passar hora pedir desejamos receber resposta criei marcadores inicio fim contexto solicitação inicio fim código resposta inicio fim observação resposta formato funcionou bem evitou principalmente mistura dados respostas maior facilidade extração dados interesse figura mostra marcadores usados figura — marcadores prompt 4.1.1 — exemplo prompt usado solicitação comporte-se api geradora código java crie classe java resolverá problema seguir baseado codigo informado nada ainda crie classe pessoa nome idade cpf rg endereco contato resposta esperada responda seguinte formato texto delimitado marcadores seguir ==response-obs-inicio== obsevacoes orientacoes sobre codigo ==response-obs-fim== ==response-javacode-inicio== deve conter somente codigo ==response-javacode-fim== 4.1.2 — exemplo resposta recebida “ id ” “ meu_id_api_chat_gpt ” “ object ” “ chat.completion ” “ created ” :1699113491 “ model ” “ gpt-3.5-turbo-0613 ” “ choices ” “ index ” “ message ” “ role ” “ assistant ” “ content ” “ ==response-obs-inicio==\\\\na classe pessoa deve ter seguintes atributos nome string idade int cpf string rg string endereco string contato string .\\\\n==response-obs-fim==\\\\n==response-javacode-inicio==\\\\n “ java\\\\npublic class pessoa \\\\n private string nome \\\\n private int idade \\\\n private string cpf \\\\n private string rg \\\\n private string endereco \\\\n private string contato \\\\n\\\\n // construtor classe pessoa\\\\n public pessoa string nome int idade string cpf string rg string endereco string contato \\\\n this.nome nome \\\\n this.idade idade \\\\n this.cpf cpf \\\\n this.rg rg \\\\n this.endereco endereco \\\\n this.contato contato \\\\n \\\\n\\\\n // getters setters atributos classe pessoa\\\\n public string getnome \\\\n return nome \\\\n \\\\n\\\\n public void setnome string nome \\\\n this.nome nome \\\\n \\\\n\\\\n public int getidade \\\\n return idade \\\\n \\\\n\\\\n public void setidade int idade \\\\n this.idade idade \\\\n \\\\n\\\\n public string getcpf \\\\n return cpf \\\\n \\\\n\\\\n public void setcpf string cpf \\\\n this.cpf cpf \\\\n \\\\n\\\\n public string getrg \\\\n return rg \\\\n \\\\n\\\\n public void setrg string rg \\\\n this.rg rg \\\\n \\\\n\\\\n public string getendereco \\\\n return endereco \\\\n \\\\n\\\\n public void setendereco string endereco \\\\n this.endereco endereco \\\\n \\\\n\\\\n public string getcontato \\\\n return contato \\\\n \\\\n\\\\n public void setcontato string contato \\\\n this.contato contato \\\\n \\\\n \\\\n “ \\\\n==response-javacode-fim== ” “ finish_reason ” “ stop ” “ usage ” “ prompt_tokens ” “ completion_tokens ” “ total_tokens ” — código nessa sessão focarei aspectos principais código 5.1 — conexão api classe apicaller faz requisição http padrão acordo documentação openai transforma dados devolvidos api string texto dados entrada prompt si representados variável jsonsend passada parâmetro método callgpt figura 4- código faz chamada api chatgpt 5.2 — classe prompt representa prompt si nesse momento estrutura prompt partes principais system-content user-content primeira instrução inicial configuração chatgpt tendo foco definir comportamento esperado segunda foco passar usuário deseja feito contexto chatgpt determinada parte processo vamos configurar partes acordo definido figura 6. figura código classe prompt integra podemos ver ainda dado sendo preparado json — propriedade model onde definimos modelo chatgpt vamos usar — parâmetro temperatura define quão criativo queremos modelo hora gerar resposta queremos código precisa gere código sempre formas diferentes pode gerar código desde resolva problema assim temperatura zero — atributo messages onde vamos colocar dados solicitação figura — código classe prompt figura — partes prompt intruções tipo system tipo user 5.3 — algumas camadas abstração chegamos processo colaboração simples projeto onde desenvolvedor pede ação vez recebe resposta vez método codingwithdeveloper possível passar parâmetros lista arquivos repositório texto desejamos fazer doesinstruction — parte falta prompt onde salvar dados após receber resposta wheredoespath — classe java onde vou salvar código processo descrito abaixo ilustrado figura 5.3.1 — processo leitura todos arquivos vão servir gerar contexto variável codecontext formatação javaprompt prompt especifico gerar código java acordo item 5.2 chamada api chatgpt coletamos resposta extraímos dado interessa salvar salvamento dados interesse classe java usando savegptresponsefile caminho onde código deve salvo precisa informado caso definimos pasta acrescentamos nome classe gerar caminho completo arquivo destino fim salvamento todos dados requisição resposta histórico figura — executando unico prompt vez processo colaboração gtp desenvovedor 5.4 — processo possível desenvolvedor passar instrucões criar classes resolvam problemas analisar classes melhora-las abaixo veremos alguns exemplos prompts usados pra projeto piloto 5.4.1 — classe prompt executor path repositório código variável sourcepath objeto promptexecutor chama método codingwithdeveloper passando apenas arquivo “ crud/pessoarequisicao.java ” pedindo fazer melhorias nesse arquivo melhoria acrescentar javadoc base código atual classe resultado mesma classe java documentação acrescida padrão javadoc parte classe documentada ilustrada figura 9. figura — classe promptexecutor chamando prompt melhoria código figura — trecho javadoc gerado classe pessoarequisicao 5.4.2 — aqui vários prompts pedindo executar criação várias classes onde definimos atributos objetivos classes definimos onde dados salvos definimos pacote onde classes criadas fonte contexto nessa sequencia execução prompts novas classes geradas servem contexto próxima requisição possibilitando criação lote conjunto classes sistema figura vemos classe pessoadao criada informações contexto classes pessoa contato endereço ja criadas anteriormente contexto pessoarequisição todas classes anteriores inclusive pessoadao possível pois sempre enviando todas classes criadas antes chatgpt manter-se contextualizado figura — exemplo prompts executados lote — conclusão possível criar integração chatgpt usando api ler dados repositório código ajudar contextualização geração novos códigos entendemos pouco sobre contexto sobre importância gerar bons prompts potencial chatgpt parceiro desenvolvimento software dia dia desenvolvedor sistemas sistema desenvolvido pode usado criar sistemas outras linguagens programação outros tipos conteúdo textual apenas fazendo extensões classe define prompts pontos melhoria destaco necessidade nível abstração permita desenvolvedor definir regras negócio alto nível receber regra implementada camadas abstração corretamente escritas referências apiintegrate openai models into your application or business https //openai.com/pricing https //platform.openai.com/docs/guides/prompt-engineering post desenvolvimento software colaborativo integrei chatgpt projeto apareceu primeiro ia expert academyrevolução inteligência artificial pavimentando caminho nova detecção câncer mama estágio inicial estudo publicado mês revista nature medicine mostra ia pode identificar casos câncer mama métodos tradicionais estima-se cânceres escapem detecção exames triagem convencionais assistência ia pesquisa conduzida hungria utilizou ferramenta ia chamada mia desenvolvida empresa britânica kheiron medical technologies analisar dados mil mulheres submetidas exames triagem resultados revelaram melhorias taxa detecção câncer três versões distintas estudo comparação leitura padrão feita menos dois radiologistas maioria novas descobertas cânceres invasivos potencial espalhar organismo hungria estudos recentes suécia corroboram descobertas indicando análise mamografias aprimorada ia atinge taxas detecção semelhantes leituras humanas padrão avanços tecnológicos apenas melhoram precisão oferecem perspectiva acelerar significativamente processo análise diante desses resultados presidente conselho radiologistas reino unido destaca potencial colaborativo ia radiologistas prevendo futuro onde ambos trabalham conjunto aprimorar tomada decisões clínicas alinhado visão coautores estudo enfatiza ia “ rede segurança eficaz ” capaz identificar sinais sutis poderiam passar despercebidos radiologistas humanos impacto precisão velocidade ia promete eficiência mia kheiron podendo economizar tempo gasto leitura exames câncer mama conforme destacado pesquisadores resultados encorajadores hungria sucesso implementação mia hospitais reino unido estados unidos sugerem ia potencial transformar significativamente tratamento câncer mama entanto pesquisadores enfatizam importância expandir pesquisa incluindo países explorando diferentes sistemas ia alcançar entendimento abrangente tecnologia pode aproveitada detecção precoce câncer passo crucial direção futuro inteligência artificial profissionais saúde colaboram salvar vidas post ia identifica casos câncer mama médicos radiologistas apareceu primeiro ia expert academymundo onde impacto clima sentido diariamente previsões tempo acuradas rápidas consideradas cruciais tarefa projetos científicos antigos desafiadores modelos tratam problema geralmente aplicam chamada previsão numérica tempo nwp numerical weather prediction depende equações físicas bem definidas quais traduzidas algoritmos rodam supercomputadores apesar desta abordagem ter alcançado relativo sucesso desenvolvimento lento depende expertise profunda recursos computacionais onerosos avanço significativo pesquisadores deepmind google apresentaram modelo ia graphcast destacado artigo publicado revista science semana passada graphcast destaca fornecer previsões meteorológicas médio alcance precisão precedentes superando padrão ouro indústria – sistema previsão alta resolução hres high-resolution forecast centro europeu previsões meteorológicas médio prazo ecmwf previsões modelo estendendo-se dias futuro rápidas precisas oferecendo alertas precoces eventos climáticos extremos ciclones rios atmosféricos temperaturas extremas abordagem graphcast combina aprendizado profundo métodos tradicionais nwp treinado décadas dados históricos clima modelo utiliza redes neurais gráficas gnns processar dados espacialmente estruturados operando impressionante resolução 0,25 graus longitude/latitude cada ponto nessa malha gigantesca modelo prediz cinco variáveis relevo incluindo temperatura velocidade direção vento pressão seis variáveis atmosféricas níveis altitude incluindo umidade específica velocidade direção vento temperatura eficiência modelo evidente pois produz previsões dias menos minuto única máquina google tpu v4 melhoria notável comparação métodos convencionais exigem horas computação supercomputadores avaliação abrangente desempenho comparação padrão indústria hres demonstra superioridade graphcast fornecendo previsões precisas variáveis teste tempos previsão região crucial troposfera onde previsões importantes graphcast superou hres impressionantes 99,7 variáveis teste clima futuro notavelmente modelo destaca identificação precoce eventos climáticos graves relação modelos tradicionais previsão mostrando potencial gerenciamento proativo desastres comprometida democratização previsão tempo equipe graphcast disponibilizou código modelo possibilitando acessibilidade global cientistas meteorologistas ecmwf implementou graphcast experimentos vivo site marcando passo rumo revolução previsão tempo todo mundo graphcast junto outros sistemas previsão tempo última geração incluindo google deepmind google research representa vanguarda papel ia formação futuro meteorologia conveniência diária impacto global previsão tempo impulsionada ia promete enfrentar desafios ambientais amplos clima constante mudança post google apresenta graphcast modelo ia revolucionário previsão tempo apareceu primeiro ia expert academyxai nova empresa elon musk foco inteligência artificial acaba anunciar grok llm proprietária empresa apresenta ferramenta companheiro ia versátil projetado atender indivíduos diversas origens perspectivas políticas alguns diferenciais sistema treinado tendo base série livros guia mochileiro galáxias confere personalidade sarcástica ter acesso conhecimento mundo tempo real graças comunicação x. grok impulsionado avançado motor grok-1 passou desenvolvimento substancial últimos quatro meses jornada começou protótipo grok-0 modelo bilhões parâmetros aproximava capacidades llama utilizava apenas metade recursos treinamento evolução culminou grok-1 modelo linguagem ponta treinado apenas impressionantes meses alcançou resultados notáveis incluindo 63,2 tarefa codificação humaneval mmlu benchmark multidisciplinar ultrapassando modelos similares chatgpt-3.5 inflection-1 equipe desenvolvedora estabeleceu infraestrutura robusta usando kubernetes rust jax teste vida real envolveu avaliação manual grok-1 frente outras llms ponta claude-2 modelos família gpt finais nacionais matemática hungria 2023. grok alcançou nota c ficando atrás apenas gpt-4 treinado quantidade maior dados destacando capacidades cenário avaliação inesperado olhando futuro xai preparando próximo salto capacidades modelo exigindo coordenação execuções treinamento dezenas milhares aceleradores execução pipelines dados escala internet aprimoramento capacidades grok campo pesquisa xai reconhece importância abordar limitações sistemas atuais direções promissoras pesquisa incluem supervisão escalável assistência ferramentas integração verificação formal segurança confiabilidade compreensão recuperação longo contexto robustez adversarial desenvolvimento capacidades multimodais grok oferecer usuários experiência antecipada xai proporcionando número limitado usuários estados unidos acesso protótipo grok programa acesso antecipado convida usuários experimentar grok fornecer feedback moldando capacidades antes lançamento amplo post grok llm xai apareceu primeiro ia expert academyferramentas aplicam inteligência artificial finalidade prática cada vez próximas usuário entende programação evento adobe max ocorreu mês passado exemplo adobe anunciou project res-up ferramenta upscaling vídeo deve breve fazer parte suíte programas empresa objetivo project res-up ferramenta fácil converter vídeos baixa alta resolução utiliza modelos estado arte baseados difusão demonstração evento cientista empresa submeteu recorte vídeo interface simples tipo arrastar enviar cerca segundos resultado disponível aumento resolução vezes demonstração ferramenta project res-up evento adobe max foco produto melhor qualidade vídeos antigos desfocados recortes zoom aceitando arquivos formato gif versões resolução maior ficam nítidas telas hd representam padrão mercado atual enquanto project res-up segue projeto várias ideias apresentadas eventos anteriores empresa vieram tornar soluções disponíveis usuário popularidade ferramentas baseadas inteligência artificial seguro prever caminho provável novidade post project res-up solução ia adobe aumentar resolução vídeos apareceu primeiro ia expert academybusca desenvolver máquinas inteligentes capazes raciocinar seres humanos objetivo duradouro área inteligência artificial estudo recente publicado nature traz perspectiva inovadora sugerir chave criar modelos ia flexíveis capacidade raciocínio humano pode forma modelos treinados vez simplesmente quantidade dados treinamento recebem composicionalidade capacidade combinar informações maneira criativa princípios fundamentais cognição humana permite exemplo criar receitas únicas partir ingredientes familiares forma genérica compreender frases nunca vimos antes entanto replicar capacidade ia sido desafio modelos avançados família gpt têm dificuldade alcançar verdadeira composicionalidade estudo publicado adota abordagem diferente vez criar novo modelo ia zero pesquisadores utilizaram modelo transformer padrão semelhante usados gpt treinamento prévio texto chave forma conduziram processo treinamento desenvolveram linguagem fictícia palavras significado “ dax ” “ lug ” “ kiki ” “ fep ” “ blicket ” relacionadas conjuntos pontos coloridos modelo ia treinado compreender regras dessa linguagem fictícia informações explícitas sobre associações palavras pontos coloridos modelo treinado dessa forma superou humanos testes compreensão dessa linguagem fictícia atingindo precisão melhor performance enquanto humanos alcançaram precisão avaliado mesma tarefa gpt-4 somente acertos descoberta desafia ideia predominante aumentar quantidade dados treinamento único caminho melhorar ia sugere protocolos treinamento específicos direcionados podem alternativa eficaz aprimorar capacidade raciocínio generalização modelos ia entanto importante reconhecer estudo possui limitações modelo treinado destacou tarefa específica ainda enfrenta desafios novas formas generalização atingiu nível inteligência artificial geral onde ia superaria habilidades humanas maioria tarefas pesquisa oferece visão empolgante futuro inteligência artificial destacando importância manter expectativas realistas relação capacidades atuais ia embora promissora ia ainda limites entender limitações fundamental medida continuamos explorar potencial post novo método treinamento ajuda inteligência artificial generalizar humanos apareceu primeiro ia expert academyprevisão séries temporais desempenha papel crucial várias aplicações mundo real vão desde previsão demanda análise propagação pandemias campo previsão séries temporais multivariadas testemunhou duas categorias principais modelos univariados multivariados modelos univariados focam captura tendências padrões sazonais séries temporais variável única enquanto modelos multivariados forma redes neurais estendem capacidades processar informações cruzadas variáveis diferentes fornecendo insights sobre interações variáveis comparações duas abordagens levantaram paradoxo intrigante modelos multivariados avançados frequentemente têm desempenho inferior modelos lineares univariados simples benchmarks previsão longo prazo levantando questões sobre importância informação cruzada previsão séries temporais resposta desafio equipe google ai introduziu solução batizada time-series mixer tsmixer tsmixer abordagem inovadora aproveita pontos fortes modelos lineares enquanto incorpora eficientemente informações cruzadas através transformer modificado resultando modelo rivaliza desempenho melhores modelos univariados benchmarks previsão longo prazo principais diferenças modelos lineares arquiteturas baseadas transformers forma capturam padrões temporais modelos lineares utilizam pesos fixos dependentes passo tempo enquanto transformers têm pesos dinâmicos dependentes dados processados meio mecanismos atenção tsmixer preenche lacuna combinando duas abordagens substituir camadas atenção transformer camadas lineares resultados empíricos prova habilidade tsmixer supera outros modelos multivariados equipara melhores modelos univariados avaliado relação conjuntos dados populares previsão longo prazo demonstra modelos multivariados bem projetados podem igualar desempenho homólogos univariados modelo destaca aplicações onde informação cruzada menos benéfica demonstrado sucesso diversos benchmarks previsão longo prazo entanto mostra força desafiado conjuntos dados complexos realistas benchmark m5 exige incorporação informações cruzadas recursos auxiliares compreensão interações intricadas variáveis unir pontos fortes modelos lineares adaptabilidade arquiteturas baseadas transformers tsmixer oferece novas possibilidades desenvolvimento modelos previsão séries temporais anúncio modelo acompanha artigo detalhes técnicos post tsmixer solução google une modelos lineares redes neurais previsões séries temporais apareceu primeiro ia expert academy'"
            ],
            "application/vnd.google.colaboratory.intrinsic+json": {
              "type": "string"
            }
          },
          "metadata": {},
          "execution_count": 83
        }
      ]
    },
    {
      "cell_type": "code",
      "source": [
        "# Importa a biblioteca para geração de núvem de palavras e a criação de gráficos\n",
        "from wordcloud import WordCloud\n",
        "import matplotlib.pyplot as plt"
      ],
      "metadata": {
        "id": "Hd4pNaE2ZwF8"
      },
      "execution_count": 84,
      "outputs": []
    },
    {
      "cell_type": "code",
      "metadata": {
        "colab": {
          "base_uri": "https://localhost:8080/",
          "height": 635
        },
        "id": "_Er7zxD6Li80",
        "outputId": "cd24b7cf-3631-4c08-f4de-6e5101da6cef"
      },
      "source": [
        "# Cria a imagem, desativa os eixos e cria núvem de palavras\n",
        "plt.figure(figsize=(20,20))\n",
        "plt.axis('off')\n",
        "plt.imshow(WordCloud().generate(conteudo_feed_formatado))"
      ],
      "execution_count": 89,
      "outputs": [
        {
          "output_type": "execute_result",
          "data": {
            "text/plain": [
              "<matplotlib.image.AxesImage at 0x7ee5b807fd30>"
            ]
          },
          "metadata": {},
          "execution_count": 89
        },
        {
          "output_type": "display_data",
          "data": {
            "text/plain": [
              "<Figure size 2000x2000 with 1 Axes>"
            ],
            "image/png": "[encoded data removed]"
          },
          "metadata": {}
        }
      ]
    },
    {
      "cell_type": "markdown",
      "metadata": {
        "id": "fNz6lX-fM-2S"
      },
      "source": [
        "## Extração de entidades nomeadas\n",
        "\n",
        "- Siglas: https://spacy.io/api/annotation#named-entities"
      ]
    },
    {
      "cell_type": "code",
      "metadata": {
        "id": "W9WgFCxpNb_j"
      },
      "source": [
        "# Biblioteca de formatação de texto\n",
        "import spacy\n",
        "from spacy import displacy"
      ],
      "execution_count": 101,
      "outputs": []
    },
    {
      "cell_type": "code",
      "metadata": {
        "id": "R21g7MJ7NiBo",
        "colab": {
          "base_uri": "https://localhost:8080/"
        },
        "outputId": "853a0c44-674a-495b-a78f-3dc31ce63028"
      },
      "source": [
        "# Carregando o pacote português\n",
        "!python -m spacy download pt_core_news_sm"
      ],
      "execution_count": 98,
      "outputs": [
        {
          "output_type": "stream",
          "name": "stdout",
          "text": [
            "2023-12-26 19:13:46.912766: E external/local_xla/xla/stream_executor/cuda/cuda_dnn.cc:9261] Unable to register cuDNN factory: Attempting to register factory for plugin cuDNN when one has already been registered\n",
            "2023-12-26 19:13:46.912853: E external/local_xla/xla/stream_executor/cuda/cuda_fft.cc:607] Unable to register cuFFT factory: Attempting to register factory for plugin cuFFT when one has already been registered\n",
            "2023-12-26 19:13:46.914699: E external/local_xla/xla/stream_executor/cuda/cuda_blas.cc:1515] Unable to register cuBLAS factory: Attempting to register factory for plugin cuBLAS when one has already been registered\n",
            "2023-12-26 19:13:48.338297: W tensorflow/compiler/tf2tensorrt/utils/py_utils.cc:38] TF-TRT Warning: Could not find TensorRT\n",
            "Collecting pt-core-news-sm==3.6.0\n",
            "  Downloading https://github.com/explosion/spacy-models/releases/download/pt_core_news_sm-3.6.0/pt_core_news_sm-3.6.0-py3-none-any.whl (13.0 MB)\n",
            "\u001b[2K     \u001b[90m━━━━━━━━━━━━━━━━━━━━━━━━━━━━━━━━━━━━━━━━\u001b[0m \u001b[32m13.0/13.0 MB\u001b[0m \u001b[31m24.7 MB/s\u001b[0m eta \u001b[36m0:00:00\u001b[0m\n",
            "\u001b[?25hRequirement already satisfied: spacy<3.7.0,>=3.6.0 in /usr/local/lib/python3.10/dist-packages (from pt-core-news-sm==3.6.0) (3.6.1)\n",
            "Requirement already satisfied: spacy-legacy<3.1.0,>=3.0.11 in /usr/local/lib/python3.10/dist-packages (from spacy<3.7.0,>=3.6.0->pt-core-news-sm==3.6.0) (3.0.12)\n",
            "Requirement already satisfied: spacy-loggers<2.0.0,>=1.0.0 in /usr/local/lib/python3.10/dist-packages (from spacy<3.7.0,>=3.6.0->pt-core-news-sm==3.6.0) (1.0.5)\n",
            "Requirement already satisfied: murmurhash<1.1.0,>=0.28.0 in /usr/local/lib/python3.10/dist-packages (from spacy<3.7.0,>=3.6.0->pt-core-news-sm==3.6.0) (1.0.10)\n",
            "Requirement already satisfied: cymem<2.1.0,>=2.0.2 in /usr/local/lib/python3.10/dist-packages (from spacy<3.7.0,>=3.6.0->pt-core-news-sm==3.6.0) (2.0.8)\n",
            "Requirement already satisfied: preshed<3.1.0,>=3.0.2 in /usr/local/lib/python3.10/dist-packages (from spacy<3.7.0,>=3.6.0->pt-core-news-sm==3.6.0) (3.0.9)\n",
            "Requirement already satisfied: thinc<8.2.0,>=8.1.8 in /usr/local/lib/python3.10/dist-packages (from spacy<3.7.0,>=3.6.0->pt-core-news-sm==3.6.0) (8.1.12)\n",
            "Requirement already satisfied: wasabi<1.2.0,>=0.9.1 in /usr/local/lib/python3.10/dist-packages (from spacy<3.7.0,>=3.6.0->pt-core-news-sm==3.6.0) (1.1.2)\n",
            "Requirement already satisfied: srsly<3.0.0,>=2.4.3 in /usr/local/lib/python3.10/dist-packages (from spacy<3.7.0,>=3.6.0->pt-core-news-sm==3.6.0) (2.4.8)\n",
            "Requirement already satisfied: catalogue<2.1.0,>=2.0.6 in /usr/local/lib/python3.10/dist-packages (from spacy<3.7.0,>=3.6.0->pt-core-news-sm==3.6.0) (2.0.10)\n",
            "Requirement already satisfied: typer<0.10.0,>=0.3.0 in /usr/local/lib/python3.10/dist-packages (from spacy<3.7.0,>=3.6.0->pt-core-news-sm==3.6.0) (0.9.0)\n",
            "Requirement already satisfied: pathy>=0.10.0 in /usr/local/lib/python3.10/dist-packages (from spacy<3.7.0,>=3.6.0->pt-core-news-sm==3.6.0) (0.10.3)\n",
            "Requirement already satisfied: smart-open<7.0.0,>=5.2.1 in /usr/local/lib/python3.10/dist-packages (from spacy<3.7.0,>=3.6.0->pt-core-news-sm==3.6.0) (6.4.0)\n",
            "Requirement already satisfied: tqdm<5.0.0,>=4.38.0 in /usr/local/lib/python3.10/dist-packages (from spacy<3.7.0,>=3.6.0->pt-core-news-sm==3.6.0) (4.66.1)\n",
            "Requirement already satisfied: numpy>=1.15.0 in /usr/local/lib/python3.10/dist-packages (from spacy<3.7.0,>=3.6.0->pt-core-news-sm==3.6.0) (1.23.5)\n",
            "Requirement already satisfied: requests<3.0.0,>=2.13.0 in /usr/local/lib/python3.10/dist-packages (from spacy<3.7.0,>=3.6.0->pt-core-news-sm==3.6.0) (2.31.0)\n",
            "Requirement already satisfied: pydantic!=1.8,!=1.8.1,<3.0.0,>=1.7.4 in /usr/local/lib/python3.10/dist-packages (from spacy<3.7.0,>=3.6.0->pt-core-news-sm==3.6.0) (1.10.13)\n",
            "Requirement already satisfied: jinja2 in /usr/local/lib/python3.10/dist-packages (from spacy<3.7.0,>=3.6.0->pt-core-news-sm==3.6.0) (3.1.2)\n",
            "Requirement already satisfied: setuptools in /usr/local/lib/python3.10/dist-packages (from spacy<3.7.0,>=3.6.0->pt-core-news-sm==3.6.0) (67.7.2)\n",
            "Requirement already satisfied: packaging>=20.0 in /usr/local/lib/python3.10/dist-packages (from spacy<3.7.0,>=3.6.0->pt-core-news-sm==3.6.0) (23.2)\n",
            "Requirement already satisfied: langcodes<4.0.0,>=3.2.0 in /usr/local/lib/python3.10/dist-packages (from spacy<3.7.0,>=3.6.0->pt-core-news-sm==3.6.0) (3.3.0)\n",
            "Requirement already satisfied: typing-extensions>=4.2.0 in /usr/local/lib/python3.10/dist-packages (from pydantic!=1.8,!=1.8.1,<3.0.0,>=1.7.4->spacy<3.7.0,>=3.6.0->pt-core-news-sm==3.6.0) (4.5.0)\n",
            "Requirement already satisfied: charset-normalizer<4,>=2 in /usr/local/lib/python3.10/dist-packages (from requests<3.0.0,>=2.13.0->spacy<3.7.0,>=3.6.0->pt-core-news-sm==3.6.0) (3.3.2)\n",
            "Requirement already satisfied: idna<4,>=2.5 in /usr/local/lib/python3.10/dist-packages (from requests<3.0.0,>=2.13.0->spacy<3.7.0,>=3.6.0->pt-core-news-sm==3.6.0) (3.6)\n",
            "Requirement already satisfied: urllib3<3,>=1.21.1 in /usr/local/lib/python3.10/dist-packages (from requests<3.0.0,>=2.13.0->spacy<3.7.0,>=3.6.0->pt-core-news-sm==3.6.0) (2.0.7)\n",
            "Requirement already satisfied: certifi>=2017.4.17 in /usr/local/lib/python3.10/dist-packages (from requests<3.0.0,>=2.13.0->spacy<3.7.0,>=3.6.0->pt-core-news-sm==3.6.0) (2023.11.17)\n",
            "Requirement already satisfied: blis<0.8.0,>=0.7.8 in /usr/local/lib/python3.10/dist-packages (from thinc<8.2.0,>=8.1.8->spacy<3.7.0,>=3.6.0->pt-core-news-sm==3.6.0) (0.7.11)\n",
            "Requirement already satisfied: confection<1.0.0,>=0.0.1 in /usr/local/lib/python3.10/dist-packages (from thinc<8.2.0,>=8.1.8->spacy<3.7.0,>=3.6.0->pt-core-news-sm==3.6.0) (0.1.4)\n",
            "Requirement already satisfied: click<9.0.0,>=7.1.1 in /usr/local/lib/python3.10/dist-packages (from typer<0.10.0,>=0.3.0->spacy<3.7.0,>=3.6.0->pt-core-news-sm==3.6.0) (8.1.7)\n",
            "Requirement already satisfied: MarkupSafe>=2.0 in /usr/local/lib/python3.10/dist-packages (from jinja2->spacy<3.7.0,>=3.6.0->pt-core-news-sm==3.6.0) (2.1.3)\n",
            "\u001b[38;5;2m✔ Download and installation successful\u001b[0m\n",
            "You can now load the package via spacy.load('pt_core_news_sm')\n"
          ]
        }
      ]
    },
    {
      "cell_type": "code",
      "metadata": {
        "colab": {
          "base_uri": "https://localhost:8080/"
        },
        "id": "Lu74Og7RNq-P",
        "outputId": "788fe0d3-1a17-496f-d4fb-252e22560751"
      },
      "source": [
        "# Cria o objeto da classe em português\n",
        "pln = spacy.load('pt_core_news_sm')\n",
        "pln"
      ],
      "execution_count": 99,
      "outputs": [
        {
          "output_type": "execute_result",
          "data": {
            "text/plain": [
              "<spacy.lang.pt.Portuguese at 0x7ee4ca91f010>"
            ]
          },
          "metadata": {},
          "execution_count": 99
        }
      ]
    },
    {
      "cell_type": "code",
      "metadata": {
        "id": "LMgz0GS9NxFK"
      },
      "source": [
        "# Salva o documento passando pelo processamento de lingagem natural\n",
        "documento = pln(conteudo_feed_formatado)"
      ],
      "execution_count": 100,
      "outputs": []
    },
    {
      "cell_type": "code",
      "metadata": {
        "colab": {
          "base_uri": "https://localhost:8080/",
          "height": 1000
        },
        "id": "4kKrdZC7N5S6",
        "outputId": "3903ad00-f6d5-4acb-d627-a14a121ebf18"
      },
      "source": [
        "# Renderizar o texto no objeto documento, com estilo estidade e indicando que está sendo usado o Jupyter notebooks\n",
        "displacy.render(documento, style = 'ent', jupyter = True)"
      ],
      "execution_count": 102,
      "outputs": [
        {
          "output_type": "display_data",
          "data": {
            "text/plain": [
              "<IPython.core.display.HTML object>"
            ],
            "text/html": [
              "<span class=\"tex2jax_ignore\"><div class=\"entities\" style=\"line-height: 2.5; direction: ltr\">dinâmico cruzamento inteligência artificial neurociência áreas fascinantes desafiadoras corresponde geração informação estruturada partir atividade cerebral estudo publicado pesquisadores associados universidade \n",
              "<mark class=\"entity\" style=\"background: #ff9561; padding: 0.45em 0.6em; margin: 0 0.25em; line-height: 1; border-radius: 0.35em;\">\n",
              "    osaka japão\n",
              "    <span style=\"font-size: 0.8em; font-weight: bold; line-height: 1; border-radius: 0.35em; vertical-align: middle; margin-left: 0.5rem\">LOC</span>\n",
              "</mark>\n",
              " apresenta resultados inéditos reconstrução imagens mentais vistas imaginadas representações visuais literalmente traduzindo pensamentos estudo utiliza decodificação neural técnica traduz atividade cerebral medida ressonância magnética funcional fmri representações visuais estudos anteriores reconstruíram sucesso domínios específicos rostos humanos letras escritas mão imagens binárias diferencia estudo incorporação redes neurais profundas dnns modelos generativos alcançando reconstrução imagem natural maior fidelidade enfrentar desafio externalizar imaginação mental pesquisadores ampliaram método anterior cenário estimação bayesiana contrário métodos tradicionais dependem fortemente informações visuais baixo nível abordagem bayesiana permite incorporação conhecimentos prévios sofisticados estudos recentes visão computacional algoritmo dinâmica estocástica langevin sgld introduzido amostragem distribuição posterior superando limitações estimação bayesiana tradicional decodificação neural outra inovação chave envolve integração informações semânticas usando modelo pré-treinamento contrastivo linguagem-imagem clip traduzir sinais cerebrais características semânticas fornecidas clip estudo aprimora processo reconstrução imagem assistência semântica compensa falta informações visuais baixo nível contribuindo reconstrução bem-sucedida imagens vistas imaginadas pesquisadores aplicaram abordagem reconstruir imagens vistas imaginadas demonstrando resultados superiores comparação métodos anteriores acurácia respectivamente contra reportados outros estudos método proposto superou termos qualidade visual precisão identificação pontuações inception disso framework mostrou notável capacidade generalização reconstruir sucesso formas artificiais alguns exemplos apresentados artigo implicações deste estudo estendem campo decodificação neural framework apresentado aqui abre caminhos interfaces cérebro-máquina onde pensamentos espontâneos podem decodificados reconstruídos disso evidente possibilidade devolver pessoas incapacitadas habilidade comunicar apenas pensamento conclusão integração estimação bayesiana assistência semântica algoritmos inovadores aprendizado máquina impulsionou campo decodificação neural novos patamares estudo marca marco significativo visualização imagens subjetivas mente humana mostrando potencial entender processos cognitivos complexos aplicações práticas interfaces cérebro-máquina post novo método apresenta resultados inéditos reconstrução imagens mentais partir atividade cerebral apareceu primeiro ia expert academysemana agitada mundo grandes modelos linguagem meses antecipação google lança modelo avançado \n",
              "<mark class=\"entity\" style=\"background: #ddd; padding: 0.45em 0.6em; margin: 0 0.25em; line-height: 1; border-radius: 0.35em;\">\n",
              "    batizado gemini\n",
              "    <span style=\"font-size: 0.8em; font-weight: bold; line-height: 1; border-radius: 0.35em; vertical-align: middle; margin-left: 0.5rem\">MISC</span>\n",
              "</mark>\n",
              " modelo representa principal novidade priorização multimodalidade permitindo navegue interaja diversos formatos dados incluindo texto imagens áudio vídeo código acordo empresa versatilidade inerente concede gemini poder significativo abre portas avanços potencialmente inovadores vários setores release comunidade google enfatiza aspectos notáveis gemini reside capacidade gerar conteúdo criativo poemas roteiros demonstravelmente rivalizam obras produzidas humanos feito transcende mera imitação mostrando capacidade gemini captar nuances linguagem expressão artística disso capacidades multilíngues superam demonstravelmente tecnologias tradução existentes oferecendo compreensão precisa matizada contextos culturais pavimentando caminho comunicação colaboração global potencialmente perfeita vários \n",
              "<mark class=\"entity\" style=\"background: #ddd; padding: 0.45em 0.6em; margin: 0 0.25em; line-height: 1; border-radius: 0.35em;\">\n",
              "    benchmarks gemini\n",
              "    <span style=\"font-size: 0.8em; font-weight: bold; line-height: 1; border-radius: 0.35em; vertical-align: middle; margin-left: 0.5rem\">MISC</span>\n",
              "</mark>\n",
              " obteve resultados impressionantes superando desempenho modelos existentes empresas líderes ia openai inflection anthropic meta xai notavelmente versão \n",
              "<mark class=\"entity\" style=\"background: #ddd; padding: 0.45em 0.6em; margin: 0 0.25em; line-height: 1; border-radius: 0.35em;\">\n",
              "    “ gemini\n",
              "    <span style=\"font-size: 0.8em; font-weight: bold; line-height: 1; border-radius: 0.35em; vertical-align: middle; margin-left: 0.5rem\">MISC</span>\n",
              "</mark>\n",
              " ultra ” supera concorrentes benchmarks acadêmicos amplamente usados ​​em pesquisas grandes modelos linguagem disso atinge pontuação 90,0 benchmark massive multitask language understanding mmlu superando desempenho especialistas humanos comparações sugerem gemini representa salto significativo campo ia potencial remodelar paisagem várias indústrias aplicações domínio \n",
              "<mark class=\"entity\" style=\"background: #ddd; padding: 0.45em 0.6em; margin: 0 0.25em; line-height: 1; border-radius: 0.35em;\">\n",
              "    linguagem gemini\n",
              "    <span style=\"font-size: 0.8em; font-weight: bold; line-height: 1; border-radius: 0.35em; vertical-align: middle; margin-left: 0.5rem\">MISC</span>\n",
              "</mark>\n",
              " demonstra proeza processamento interpretação dados sensoriais tornando-o desenvolvimento potencialmente revolucionário áreas saúde educação empresa convida imaginar futuro onde diagnósticos médicos entregues maior velocidade precisão graças capacidade gemini analisar grandes quantidades dados médicos identificar anomalias sutis mesma forma experiências aprendizado personalizadas adaptadas necessidades estilos aprendizagem individuais alunos podem tornar realidade meio instrução interativa baseada ia guiada insights gemini entanto impacto potencial gemini estende aplicações específicas chegada significa mudança fundamental relação humana tecnologia borrando linhas inteligência humana artificial medida aproximamos dessa nova fronteira garantir desenvolvimento responsável ia crucial google reconhece necessidade priorizando acessibilidade meio google ai studio gratuito defendendo princípios éticos justiça transparência responsabilização versão \n",
              "<mark class=\"entity\" style=\"background: #ddd; padding: 0.45em 0.6em; margin: 0 0.25em; line-height: 1; border-radius: 0.35em;\">\n",
              "    pro gemini\n",
              "    <span style=\"font-size: 0.8em; font-weight: bold; line-height: 1; border-radius: 0.35em; vertical-align: middle; margin-left: 0.5rem\">MISC</span>\n",
              "</mark>\n",
              " disponível uso através interface bard enquanto somente inglês empresa promete breve disponibilizar novas línguas assim versão ultra post google apresenta gemini novo grande modelo linguagem apareceu primeiro ia expert academystartup praticamente desconhecida semana passada pika labs surpreendeu comunidade lançamento último dia pika 1.0 ferramenta revolucionária criação edição vídeos meio inteligência artificial após intensos testes realizados longo ano plataforma atinge primeira geração prometendo transformar frases simples usuários clipes editados animações alta qualidade empresa apresenta grande diferencial pika 1.0 sendo notável fidelidade produções solicitações usuários utilizando novo modelo linguagem ferramenta capaz gerar desde pequenos clipes vídeos extensos oferecendo gama estilos animação desde abordagens cinemáticas realistas incluindo estilos tradicionais \n",
              "<mark class=\"entity\" style=\"background: #ff9561; padding: 0.45em 0.6em; margin: 0 0.25em; line-height: 1; border-radius: 0.35em;\">\n",
              "    la disney pixar gama\n",
              "    <span style=\"font-size: 0.8em; font-weight: bold; line-height: 1; border-radius: 0.35em; vertical-align: middle; margin-left: 0.5rem\">LOC</span>\n",
              "</mark>\n",
              " extensa edições guiadas prompt publicação abaixo mostra possibilidades empresa promete introducing pika 1.0 the idea-to-video platform that brings your creativity to life.create and edit your videos \n",
              "<mark class=\"entity\" style=\"background: #ddd; padding: 0.45em 0.6em; margin: 0 0.25em; line-height: 1; border-radius: 0.35em;\">\n",
              "    with ai.rolling out to new users on web and\n",
              "    <span style=\"font-size: 0.8em; font-weight: bold; line-height: 1; border-radius: 0.35em; vertical-align: middle; margin-left: 0.5rem\">MISC</span>\n",
              "</mark>\n",
              " discord starting today sign up at https //t.co/jhrrinsiwx pic.twitter.com/rve3i2fzmk— pika pika_labs november nesta primeira iteração pika 1.0 promete acessível usuário comum meio interface web intuitiva simples disso incorporadas opções técnicas permitem adaptação vídeos diferentes formatos plataformas dispositivos proporcionando flexibilidade excepcional criadores investimento significativo liderado lightspeed venture partners destaca confiança pika labs missão compartilhada democratizar tecnologia empresa venture capital elogiou parceria expressando total apoio visão pika labs fornecendo bases crescimento futuro lançamento acontece momento estratégico coincidindo apresentação recente stable video diffusion stability motor ia atualmente disponível exclusivamente pesquisadores inteligência artificial cria clipes curtos partir prompts usuário imagens estáticas pika 1.0 primeiro software deste tipo disponível qualquer pessoa interessada capacidade transformar frases animações alta qualidade aliada flexibilidade otimização excepcionais posiciona plataforma força motriz revolução criativa parceria estratégica lightspeed venture partners reforça ainda promessa inovação contínua deixando todos ansiosos testemunhar ferramenta transformadora moldará futuro produção vídeos ia post pika 1.0 modelo generativo criação edição vídeos apareceu primeiro ia expert academyneste artigo explico implementei integração chatgpt possibilitando exploração colaborativa repositório código construção sistemas — recursos vamos usar dentre recursos oferecidos openai escolhi api completions clareza detalhamento achei documentação api clara bem detalhada exemplos funcionais utilização api proporciona maior flexibilidade comparação interface web padrão chatgpt tecnologia desenvolver gptcoder utilizarei java devido familiaridade linguagem projeto tipo java padrão desktop ide escolhida eclipse — solução pretendida abaixo passos pensados primeira versão solução tendo foco desenvolvedor chatgpt ajudante missão programação \n",
              "<mark class=\"entity\" style=\"background: #ddd; padding: 0.45em 0.6em; margin: 0 0.25em; line-height: 1; border-radius: 0.35em;\">\n",
              "    figura1\n",
              "    <span style=\"font-size: 0.8em; font-weight: bold; line-height: 1; border-radius: 0.35em; vertical-align: middle; margin-left: 0.5rem\">MISC</span>\n",
              "</mark>\n",
              " representa processo solução desenvolvedor define necessidade nesse momento desenvolvedor vai informar deseja fazer problema deseja solucionar focados programação cenário esperado criar classe resolva determinado problema preparar contexto aqui necessário buscar informações necessárias chat gpt situar chamado antes pedir precisamos dar máximo dados ajudem entender mundo onde problema inserido sessão detalharemos tema preparar prompt usemos linguagem natural preciso delimitar bem fronteitas desejamos pedir bom prompt possui texto deixe dúvidas interpretação quanto desejamos sessão detalharemos tema solicitar solução aqui vamos enviar todos dados api chatgpt aguardar processamento resposta efetivamente pedindo solução problema mãos processar solicitação nesse momento ocorre análise todos dados enviamos criação resposta processar resposta necessário receber dados resposta extrair exatamente desejamos salvar dados vamos persistir arquivo resposta recebemos caso desejamos dados código funcional resolva problema código salvo formato classe avaliar solução código persistido disponível executado desenvolvedor vai avaliar código solucionando problema pode pedir correções nova requisição caso necessário figura — solução proposta — contexto explique primeiro antes pedir podemos pensar contexto conjunto informações chatgpt precisa conhecer entender melhor pedidos assim prover melhores respostas objetivo gerar código vezes gpt precisa ter acesso outros códigos existam sistema vai trabalhar nesse caso vamos criar recurso pode ler vários arquivos vez deixá-los prontos envio próxima requisição classe readdatafromfile métodos ler vários arquivos código transformar string pode adicionada requisição assim passarmos caminhos vários arquivos repositório código gptcoder capaz ler dados desses arquivos abaixo figura ilustra classe readdatafromfile figura — ilustração classe readdatafromfile.java 3.1 — limites importante lembrar existe limite dados gerar contexto vai depender modelo chatgpt sendo usado modelo melhor performou modelo \n",
              "<mark class=\"entity\" style=\"background: #ddd; padding: 0.45em 0.6em; margin: 0 0.25em; line-height: 1; border-radius: 0.35em;\">\n",
              "    gpt-3.\n",
              "    <span style=\"font-size: 0.8em; font-weight: bold; line-height: 1; border-radius: 0.35em; vertical-align: middle; margin-left: 0.5rem\">MISC</span>\n",
              "</mark>\n",
              "5-turbo-16k modelo respondeu maior velocidade gpt4 demais gpt3 possui janela contexto 16k tokens aproximadamente palavras — prompt pedir maneira correta chatgpt entende linguagem natural significa precisamos falar usando linguagens programação php java basta falar falaria-mos outro humano capaz entender entanto usando linguagem natural pudermos estruturar melhor diálogo maior chance conseguir respostas precisas outro ponto importante chatgpt consegue interpretar código produzir código então podemos pedir envie resposta formato código determinada linguagem programação caso deste post focando \n",
              "<mark class=\"entity\" style=\"background: #ddd; padding: 0.45em 0.6em; margin: 0 0.25em; line-height: 1; border-radius: 0.35em;\">\n",
              "    java\n",
              "    <span style=\"font-size: 0.8em; font-weight: bold; line-height: 1; border-radius: 0.35em; vertical-align: middle; margin-left: 0.5rem\">MISC</span>\n",
              "</mark>\n",
              " abaixo levado conta estruturar padrão prompt funciona solução 4.1 — estrutura prompt usado comportamento esperado papel — gpt precisa raciocinar deve imitar exemplo gerador código java php etc base dados contexto — exemplo classes java existentes projeto relativas problema faça ação desejada — gere classe resolva determinado problema melhore classe x adicionando metodo faz deteminada ação dados adicionais formato entrada formato saída — adicione marcadores ajudem chatgpt identificar queremos passar hora pedir desejamos receber resposta criei marcadores inicio fim contexto solicitação inicio fim código resposta inicio fim observação resposta formato funcionou bem evitou principalmente mistura dados respostas maior facilidade extração dados interesse figura mostra marcadores usados figura — marcadores prompt 4.1.1 — exemplo prompt usado solicitação comporte-se api geradora código \n",
              "<mark class=\"entity\" style=\"background: #ddd; padding: 0.45em 0.6em; margin: 0 0.25em; line-height: 1; border-radius: 0.35em;\">\n",
              "    java crie classe java\n",
              "    <span style=\"font-size: 0.8em; font-weight: bold; line-height: 1; border-radius: 0.35em; vertical-align: middle; margin-left: 0.5rem\">MISC</span>\n",
              "</mark>\n",
              " resolverá problema seguir baseado codigo informado nada ainda crie classe pessoa nome idade cpf rg endereco contato resposta esperada responda seguinte formato texto delimitado marcadores seguir ==response-obs-inicio== obsevacoes orientacoes sobre codigo ==response-obs-fim== ==response-javacode-inicio== deve conter somente codigo ==response-javacode-fim== 4.1.2 — exemplo resposta recebida “ id ” “ meu_id_api_chat_gpt ” “ object ” “ chat.completion ” \n",
              "<mark class=\"entity\" style=\"background: #ddd; padding: 0.45em 0.6em; margin: 0 0.25em; line-height: 1; border-radius: 0.35em;\">\n",
              "    “ created\n",
              "    <span style=\"font-size: 0.8em; font-weight: bold; line-height: 1; border-radius: 0.35em; vertical-align: middle; margin-left: 0.5rem\">MISC</span>\n",
              "</mark>\n",
              " ” :1699113491 “ model ” “ \n",
              "<mark class=\"entity\" style=\"background: #ddd; padding: 0.45em 0.6em; margin: 0 0.25em; line-height: 1; border-radius: 0.35em;\">\n",
              "    gpt-3.\n",
              "    <span style=\"font-size: 0.8em; font-weight: bold; line-height: 1; border-radius: 0.35em; vertical-align: middle; margin-left: 0.5rem\">MISC</span>\n",
              "</mark>\n",
              "5-turbo-0613 ” “ choices ” “ \n",
              "<mark class=\"entity\" style=\"background: #ddd; padding: 0.45em 0.6em; margin: 0 0.25em; line-height: 1; border-radius: 0.35em;\">\n",
              "    index\n",
              "    <span style=\"font-size: 0.8em; font-weight: bold; line-height: 1; border-radius: 0.35em; vertical-align: middle; margin-left: 0.5rem\">MISC</span>\n",
              "</mark>\n",
              " ” “ message ” “ role ” “ assistant ” “ content ” “ ==response-obs-inicio==\\na classe pessoa deve ter seguintes atributos nome string idade int cpf string rg string endereco string contato string .\\n==response-obs-fim==\\n==response-javacode-inicio==\\n “ java\\npublic class pessoa \\n private string nome \\n private int idade \\n private string cpf \\n private string rg \\n private string endereco \\n private string contato \\n\\n // construtor classe pessoa\\n public pessoa string nome int idade string cpf string rg string endereco string contato \\n this.nome nome \\n this.idade idade \\n this.cpf cpf \\n this.rg rg \\n this.endereco endereco \\n this.contato contato \\n \\n\\n // getters setters atributos classe pessoa\\n public string getnome \\n return nome \\n \n",
              "<mark class=\"entity\" style=\"background: #ff9561; padding: 0.45em 0.6em; margin: 0 0.25em; line-height: 1; border-radius: 0.35em;\">\n",
              "    \\n\\n\n",
              "    <span style=\"font-size: 0.8em; font-weight: bold; line-height: 1; border-radius: 0.35em; vertical-align: middle; margin-left: 0.5rem\">LOC</span>\n",
              "</mark>\n",
              " public void setnome string nome \\n this.nome nome \\n \n",
              "<mark class=\"entity\" style=\"background: #ff9561; padding: 0.45em 0.6em; margin: 0 0.25em; line-height: 1; border-radius: 0.35em;\">\n",
              "    \\n\\n\n",
              "    <span style=\"font-size: 0.8em; font-weight: bold; line-height: 1; border-radius: 0.35em; vertical-align: middle; margin-left: 0.5rem\">LOC</span>\n",
              "</mark>\n",
              " public int getidade \\n \n",
              "<mark class=\"entity\" style=\"background: #ddd; padding: 0.45em 0.6em; margin: 0 0.25em; line-height: 1; border-radius: 0.35em;\">\n",
              "    return idade\n",
              "    <span style=\"font-size: 0.8em; font-weight: bold; line-height: 1; border-radius: 0.35em; vertical-align: middle; margin-left: 0.5rem\">PER</span>\n",
              "</mark>\n",
              " \\n \\n\\n public void setidade int idade \\n this.idade idade \\n \\n\\n public string getcpf \\n \n",
              "<mark class=\"entity\" style=\"background: #ddd; padding: 0.45em 0.6em; margin: 0 0.25em; line-height: 1; border-radius: 0.35em;\">\n",
              "    return\n",
              "    <span style=\"font-size: 0.8em; font-weight: bold; line-height: 1; border-radius: 0.35em; vertical-align: middle; margin-left: 0.5rem\">MISC</span>\n",
              "</mark>\n",
              " cpf \\n \\n\\n public void setcpf string cpf \\n this.cpf cpf \\n \\n\\n public string getrg \\n \n",
              "<mark class=\"entity\" style=\"background: #ddd; padding: 0.45em 0.6em; margin: 0 0.25em; line-height: 1; border-radius: 0.35em;\">\n",
              "    return rg\n",
              "    <span style=\"font-size: 0.8em; font-weight: bold; line-height: 1; border-radius: 0.35em; vertical-align: middle; margin-left: 0.5rem\">PER</span>\n",
              "</mark>\n",
              " \\n \n",
              "<mark class=\"entity\" style=\"background: #ff9561; padding: 0.45em 0.6em; margin: 0 0.25em; line-height: 1; border-radius: 0.35em;\">\n",
              "    \\n\\n\n",
              "    <span style=\"font-size: 0.8em; font-weight: bold; line-height: 1; border-radius: 0.35em; vertical-align: middle; margin-left: 0.5rem\">LOC</span>\n",
              "</mark>\n",
              " public void setrg string rg \\n this.rg rg \\n \n",
              "<mark class=\"entity\" style=\"background: #ff9561; padding: 0.45em 0.6em; margin: 0 0.25em; line-height: 1; border-radius: 0.35em;\">\n",
              "    \\n\\n\n",
              "    <span style=\"font-size: 0.8em; font-weight: bold; line-height: 1; border-radius: 0.35em; vertical-align: middle; margin-left: 0.5rem\">LOC</span>\n",
              "</mark>\n",
              " public string getendereco \\n \n",
              "<mark class=\"entity\" style=\"background: #ddd; padding: 0.45em 0.6em; margin: 0 0.25em; line-height: 1; border-radius: 0.35em;\">\n",
              "    return endereco\n",
              "    <span style=\"font-size: 0.8em; font-weight: bold; line-height: 1; border-radius: 0.35em; vertical-align: middle; margin-left: 0.5rem\">PER</span>\n",
              "</mark>\n",
              " \\n \\n\\n public void setendereco string endereco \\n this.endereco endereco \\n \\n\\n public string getcontato \\n \n",
              "<mark class=\"entity\" style=\"background: #ddd; padding: 0.45em 0.6em; margin: 0 0.25em; line-height: 1; border-radius: 0.35em;\">\n",
              "    return contato\n",
              "    <span style=\"font-size: 0.8em; font-weight: bold; line-height: 1; border-radius: 0.35em; vertical-align: middle; margin-left: 0.5rem\">PER</span>\n",
              "</mark>\n",
              " \\n \\n\\n public void setcontato string contato \\n this.contato contato \\n \\n \\n “ \n",
              "<mark class=\"entity\" style=\"background: #ddd; padding: 0.45em 0.6em; margin: 0 0.25em; line-height: 1; border-radius: 0.35em;\">\n",
              "    \\n==\n",
              "    <span style=\"font-size: 0.8em; font-weight: bold; line-height: 1; border-radius: 0.35em; vertical-align: middle; margin-left: 0.5rem\">MISC</span>\n",
              "</mark>\n",
              "response-javacode-fim== ” “ finish_reason ” “ stop ” “ usage ” “ prompt_tokens ” “ completion_tokens ” “ total_tokens ” — código nessa sessão focarei aspectos principais código 5.1 — conexão api classe apicaller faz requisição \n",
              "<mark class=\"entity\" style=\"background: #ddd; padding: 0.45em 0.6em; margin: 0 0.25em; line-height: 1; border-radius: 0.35em;\">\n",
              "    http\n",
              "    <span style=\"font-size: 0.8em; font-weight: bold; line-height: 1; border-radius: 0.35em; vertical-align: middle; margin-left: 0.5rem\">MISC</span>\n",
              "</mark>\n",
              " padrão acordo documentação openai transforma dados devolvidos api string texto dados entrada prompt si representados variável jsonsend passada parâmetro método callgpt figura 4- código faz chamada api chatgpt 5.2 — classe prompt representa prompt si nesse momento estrutura prompt partes principais system-content user-content primeira instrução inicial configuração chatgpt tendo foco definir comportamento esperado segunda foco passar usuário deseja feito contexto chatgpt determinada parte processo vamos configurar partes acordo definido figura 6. figura código classe prompt integra podemos ver ainda dado sendo preparado \n",
              "<mark class=\"entity\" style=\"background: #ddd; padding: 0.45em 0.6em; margin: 0 0.25em; line-height: 1; border-radius: 0.35em;\">\n",
              "    json\n",
              "    <span style=\"font-size: 0.8em; font-weight: bold; line-height: 1; border-radius: 0.35em; vertical-align: middle; margin-left: 0.5rem\">PER</span>\n",
              "</mark>\n",
              " — propriedade model onde definimos modelo chatgpt vamos usar — parâmetro temperatura define quão criativo queremos modelo hora gerar resposta queremos código precisa gere código sempre formas diferentes pode gerar código desde resolva problema assim temperatura zero — atributo messages onde vamos colocar dados solicitação figura — código classe prompt figura — partes prompt intruções tipo system tipo user 5.3 — algumas camadas abstração chegamos processo colaboração simples projeto onde desenvolvedor pede ação vez recebe resposta vez método codingwithdeveloper possível passar parâmetros lista arquivos repositório texto desejamos fazer doesinstruction — parte falta prompt onde salvar dados após receber resposta wheredoespath — classe java onde vou salvar código processo descrito abaixo ilustrado figura 5.3.1 — processo leitura todos arquivos vão servir gerar contexto variável codecontext formatação javaprompt prompt especifico gerar código \n",
              "<mark class=\"entity\" style=\"background: #ddd; padding: 0.45em 0.6em; margin: 0 0.25em; line-height: 1; border-radius: 0.35em;\">\n",
              "    java acordo\n",
              "    <span style=\"font-size: 0.8em; font-weight: bold; line-height: 1; border-radius: 0.35em; vertical-align: middle; margin-left: 0.5rem\">MISC</span>\n",
              "</mark>\n",
              " item 5.2 chamada api chatgpt coletamos resposta extraímos dado interessa salvar salvamento dados interesse classe \n",
              "<mark class=\"entity\" style=\"background: #ddd; padding: 0.45em 0.6em; margin: 0 0.25em; line-height: 1; border-radius: 0.35em;\">\n",
              "    java\n",
              "    <span style=\"font-size: 0.8em; font-weight: bold; line-height: 1; border-radius: 0.35em; vertical-align: middle; margin-left: 0.5rem\">MISC</span>\n",
              "</mark>\n",
              " usando \n",
              "<mark class=\"entity\" style=\"background: #ddd; padding: 0.45em 0.6em; margin: 0 0.25em; line-height: 1; border-radius: 0.35em;\">\n",
              "    savegptresponsefile caminho\n",
              "    <span style=\"font-size: 0.8em; font-weight: bold; line-height: 1; border-radius: 0.35em; vertical-align: middle; margin-left: 0.5rem\">MISC</span>\n",
              "</mark>\n",
              " onde código deve salvo precisa informado caso definimos pasta acrescentamos nome classe gerar caminho completo arquivo destino fim salvamento todos dados requisição resposta histórico figura — executando unico prompt vez processo colaboração gtp desenvovedor 5.4 — processo possível desenvolvedor passar instrucões criar classes resolvam problemas analisar classes melhora-las abaixo veremos alguns exemplos prompts usados pra projeto piloto 5.4.1 — classe prompt executor path repositório código variável sourcepath objeto promptexecutor chama método codingwithdeveloper passando apenas arquivo “ crud/pessoarequisicao.java ” pedindo fazer melhorias nesse arquivo melhoria acrescentar javadoc base código atual classe resultado mesma classe java documentação acrescida padrão javadoc parte classe documentada ilustrada figura 9. figura — classe promptexecutor chamando prompt melhoria código figura — trecho javadoc gerado classe pessoarequisicao 5.4.2 — aqui vários prompts pedindo executar criação várias classes onde definimos atributos objetivos classes definimos onde dados salvos definimos pacote onde classes criadas fonte contexto nessa sequencia execução prompts novas classes geradas servem contexto próxima requisição possibilitando criação lote conjunto classes sistema figura vemos classe pessoadao criada informações contexto classes pessoa contato endereço ja criadas anteriormente contexto pessoarequisição todas classes anteriores inclusive pessoadao possível pois sempre enviando todas classes criadas antes chatgpt manter-se contextualizado figura — exemplo prompts executados lote — conclusão possível criar integração chatgpt usando api ler dados repositório código ajudar contextualização geração novos códigos entendemos pouco sobre contexto sobre importância gerar bons prompts potencial chatgpt parceiro desenvolvimento software dia dia desenvolvedor sistemas sistema desenvolvido pode usado criar sistemas outras linguagens programação outros tipos conteúdo textual apenas fazendo extensões classe define prompts pontos melhoria destaco necessidade nível abstração permita desenvolvedor definir regras negócio alto nível receber regra implementada camadas abstração corretamente escritas referências apiintegrate \n",
              "<mark class=\"entity\" style=\"background: #ddd; padding: 0.45em 0.6em; margin: 0 0.25em; line-height: 1; border-radius: 0.35em;\">\n",
              "    openai models\n",
              "    <span style=\"font-size: 0.8em; font-weight: bold; line-height: 1; border-radius: 0.35em; vertical-align: middle; margin-left: 0.5rem\">PER</span>\n",
              "</mark>\n",
              " into your application or business https //openai.com\n",
              "<mark class=\"entity\" style=\"background: #ddd; padding: 0.45em 0.6em; margin: 0 0.25em; line-height: 1; border-radius: 0.35em;\">\n",
              "    /pricing https //platform.openai.com\n",
              "    <span style=\"font-size: 0.8em; font-weight: bold; line-height: 1; border-radius: 0.35em; vertical-align: middle; margin-left: 0.5rem\">PER</span>\n",
              "</mark>\n",
              "/docs/\n",
              "<mark class=\"entity\" style=\"background: #ddd; padding: 0.45em 0.6em; margin: 0 0.25em; line-height: 1; border-radius: 0.35em;\">\n",
              "    guides\n",
              "    <span style=\"font-size: 0.8em; font-weight: bold; line-height: 1; border-radius: 0.35em; vertical-align: middle; margin-left: 0.5rem\">PER</span>\n",
              "</mark>\n",
              "/prompt-engineering post desenvolvimento software colaborativo integrei chatgpt projeto apareceu primeiro ia expert academyrevolução inteligência artificial pavimentando caminho nova detecção câncer mama estágio inicial estudo publicado mês revista nature medicine mostra ia pode identificar casos câncer mama métodos tradicionais estima-se cânceres escapem detecção exames triagem convencionais assistência ia pesquisa conduzida \n",
              "<mark class=\"entity\" style=\"background: #ff9561; padding: 0.45em 0.6em; margin: 0 0.25em; line-height: 1; border-radius: 0.35em;\">\n",
              "    hungria\n",
              "    <span style=\"font-size: 0.8em; font-weight: bold; line-height: 1; border-radius: 0.35em; vertical-align: middle; margin-left: 0.5rem\">LOC</span>\n",
              "</mark>\n",
              " utilizou ferramenta ia chamada mia desenvolvida empresa britânica \n",
              "<mark class=\"entity\" style=\"background: #ddd; padding: 0.45em 0.6em; margin: 0 0.25em; line-height: 1; border-radius: 0.35em;\">\n",
              "    kheiron\n",
              "    <span style=\"font-size: 0.8em; font-weight: bold; line-height: 1; border-radius: 0.35em; vertical-align: middle; margin-left: 0.5rem\">PER</span>\n",
              "</mark>\n",
              " medical technologies analisar dados mil mulheres submetidas exames triagem resultados revelaram melhorias taxa detecção câncer três versões distintas estudo comparação leitura padrão feita menos dois radiologistas maioria novas descobertas cânceres invasivos potencial espalhar organismo hungria estudos recentes suécia corroboram descobertas indicando análise mamografias aprimorada ia atinge taxas detecção semelhantes leituras humanas padrão avanços tecnológicos apenas melhoram precisão oferecem perspectiva acelerar significativamente processo análise diante desses resultados presidente conselho radiologistas \n",
              "<mark class=\"entity\" style=\"background: #ff9561; padding: 0.45em 0.6em; margin: 0 0.25em; line-height: 1; border-radius: 0.35em;\">\n",
              "    reino unido\n",
              "    <span style=\"font-size: 0.8em; font-weight: bold; line-height: 1; border-radius: 0.35em; vertical-align: middle; margin-left: 0.5rem\">LOC</span>\n",
              "</mark>\n",
              " destaca potencial colaborativo ia radiologistas prevendo futuro onde ambos trabalham conjunto aprimorar tomada decisões clínicas alinhado visão coautores estudo enfatiza ia “ rede segurança eficaz ” capaz identificar sinais sutis poderiam passar despercebidos radiologistas humanos impacto precisão velocidade ia promete eficiência mia \n",
              "<mark class=\"entity\" style=\"background: #ddd; padding: 0.45em 0.6em; margin: 0 0.25em; line-height: 1; border-radius: 0.35em;\">\n",
              "    kheiron\n",
              "    <span style=\"font-size: 0.8em; font-weight: bold; line-height: 1; border-radius: 0.35em; vertical-align: middle; margin-left: 0.5rem\">PER</span>\n",
              "</mark>\n",
              " podendo economizar tempo gasto leitura exames câncer mama conforme destacado pesquisadores resultados encorajadores hungria sucesso implementação mia hospitais \n",
              "<mark class=\"entity\" style=\"background: #ff9561; padding: 0.45em 0.6em; margin: 0 0.25em; line-height: 1; border-radius: 0.35em;\">\n",
              "    reino unido\n",
              "    <span style=\"font-size: 0.8em; font-weight: bold; line-height: 1; border-radius: 0.35em; vertical-align: middle; margin-left: 0.5rem\">LOC</span>\n",
              "</mark>\n",
              " \n",
              "<mark class=\"entity\" style=\"background: #ff9561; padding: 0.45em 0.6em; margin: 0 0.25em; line-height: 1; border-radius: 0.35em;\">\n",
              "    estados unidos\n",
              "    <span style=\"font-size: 0.8em; font-weight: bold; line-height: 1; border-radius: 0.35em; vertical-align: middle; margin-left: 0.5rem\">LOC</span>\n",
              "</mark>\n",
              " sugerem ia potencial transformar significativamente tratamento câncer mama entanto pesquisadores enfatizam importância expandir pesquisa incluindo países explorando diferentes sistemas ia alcançar entendimento abrangente tecnologia pode aproveitada detecção precoce câncer passo crucial direção futuro inteligência artificial profissionais saúde colaboram salvar vidas post ia identifica casos câncer mama médicos radiologistas apareceu primeiro ia expert academymundo onde impacto clima sentido diariamente previsões tempo acuradas rápidas consideradas cruciais tarefa projetos científicos antigos desafiadores modelos tratam problema geralmente aplicam chamada previsão numérica tempo nwp numerical weather prediction depende equações físicas bem definidas quais traduzidas algoritmos rodam supercomputadores apesar desta abordagem ter alcançado relativo sucesso desenvolvimento lento depende expertise profunda recursos computacionais onerosos avanço significativo pesquisadores deepmind \n",
              "<mark class=\"entity\" style=\"background: #7aecec; padding: 0.45em 0.6em; margin: 0 0.25em; line-height: 1; border-radius: 0.35em;\">\n",
              "    google\n",
              "    <span style=\"font-size: 0.8em; font-weight: bold; line-height: 1; border-radius: 0.35em; vertical-align: middle; margin-left: 0.5rem\">ORG</span>\n",
              "</mark>\n",
              " apresentaram modelo ia graphcast destacado artigo publicado \n",
              "<mark class=\"entity\" style=\"background: #ddd; padding: 0.45em 0.6em; margin: 0 0.25em; line-height: 1; border-radius: 0.35em;\">\n",
              "    revista science semana\n",
              "    <span style=\"font-size: 0.8em; font-weight: bold; line-height: 1; border-radius: 0.35em; vertical-align: middle; margin-left: 0.5rem\">MISC</span>\n",
              "</mark>\n",
              " passada graphcast destaca fornecer previsões meteorológicas médio alcance precisão precedentes superando padrão ouro indústria – sistema previsão alta resolução hres high-resolution forecast centro europeu previsões meteorológicas médio prazo ecmwf previsões modelo estendendo-se dias futuro rápidas precisas oferecendo alertas precoces eventos climáticos extremos ciclones rios atmosféricos temperaturas extremas abordagem graphcast combina aprendizado profundo métodos tradicionais nwp treinado décadas dados históricos clima modelo utiliza redes neurais gráficas gnns processar dados espacialmente estruturados operando impressionante resolução 0,25 graus longitude/latitude cada ponto nessa malha gigantesca modelo prediz cinco variáveis relevo incluindo temperatura velocidade direção vento pressão seis variáveis atmosféricas níveis altitude incluindo umidade específica velocidade direção vento temperatura eficiência modelo evidente pois produz previsões dias menos minuto única máquina google tpu v4 melhoria notável comparação métodos convencionais exigem horas computação supercomputadores avaliação abrangente desempenho comparação padrão indústria hres demonstra superioridade graphcast fornecendo previsões precisas variáveis teste tempos previsão região crucial troposfera onde previsões importantes graphcast superou hres impressionantes 99,7 variáveis teste clima futuro notavelmente modelo destaca identificação precoce eventos climáticos graves relação modelos tradicionais previsão mostrando potencial gerenciamento proativo desastres comprometida democratização previsão tempo equipe graphcast disponibilizou código modelo possibilitando acessibilidade global cientistas meteorologistas ecmwf implementou graphcast experimentos vivo site marcando passo rumo revolução previsão tempo todo mundo graphcast junto outros sistemas previsão tempo última geração incluindo \n",
              "<mark class=\"entity\" style=\"background: #7aecec; padding: 0.45em 0.6em; margin: 0 0.25em; line-height: 1; border-radius: 0.35em;\">\n",
              "    google\n",
              "    <span style=\"font-size: 0.8em; font-weight: bold; line-height: 1; border-radius: 0.35em; vertical-align: middle; margin-left: 0.5rem\">ORG</span>\n",
              "</mark>\n",
              " deepmind \n",
              "<mark class=\"entity\" style=\"background: #7aecec; padding: 0.45em 0.6em; margin: 0 0.25em; line-height: 1; border-radius: 0.35em;\">\n",
              "    google research\n",
              "    <span style=\"font-size: 0.8em; font-weight: bold; line-height: 1; border-radius: 0.35em; vertical-align: middle; margin-left: 0.5rem\">ORG</span>\n",
              "</mark>\n",
              " representa vanguarda papel ia formação futuro meteorologia conveniência diária impacto global previsão tempo impulsionada ia promete enfrentar desafios ambientais amplos clima constante mudança post \n",
              "<mark class=\"entity\" style=\"background: #7aecec; padding: 0.45em 0.6em; margin: 0 0.25em; line-height: 1; border-radius: 0.35em;\">\n",
              "    google\n",
              "    <span style=\"font-size: 0.8em; font-weight: bold; line-height: 1; border-radius: 0.35em; vertical-align: middle; margin-left: 0.5rem\">ORG</span>\n",
              "</mark>\n",
              " apresenta graphcast modelo ia revolucionário previsão tempo apareceu primeiro ia expert academyxai nova empresa elon musk foco inteligência artificial acaba anunciar \n",
              "<mark class=\"entity\" style=\"background: #ddd; padding: 0.45em 0.6em; margin: 0 0.25em; line-height: 1; border-radius: 0.35em;\">\n",
              "    grok\n",
              "    <span style=\"font-size: 0.8em; font-weight: bold; line-height: 1; border-radius: 0.35em; vertical-align: middle; margin-left: 0.5rem\">PER</span>\n",
              "</mark>\n",
              " llm proprietária empresa apresenta ferramenta companheiro ia versátil projetado atender indivíduos diversas origens perspectivas políticas alguns diferenciais sistema treinado tendo base série livros guia mochileiro galáxias confere personalidade sarcástica ter acesso conhecimento mundo tempo real graças comunicação \n",
              "<mark class=\"entity\" style=\"background: #ddd; padding: 0.45em 0.6em; margin: 0 0.25em; line-height: 1; border-radius: 0.35em;\">\n",
              "    x. grok\n",
              "    <span style=\"font-size: 0.8em; font-weight: bold; line-height: 1; border-radius: 0.35em; vertical-align: middle; margin-left: 0.5rem\">PER</span>\n",
              "</mark>\n",
              " impulsionado avançado motor \n",
              "<mark class=\"entity\" style=\"background: #ddd; padding: 0.45em 0.6em; margin: 0 0.25em; line-height: 1; border-radius: 0.35em;\">\n",
              "    grok-1\n",
              "    <span style=\"font-size: 0.8em; font-weight: bold; line-height: 1; border-radius: 0.35em; vertical-align: middle; margin-left: 0.5rem\">PER</span>\n",
              "</mark>\n",
              " passou desenvolvimento substancial últimos quatro meses jornada começou protótipo \n",
              "<mark class=\"entity\" style=\"background: #ddd; padding: 0.45em 0.6em; margin: 0 0.25em; line-height: 1; border-radius: 0.35em;\">\n",
              "    grok-0\n",
              "    <span style=\"font-size: 0.8em; font-weight: bold; line-height: 1; border-radius: 0.35em; vertical-align: middle; margin-left: 0.5rem\">MISC</span>\n",
              "</mark>\n",
              " modelo bilhões parâmetros aproximava capacidades llama utilizava apenas metade recursos treinamento evolução culminou \n",
              "<mark class=\"entity\" style=\"background: #ddd; padding: 0.45em 0.6em; margin: 0 0.25em; line-height: 1; border-radius: 0.35em;\">\n",
              "    grok-1\n",
              "    <span style=\"font-size: 0.8em; font-weight: bold; line-height: 1; border-radius: 0.35em; vertical-align: middle; margin-left: 0.5rem\">MISC</span>\n",
              "</mark>\n",
              " modelo linguagem ponta treinado apenas impressionantes meses alcançou resultados notáveis incluindo 63,2 tarefa codificação humaneval mmlu benchmark multidisciplinar ultrapassando modelos similares chatgpt-3.5 \n",
              "<mark class=\"entity\" style=\"background: #ddd; padding: 0.45em 0.6em; margin: 0 0.25em; line-height: 1; border-radius: 0.35em;\">\n",
              "    inflection-1\n",
              "    <span style=\"font-size: 0.8em; font-weight: bold; line-height: 1; border-radius: 0.35em; vertical-align: middle; margin-left: 0.5rem\">MISC</span>\n",
              "</mark>\n",
              " equipe desenvolvedora estabeleceu infraestrutura robusta usando kubernetes \n",
              "<mark class=\"entity\" style=\"background: #ddd; padding: 0.45em 0.6em; margin: 0 0.25em; line-height: 1; border-radius: 0.35em;\">\n",
              "    rust jax\n",
              "    <span style=\"font-size: 0.8em; font-weight: bold; line-height: 1; border-radius: 0.35em; vertical-align: middle; margin-left: 0.5rem\">PER</span>\n",
              "</mark>\n",
              " teste vida real envolveu avaliação manual \n",
              "<mark class=\"entity\" style=\"background: #ddd; padding: 0.45em 0.6em; margin: 0 0.25em; line-height: 1; border-radius: 0.35em;\">\n",
              "    grok-1\n",
              "    <span style=\"font-size: 0.8em; font-weight: bold; line-height: 1; border-radius: 0.35em; vertical-align: middle; margin-left: 0.5rem\">MISC</span>\n",
              "</mark>\n",
              " frente outras llms ponta \n",
              "<mark class=\"entity\" style=\"background: #ddd; padding: 0.45em 0.6em; margin: 0 0.25em; line-height: 1; border-radius: 0.35em;\">\n",
              "    claude-2\n",
              "    <span style=\"font-size: 0.8em; font-weight: bold; line-height: 1; border-radius: 0.35em; vertical-align: middle; margin-left: 0.5rem\">PER</span>\n",
              "</mark>\n",
              " modelos família gpt finais nacionais matemática hungria 2023. \n",
              "<mark class=\"entity\" style=\"background: #ddd; padding: 0.45em 0.6em; margin: 0 0.25em; line-height: 1; border-radius: 0.35em;\">\n",
              "    grok\n",
              "    <span style=\"font-size: 0.8em; font-weight: bold; line-height: 1; border-radius: 0.35em; vertical-align: middle; margin-left: 0.5rem\">PER</span>\n",
              "</mark>\n",
              " alcançou nota c ficando atrás apenas \n",
              "<mark class=\"entity\" style=\"background: #ddd; padding: 0.45em 0.6em; margin: 0 0.25em; line-height: 1; border-radius: 0.35em;\">\n",
              "    gpt-4\n",
              "    <span style=\"font-size: 0.8em; font-weight: bold; line-height: 1; border-radius: 0.35em; vertical-align: middle; margin-left: 0.5rem\">PER</span>\n",
              "</mark>\n",
              " treinado quantidade maior dados destacando capacidades cenário avaliação inesperado olhando futuro xai preparando próximo salto capacidades modelo exigindo coordenação execuções treinamento dezenas milhares aceleradores execução pipelines dados escala internet aprimoramento capacidades \n",
              "<mark class=\"entity\" style=\"background: #ddd; padding: 0.45em 0.6em; margin: 0 0.25em; line-height: 1; border-radius: 0.35em;\">\n",
              "    grok campo pesquisa\n",
              "    <span style=\"font-size: 0.8em; font-weight: bold; line-height: 1; border-radius: 0.35em; vertical-align: middle; margin-left: 0.5rem\">PER</span>\n",
              "</mark>\n",
              " xai reconhece importância abordar limitações sistemas atuais direções promissoras pesquisa incluem supervisão escalável assistência ferramentas integração verificação formal segurança confiabilidade compreensão recuperação longo contexto robustez adversarial desenvolvimento capacidades \n",
              "<mark class=\"entity\" style=\"background: #ddd; padding: 0.45em 0.6em; margin: 0 0.25em; line-height: 1; border-radius: 0.35em;\">\n",
              "    multimodais grok\n",
              "    <span style=\"font-size: 0.8em; font-weight: bold; line-height: 1; border-radius: 0.35em; vertical-align: middle; margin-left: 0.5rem\">PER</span>\n",
              "</mark>\n",
              " oferecer usuários experiência antecipada xai proporcionando número limitado usuários \n",
              "<mark class=\"entity\" style=\"background: #ff9561; padding: 0.45em 0.6em; margin: 0 0.25em; line-height: 1; border-radius: 0.35em;\">\n",
              "    estados unidos\n",
              "    <span style=\"font-size: 0.8em; font-weight: bold; line-height: 1; border-radius: 0.35em; vertical-align: middle; margin-left: 0.5rem\">LOC</span>\n",
              "</mark>\n",
              " acesso \n",
              "<mark class=\"entity\" style=\"background: #ddd; padding: 0.45em 0.6em; margin: 0 0.25em; line-height: 1; border-radius: 0.35em;\">\n",
              "    protótipo grok\n",
              "    <span style=\"font-size: 0.8em; font-weight: bold; line-height: 1; border-radius: 0.35em; vertical-align: middle; margin-left: 0.5rem\">PER</span>\n",
              "</mark>\n",
              " programa acesso antecipado convida usuários experimentar \n",
              "<mark class=\"entity\" style=\"background: #ddd; padding: 0.45em 0.6em; margin: 0 0.25em; line-height: 1; border-radius: 0.35em;\">\n",
              "    grok\n",
              "    <span style=\"font-size: 0.8em; font-weight: bold; line-height: 1; border-radius: 0.35em; vertical-align: middle; margin-left: 0.5rem\">PER</span>\n",
              "</mark>\n",
              " fornecer feedback moldando capacidades antes lançamento amplo post \n",
              "<mark class=\"entity\" style=\"background: #ddd; padding: 0.45em 0.6em; margin: 0 0.25em; line-height: 1; border-radius: 0.35em;\">\n",
              "    grok llm xai\n",
              "    <span style=\"font-size: 0.8em; font-weight: bold; line-height: 1; border-radius: 0.35em; vertical-align: middle; margin-left: 0.5rem\">PER</span>\n",
              "</mark>\n",
              " apareceu primeiro ia expert academyferramentas aplicam inteligência artificial finalidade prática cada vez próximas usuário entende programação evento \n",
              "<mark class=\"entity\" style=\"background: #ddd; padding: 0.45em 0.6em; margin: 0 0.25em; line-height: 1; border-radius: 0.35em;\">\n",
              "    adobe max\n",
              "    <span style=\"font-size: 0.8em; font-weight: bold; line-height: 1; border-radius: 0.35em; vertical-align: middle; margin-left: 0.5rem\">MISC</span>\n",
              "</mark>\n",
              " ocorreu mês passado exemplo \n",
              "<mark class=\"entity\" style=\"background: #ddd; padding: 0.45em 0.6em; margin: 0 0.25em; line-height: 1; border-radius: 0.35em;\">\n",
              "    adobe\n",
              "    <span style=\"font-size: 0.8em; font-weight: bold; line-height: 1; border-radius: 0.35em; vertical-align: middle; margin-left: 0.5rem\">MISC</span>\n",
              "</mark>\n",
              " anunciou project res-up ferramenta upscaling vídeo deve breve fazer parte suíte programas empresa objetivo project res-up ferramenta fácil converter vídeos baixa alta resolução utiliza modelos estado arte baseados difusão demonstração evento cientista empresa submeteu recorte vídeo interface simples tipo arrastar enviar cerca segundos resultado disponível aumento resolução vezes demonstração ferramenta project res-up evento \n",
              "<mark class=\"entity\" style=\"background: #ddd; padding: 0.45em 0.6em; margin: 0 0.25em; line-height: 1; border-radius: 0.35em;\">\n",
              "    adobe max foco\n",
              "    <span style=\"font-size: 0.8em; font-weight: bold; line-height: 1; border-radius: 0.35em; vertical-align: middle; margin-left: 0.5rem\">MISC</span>\n",
              "</mark>\n",
              " produto melhor qualidade vídeos antigos desfocados recortes zoom aceitando arquivos formato \n",
              "<mark class=\"entity\" style=\"background: #ddd; padding: 0.45em 0.6em; margin: 0 0.25em; line-height: 1; border-radius: 0.35em;\">\n",
              "    gif\n",
              "    <span style=\"font-size: 0.8em; font-weight: bold; line-height: 1; border-radius: 0.35em; vertical-align: middle; margin-left: 0.5rem\">MISC</span>\n",
              "</mark>\n",
              " versões resolução maior ficam nítidas telas hd representam padrão mercado atual enquanto project res-up segue projeto várias ideias apresentadas eventos anteriores empresa vieram tornar soluções disponíveis usuário popularidade ferramentas baseadas inteligência artificial seguro prever caminho provável novidade post project res-up solução ia adobe aumentar resolução vídeos apareceu primeiro ia expert academybusca desenvolver máquinas inteligentes capazes raciocinar seres humanos objetivo duradouro área inteligência artificial estudo recente publicado nature traz perspectiva inovadora sugerir chave criar modelos ia flexíveis capacidade raciocínio humano pode forma modelos treinados vez simplesmente quantidade dados treinamento recebem composicionalidade capacidade combinar informações maneira criativa princípios fundamentais cognição humana permite exemplo criar receitas únicas partir ingredientes familiares forma genérica compreender frases nunca vimos antes entanto replicar capacidade ia sido desafio modelos avançados família \n",
              "<mark class=\"entity\" style=\"background: #7aecec; padding: 0.45em 0.6em; margin: 0 0.25em; line-height: 1; border-radius: 0.35em;\">\n",
              "    gpt\n",
              "    <span style=\"font-size: 0.8em; font-weight: bold; line-height: 1; border-radius: 0.35em; vertical-align: middle; margin-left: 0.5rem\">ORG</span>\n",
              "</mark>\n",
              " têm dificuldade alcançar verdadeira composicionalidade estudo publicado adota abordagem diferente vez criar novo modelo ia zero pesquisadores utilizaram modelo transformer padrão semelhante usados gpt treinamento prévio texto chave forma conduziram processo treinamento desenvolveram linguagem fictícia palavras significado “ dax ” “ lug ” “ kiki ” “ fep ” “ blicket ” relacionadas conjuntos pontos coloridos modelo ia treinado compreender regras dessa linguagem fictícia informações explícitas sobre associações palavras pontos coloridos modelo treinado dessa forma superou humanos testes compreensão dessa linguagem fictícia atingindo precisão melhor performance enquanto humanos alcançaram precisão avaliado mesma tarefa gpt-4 somente acertos descoberta desafia ideia predominante aumentar quantidade dados treinamento único caminho melhorar ia sugere protocolos treinamento específicos direcionados podem alternativa eficaz aprimorar capacidade raciocínio generalização modelos ia entanto importante reconhecer estudo possui limitações modelo treinado destacou tarefa específica ainda enfrenta desafios novas formas generalização atingiu nível inteligência artificial geral onde ia superaria habilidades humanas maioria tarefas pesquisa oferece visão empolgante futuro inteligência artificial destacando importância manter expectativas realistas relação capacidades atuais ia embora promissora ia ainda limites entender limitações fundamental medida continuamos explorar potencial post novo método treinamento ajuda inteligência artificial generalizar humanos apareceu primeiro ia expert academyprevisão séries temporais desempenha papel crucial várias aplicações mundo real vão desde previsão demanda análise propagação pandemias campo previsão séries temporais multivariadas testemunhou duas categorias principais modelos univariados multivariados modelos univariados focam captura tendências padrões sazonais séries temporais variável única enquanto modelos multivariados forma redes neurais estendem capacidades processar informações cruzadas variáveis diferentes fornecendo insights sobre interações variáveis comparações duas abordagens levantaram paradoxo intrigante modelos multivariados avançados frequentemente têm desempenho inferior modelos lineares univariados simples benchmarks previsão longo prazo levantando questões sobre importância informação cruzada previsão séries temporais resposta desafio equipe google ai introduziu solução batizada time-series mixer tsmixer tsmixer abordagem inovadora aproveita pontos fortes modelos lineares enquanto incorpora eficientemente informações cruzadas através transformer modificado resultando modelo rivaliza desempenho melhores modelos univariados benchmarks previsão longo prazo principais diferenças modelos lineares arquiteturas baseadas transformers forma capturam padrões temporais modelos lineares utilizam pesos fixos dependentes passo tempo enquanto transformers têm pesos dinâmicos dependentes dados processados meio mecanismos atenção tsmixer preenche lacuna combinando duas abordagens substituir camadas atenção transformer camadas lineares resultados empíricos prova habilidade tsmixer supera outros modelos multivariados equipara melhores modelos univariados avaliado relação conjuntos dados populares previsão longo prazo demonstra modelos multivariados bem projetados podem igualar desempenho homólogos univariados modelo destaca aplicações onde informação cruzada menos benéfica demonstrado sucesso diversos benchmarks previsão longo prazo entanto mostra força desafiado conjuntos dados complexos realistas benchmark m5 exige incorporação informações cruzadas recursos auxiliares compreensão interações intricadas variáveis unir pontos fortes modelos lineares adaptabilidade arquiteturas baseadas transformers tsmixer oferece novas possibilidades desenvolvimento modelos previsão séries temporais anúncio modelo acompanha artigo detalhes técnicos post tsmixer solução \n",
              "<mark class=\"entity\" style=\"background: #ddd; padding: 0.45em 0.6em; margin: 0 0.25em; line-height: 1; border-radius: 0.35em;\">\n",
              "    google une modelos lineares redes neurais\n",
              "    <span style=\"font-size: 0.8em; font-weight: bold; line-height: 1; border-radius: 0.35em; vertical-align: middle; margin-left: 0.5rem\">MISC</span>\n",
              "</mark>\n",
              " previsões séries temporais apareceu primeiro ia expert academy</div></span>"
            ]
          },
          "metadata": {}
        }
      ]
    },
    {
      "cell_type": "code",
      "metadata": {
        "colab": {
          "base_uri": "https://localhost:8080/"
        },
        "id": "tV82sJpQOSjp",
        "outputId": "e6c9c70e-3c48-463e-a414-39169acfe179"
      },
      "source": [
        "# Mostrando as entidades de localização que estão no texto\n",
        "for entidade in documento.ents:\n",
        "  if entidade.label_ == 'LOC':\n",
        "    print(entidade.text, entidade.label_)"
      ],
      "execution_count": 104,
      "outputs": [
        {
          "output_type": "stream",
          "name": "stdout",
          "text": [
            "osaka japão LOC\n",
            "la disney pixar gama LOC\n",
            "\\n\\n LOC\n",
            "\\n\\n LOC\n",
            "\\n\\n LOC\n",
            "\\n\\n LOC\n",
            "hungria LOC\n",
            "reino unido LOC\n",
            "reino unido LOC\n",
            "estados unidos LOC\n",
            "estados unidos LOC\n"
          ]
        }
      ]
    },
    {
      "cell_type": "markdown",
      "metadata": {
        "id": "R-8iCpI4JxxN"
      },
      "source": [
        "## Sumarização de artigos de feed de notícias"
      ]
    },
    {
      "cell_type": "code",
      "metadata": {
        "id": "KgEvVBHRP2Cg"
      },
      "source": [
        "# Faz a sumarização de cada artigo do feed\n",
        "for artigo in artigos_blog:\n",
        "  sentencas_originais, melhores_sentencas, _ = sumarizar(artigo['conteudo'], 150, 10, 5)\n",
        "  #visualiza_resumo(artigo['titulo'], sentencas_originais, melhores_sentencas)\n",
        "  salva_resumo(artigo['titulo'], sentencas_originais, melhores_sentencas)"
      ],
      "execution_count": 111,
      "outputs": []
    },
    {
      "cell_type": "markdown",
      "metadata": {
        "id": "DmlRMr-BPi5O"
      },
      "source": [
        "## Geração de arquivos HTML"
      ]
    },
    {
      "cell_type": "code",
      "metadata": {
        "id": "bapgkUOQRByc"
      },
      "source": [
        "# Função para salvar os textos formatados no formato HTML\n",
        "def salva_resumo(titulo, lista_sentencas, melhores_sentencas):\n",
        "  # Cabeçalho e parte inicial de uma arquivo HTML\n",
        "  HTML_TEMPLATE = \"\"\"\n",
        "  <html>\n",
        "    <head>\n",
        "      <title>{0}</title>\n",
        "      <meta http-equiv=\"Content-Type\" content=\"text/html; charset=UTF-8\" />\n",
        "    </head>\n",
        "    <body>{1}</body>\n",
        "\n",
        "  </html> \"\"\"\n",
        "\n",
        "  # Colocando a parte do texto com as palavras importantes e o resto do conteúdo\n",
        "  texto = ''\n",
        "  for i in lista_sentencas:\n",
        "    if i in melhores_sentencas:\n",
        "      texto += f'<mark>{i}</mark>'\n",
        "\n",
        "  # Cria um arquivo com o conteúdo e palavras destacadas no corpo do HTML\n",
        "  with open(os.path.join(titulo + '.html'), 'wb') as arquivo:\n",
        "    html = HTML_TEMPLATE.format(titulo + ' - resumo', texto)\n",
        "    arquivo.write(html.encode('utf-8'))"
      ],
      "execution_count": 110,
      "outputs": []
    },
    {
      "cell_type": "markdown",
      "metadata": {
        "id": "qgmFWaTe8sm7"
      },
      "source": [
        "## Solução para o exercício - lematização"
      ]
    },
    {
      "cell_type": "code",
      "metadata": {
        "id": "C0I2fOXv86x_"
      },
      "source": [
        "# Função que aplica a lematização no texto, como já visto em outras aulas, agora com spacy\n",
        "def preprocessamento_lematizacao(texto):\n",
        "  texto = texto.lower()\n",
        "  texto = re.sub(r\" +\", ' ', texto)\n",
        "\n",
        "  documento = pln(texto)\n",
        "  tokens = []\n",
        "  for token in documento:\n",
        "    tokens.append(token.lemma_)\n",
        "\n",
        "  tokens = [palavra for palavra in tokens if palavra not in stopwords and palavra not in string.punctuation]\n",
        "  texto_formatado = ' '.join([str(elemento) for elemento in tokens if not elemento.isdigit()])\n",
        "\n",
        "  return texto_formatado"
      ],
      "execution_count": 113,
      "outputs": []
    },
    {
      "cell_type": "code",
      "metadata": {
        "id": "8glgYVqi9LPC"
      },
      "source": [
        "# Função para gerar o resumo do texto, agora com spacy\n",
        "def sumarizar_lematizacao(texto, top_n_palavras, distancia, quantidade_sentencas):\n",
        "  sentencas_originais = [sentenca for sentenca in nltk.sent_tokenize(texto)]\n",
        "  sentencas_formatadas = [preprocessamento_lematizacao(sentenca_original) for sentenca_original in sentencas_originais]\n",
        "  palavras = [palavra.lower() for sentenca in sentencas_formatadas for palavra in nltk.tokenize.word_tokenize(sentenca)]\n",
        "  frequencia = nltk.FreqDist(palavras)\n",
        "  top_palavras = [palavra[0] for palavra in frequencia.most_common(top_n_palavras)]\n",
        "  notas_sentencas = calcula_nota_sentenca(sentencas_formatadas, top_palavras, distancia)\n",
        "  melhores_sentencas = heapq.nlargest(quantidade_sentencas, notas_sentencas)\n",
        "  melhores_sentencas = [sentencas_originais[i] for (nota, i) in melhores_sentencas]\n",
        "\n",
        "  return sentencas_originais, melhores_sentencas, notas_sentencas"
      ],
      "execution_count": 114,
      "outputs": []
    },
    {
      "cell_type": "code",
      "metadata": {
        "colab": {
          "base_uri": "https://localhost:8080/",
          "height": 157
        },
        "id": "iB7Rf_sX9bCx",
        "outputId": "a151a238-057b-4e89-d2ee-12f63d936fd8"
      },
      "source": [
        "# Contrúdo do primeiro artigo\n",
        "artigos_blog[0]['conteudo']"
      ],
      "execution_count": 117,
      "outputs": [
        {
          "output_type": "execute_result",
          "data": {
            "text/plain": [
              "'No dinâmico cruzamento entre inteligência artificial e neurociência, uma das áreas mais fascinantes e desafiadoras corresponde à geração de informação estruturada a partir da atividade cerebral. Um estudo publicado por pesquisadores associados à Universidade de Osaka, no Japão, apresenta resultados inéditos para a reconstrução de imagens mentais, vistas ou imaginadas, em representações visuais, literalmente traduzindo pensamentos.\\n\\n\\n\\nO estudo utiliza a decodificação neural, uma técnica que traduz a atividade cerebral medida por ressonância magnética funcional (fMRI) em representações visuais. Estudos anteriores reconstruíram com sucesso domínios específicos, como rostos humanos, letras escritas à mão e imagens binárias. O que diferencia este estudo é a incorporação de redes neurais profundas (DNNs) e modelos generativos, alcançando uma reconstrução de imagem natural de maior fidelidade.\\n\\n\\n\\nPara enfrentar o desafio de externalizar a imaginação mental, os pesquisadores ampliaram um método anterior para um cenário de estimação bayesiana. Ao contrário dos métodos tradicionais que dependem fortemente de informações visuais de baixo nível, esta abordagem bayesiana permite a incorporação de conhecimentos prévios sofisticados de estudos recentes de visão computacional. O algoritmo de dinâmica estocástica de Langevin (SGLD) foi introduzido para amostragem da distribuição posterior, superando as limitações da estimação bayesiana tradicional na decodificação neural.\\n\\n\\n\\nOutra inovação chave envolve a integração de informações semânticas usando um modelo de pré-treinamento contrastivo de linguagem-imagem (CLIP). Ao traduzir sinais cerebrais em características semânticas fornecidas pelo CLIP, o estudo aprimora o processo de reconstrução de imagem. Esta assistência semântica compensa a falta de informações visuais de baixo nível, contribuindo para a reconstrução bem-sucedida de imagens vistas e imaginadas.\\n\\n\\n\\nOs pesquisadores aplicaram a abordagem para reconstruir imagens vistas e imaginadas, demonstrando resultados superiores em comparação com métodos anteriores: 91 e 76% de acurácia respectivamente, contra 64 e 50% reportados por outros estudos. O método proposto superou em termos de qualidade visual, precisão de identificação e pontuações de Inception. Além disso, o framework mostrou notável capacidade de generalização ao reconstruir com sucesso formas artificiais. Alguns exemplos são apresentados no artigo.\\n\\n\\n\\nAs implicações deste estudo se estendem além do campo da decodificação neural. O framework apresentado aqui abre caminhos para interfaces cérebro-máquina, onde pensamentos espontâneos podem ser decodificados e reconstruídos. Além disso, é evidente a possibilidade de devolver a pessoas incapacitadas a habilidade de se comunicar apenas com o pensamento.\\n\\n\\n\\nEm conclusão, a integração da estimação bayesiana, assistência semântica e algoritmos inovadores de aprendizado de máquina impulsionou o campo da decodificação neural a novos patamares. Este estudo marca um marco significativo na visualização de imagens subjetivas na mente humana, mostrando o potencial para entender processos cognitivos complexos e aplicações práticas em interfaces cérebro-máquina.\\nO post Novo método apresenta resultados inéditos para reconstrução de imagens mentais a partir de atividade cerebral apareceu primeiro em IA Expert Academy.'"
            ],
            "application/vnd.google.colaboratory.intrinsic+json": {
              "type": "string"
            }
          },
          "metadata": {},
          "execution_count": 117
        }
      ]
    },
    {
      "cell_type": "code",
      "metadata": {
        "colab": {
          "base_uri": "https://localhost:8080/",
          "height": 491
        },
        "id": "Miu7vFqC9lrO",
        "outputId": "8909bd45-1320-49c1-a9ac-3aa2aaaa0829"
      },
      "source": [
        "# Aplicando a sumarização e vizualização original\n",
        "sentencas_originais, melhores_sentencas, _ = sumarizar(artigos_blog[0]['conteudo'], 300, 5, 5)\n",
        "visualiza_resumo(artigos_blog[0]['titulo'], sentencas_originais, melhores_sentencas)"
      ],
      "execution_count": 118,
      "outputs": [
        {
          "output_type": "display_data",
          "data": {
            "text/plain": [
              "<IPython.core.display.HTML object>"
            ],
            "text/html": [
              "<h1>Resumo do texto - Novo método apresenta resultados inéditos para reconstrução de imagens mentais a partir de atividade cerebral</h1>"
            ]
          },
          "metadata": {}
        },
        {
          "output_type": "display_data",
          "data": {
            "text/plain": [
              "<IPython.core.display.HTML object>"
            ],
            "text/html": [
              " No dinâmico cruzamento entre inteligência artificial e neurociência, uma das áreas mais fascinantes e desafiadoras corresponde à geração de informação estruturada a partir da atividade cerebral.<mark>Um estudo publicado por pesquisadores associados à Universidade de Osaka, no Japão, apresenta resultados inéditos para a reconstrução de imagens mentais, vistas ou imaginadas, em representações visuais, literalmente traduzindo pensamentos.</mark>O estudo utiliza a decodificação neural, uma técnica que traduz a atividade cerebral medida por ressonância magnética funcional (fMRI) em representações visuais.Estudos anteriores reconstruíram com sucesso domínios específicos, como rostos humanos, letras escritas à mão e imagens binárias.O que diferencia este estudo é a incorporação de redes neurais profundas (DNNs) e modelos generativos, alcançando uma reconstrução de imagem natural de maior fidelidade.Para enfrentar o desafio de externalizar a imaginação mental, os pesquisadores ampliaram um método anterior para um cenário de estimação bayesiana.<mark>Ao contrário dos métodos tradicionais que dependem fortemente de informações visuais de baixo nível, esta abordagem bayesiana permite a incorporação de conhecimentos prévios sofisticados de estudos recentes de visão computacional.</mark>O algoritmo de dinâmica estocástica de Langevin (SGLD) foi introduzido para amostragem da distribuição posterior, superando as limitações da estimação bayesiana tradicional na decodificação neural.Outra inovação chave envolve a integração de informações semânticas usando um modelo de pré-treinamento contrastivo de linguagem-imagem (CLIP).Ao traduzir sinais cerebrais em características semânticas fornecidas pelo CLIP, o estudo aprimora o processo de reconstrução de imagem.Esta assistência semântica compensa a falta de informações visuais de baixo nível, contribuindo para a reconstrução bem-sucedida de imagens vistas e imaginadas.<mark>Os pesquisadores aplicaram a abordagem para reconstruir imagens vistas e imaginadas, demonstrando resultados superiores em comparação com métodos anteriores: 91 e 76% de acurácia respectivamente, contra 64 e 50% reportados por outros estudos.</mark>O método proposto superou em termos de qualidade visual, precisão de identificação e pontuações de Inception.Além disso, o framework mostrou notável capacidade de generalização ao reconstruir com sucesso formas artificiais.Alguns exemplos são apresentados no artigo.As implicações deste estudo se estendem além do campo da decodificação neural.O framework apresentado aqui abre caminhos para interfaces cérebro-máquina, onde pensamentos espontâneos podem ser decodificados e reconstruídos.Além disso, é evidente a possibilidade de devolver a pessoas incapacitadas a habilidade de se comunicar apenas com o pensamento.Em conclusão, a integração da estimação bayesiana, assistência semântica e algoritmos inovadores de aprendizado de máquina impulsionou o campo da decodificação neural a novos patamares.<mark>Este estudo marca um marco significativo na visualização de imagens subjetivas na mente humana, mostrando o potencial para entender processos cognitivos complexos e aplicações práticas em interfaces cérebro-máquina.</mark><mark>O post Novo método apresenta resultados inéditos para reconstrução de imagens mentais a partir de atividade cerebral apareceu primeiro em IA Expert Academy.</mark> "
            ]
          },
          "metadata": {}
        }
      ]
    },
    {
      "cell_type": "code",
      "metadata": {
        "colab": {
          "base_uri": "https://localhost:8080/",
          "height": 491
        },
        "id": "3s6uzl2395Z_",
        "outputId": "e7dc92d0-2711-4169-dbf1-eabc14c678fd"
      },
      "source": [
        "# Aplicando a sumarização e vizualização com spacy\n",
        "sentencas_originais, melhores_sentencas, _ = sumarizar_lematizacao(artigos_blog[0]['conteudo'], 300, 5, 5)\n",
        "visualiza_resumo(artigos_blog[0]['titulo'], sentencas_originais, melhores_sentencas)"
      ],
      "execution_count": 119,
      "outputs": [
        {
          "output_type": "display_data",
          "data": {
            "text/plain": [
              "<IPython.core.display.HTML object>"
            ],
            "text/html": [
              "<h1>Resumo do texto - Novo método apresenta resultados inéditos para reconstrução de imagens mentais a partir de atividade cerebral</h1>"
            ]
          },
          "metadata": {}
        },
        {
          "output_type": "display_data",
          "data": {
            "text/plain": [
              "<IPython.core.display.HTML object>"
            ],
            "text/html": [
              " No dinâmico cruzamento entre inteligência artificial e neurociência, uma das áreas mais fascinantes e desafiadoras corresponde à geração de informação estruturada a partir da atividade cerebral.<mark>Um estudo publicado por pesquisadores associados à Universidade de Osaka, no Japão, apresenta resultados inéditos para a reconstrução de imagens mentais, vistas ou imaginadas, em representações visuais, literalmente traduzindo pensamentos.</mark>O estudo utiliza a decodificação neural, uma técnica que traduz a atividade cerebral medida por ressonância magnética funcional (fMRI) em representações visuais.Estudos anteriores reconstruíram com sucesso domínios específicos, como rostos humanos, letras escritas à mão e imagens binárias.O que diferencia este estudo é a incorporação de redes neurais profundas (DNNs) e modelos generativos, alcançando uma reconstrução de imagem natural de maior fidelidade.Para enfrentar o desafio de externalizar a imaginação mental, os pesquisadores ampliaram um método anterior para um cenário de estimação bayesiana.<mark>Ao contrário dos métodos tradicionais que dependem fortemente de informações visuais de baixo nível, esta abordagem bayesiana permite a incorporação de conhecimentos prévios sofisticados de estudos recentes de visão computacional.</mark><mark>O algoritmo de dinâmica estocástica de Langevin (SGLD) foi introduzido para amostragem da distribuição posterior, superando as limitações da estimação bayesiana tradicional na decodificação neural.</mark>Outra inovação chave envolve a integração de informações semânticas usando um modelo de pré-treinamento contrastivo de linguagem-imagem (CLIP).Ao traduzir sinais cerebrais em características semânticas fornecidas pelo CLIP, o estudo aprimora o processo de reconstrução de imagem.Esta assistência semântica compensa a falta de informações visuais de baixo nível, contribuindo para a reconstrução bem-sucedida de imagens vistas e imaginadas.<mark>Os pesquisadores aplicaram a abordagem para reconstruir imagens vistas e imaginadas, demonstrando resultados superiores em comparação com métodos anteriores: 91 e 76% de acurácia respectivamente, contra 64 e 50% reportados por outros estudos.</mark>O método proposto superou em termos de qualidade visual, precisão de identificação e pontuações de Inception.Além disso, o framework mostrou notável capacidade de generalização ao reconstruir com sucesso formas artificiais.Alguns exemplos são apresentados no artigo.As implicações deste estudo se estendem além do campo da decodificação neural.O framework apresentado aqui abre caminhos para interfaces cérebro-máquina, onde pensamentos espontâneos podem ser decodificados e reconstruídos.Além disso, é evidente a possibilidade de devolver a pessoas incapacitadas a habilidade de se comunicar apenas com o pensamento.Em conclusão, a integração da estimação bayesiana, assistência semântica e algoritmos inovadores de aprendizado de máquina impulsionou o campo da decodificação neural a novos patamares.<mark>Este estudo marca um marco significativo na visualização de imagens subjetivas na mente humana, mostrando o potencial para entender processos cognitivos complexos e aplicações práticas em interfaces cérebro-máquina.</mark>O post Novo método apresenta resultados inéditos para reconstrução de imagens mentais a partir de atividade cerebral apareceu primeiro em IA Expert Academy. "
            ]
          },
          "metadata": {}
        }
      ]
    }
  ]
}